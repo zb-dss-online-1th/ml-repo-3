{
 "cells": [
  {
   "cell_type": "code",
   "execution_count": 1,
   "metadata": {},
   "outputs": [],
   "source": [
    "import pandas as pd\n",
    "from sklearn.model_selection import train_test_split\n",
    "import seaborn as sns\n",
    "import matplotlib.pyplot as plt\n",
    "import statsmodels.api as sm\n",
    "import numpy as np \n",
    "from sklearn import linear_model\n",
    "import seaborn as seabornInstance\n",
    "from sklearn.linear_model import LinearRegression\n",
    "from sklearn import metrics\n",
    "import plotly.graph_objects as go\n",
    "%matplotlib inline\n"
   ]
  },
  {
   "cell_type": "code",
   "execution_count": 2,
   "metadata": {},
   "outputs": [],
   "source": [
    "bowling_m=pd.read_excel('bowling_ml_letsgo.xlsx')"
   ]
  },
  {
   "cell_type": "code",
   "execution_count": 3,
   "metadata": {},
   "outputs": [
    {
     "data": {
      "text/html": [
       "<div>\n",
       "<style scoped>\n",
       "    .dataframe tbody tr th:only-of-type {\n",
       "        vertical-align: middle;\n",
       "    }\n",
       "\n",
       "    .dataframe tbody tr th {\n",
       "        vertical-align: top;\n",
       "    }\n",
       "\n",
       "    .dataframe thead th {\n",
       "        text-align: right;\n",
       "    }\n",
       "</style>\n",
       "<table border=\"1\" class=\"dataframe\">\n",
       "  <thead>\n",
       "    <tr style=\"text-align: right;\">\n",
       "      <th></th>\n",
       "      <th>Unnamed: 0</th>\n",
       "      <th>height</th>\n",
       "      <th>exp</th>\n",
       "      <th>pro_exp</th>\n",
       "      <th>birth</th>\n",
       "      <th>weight</th>\n",
       "      <th>ball_pound</th>\n",
       "      <th>left_hand</th>\n",
       "      <th>right_hand</th>\n",
       "      <th>cranker</th>\n",
       "      <th>stroker</th>\n",
       "      <th>twohanded</th>\n",
       "      <th>thumbless</th>\n",
       "      <th>CON_ST</th>\n",
       "      <th>L_READ</th>\n",
       "      <th>OVERCOME</th>\n",
       "      <th>SPARE_SUC</th>\n",
       "      <th>TOT_AVG</th>\n",
       "    </tr>\n",
       "  </thead>\n",
       "  <tbody>\n",
       "    <tr>\n",
       "      <th>0</th>\n",
       "      <td>0</td>\n",
       "      <td>180</td>\n",
       "      <td>23</td>\n",
       "      <td>3</td>\n",
       "      <td>1986-07-03</td>\n",
       "      <td>60</td>\n",
       "      <td>15.0</td>\n",
       "      <td>1</td>\n",
       "      <td>0</td>\n",
       "      <td>1</td>\n",
       "      <td>0</td>\n",
       "      <td>0</td>\n",
       "      <td>0</td>\n",
       "      <td>4.400000</td>\n",
       "      <td>-9.000000</td>\n",
       "      <td>0.652252</td>\n",
       "      <td>0.811789</td>\n",
       "      <td>215.800000</td>\n",
       "    </tr>\n",
       "    <tr>\n",
       "      <th>1</th>\n",
       "      <td>1</td>\n",
       "      <td>173</td>\n",
       "      <td>22</td>\n",
       "      <td>3</td>\n",
       "      <td>1984-10-03</td>\n",
       "      <td>79</td>\n",
       "      <td>15.0</td>\n",
       "      <td>0</td>\n",
       "      <td>1</td>\n",
       "      <td>1</td>\n",
       "      <td>0</td>\n",
       "      <td>0</td>\n",
       "      <td>0</td>\n",
       "      <td>5.750000</td>\n",
       "      <td>-9.750000</td>\n",
       "      <td>0.687281</td>\n",
       "      <td>0.659609</td>\n",
       "      <td>246.000000</td>\n",
       "    </tr>\n",
       "    <tr>\n",
       "      <th>2</th>\n",
       "      <td>2</td>\n",
       "      <td>179</td>\n",
       "      <td>13</td>\n",
       "      <td>4</td>\n",
       "      <td>1993-10-24</td>\n",
       "      <td>130</td>\n",
       "      <td>15.0</td>\n",
       "      <td>0</td>\n",
       "      <td>1</td>\n",
       "      <td>1</td>\n",
       "      <td>0</td>\n",
       "      <td>0</td>\n",
       "      <td>0</td>\n",
       "      <td>2.750000</td>\n",
       "      <td>-9.250000</td>\n",
       "      <td>0.475010</td>\n",
       "      <td>0.542429</td>\n",
       "      <td>190.500000</td>\n",
       "    </tr>\n",
       "    <tr>\n",
       "      <th>3</th>\n",
       "      <td>3</td>\n",
       "      <td>175</td>\n",
       "      <td>10</td>\n",
       "      <td>8</td>\n",
       "      <td>1981-08-01</td>\n",
       "      <td>72</td>\n",
       "      <td>15.0</td>\n",
       "      <td>0</td>\n",
       "      <td>1</td>\n",
       "      <td>1</td>\n",
       "      <td>0</td>\n",
       "      <td>0</td>\n",
       "      <td>0</td>\n",
       "      <td>4.000000</td>\n",
       "      <td>-8.750000</td>\n",
       "      <td>0.455561</td>\n",
       "      <td>0.768218</td>\n",
       "      <td>212.500000</td>\n",
       "    </tr>\n",
       "    <tr>\n",
       "      <th>4</th>\n",
       "      <td>5</td>\n",
       "      <td>174</td>\n",
       "      <td>26</td>\n",
       "      <td>10</td>\n",
       "      <td>1976-09-28</td>\n",
       "      <td>74</td>\n",
       "      <td>15.0</td>\n",
       "      <td>0</td>\n",
       "      <td>1</td>\n",
       "      <td>1</td>\n",
       "      <td>0</td>\n",
       "      <td>0</td>\n",
       "      <td>0</td>\n",
       "      <td>3.333333</td>\n",
       "      <td>-8.666667</td>\n",
       "      <td>0.783212</td>\n",
       "      <td>0.624562</td>\n",
       "      <td>198.333333</td>\n",
       "    </tr>\n",
       "  </tbody>\n",
       "</table>\n",
       "</div>"
      ],
      "text/plain": [
       "   Unnamed: 0  height  exp  pro_exp       birth  weight  ball_pound  \\\n",
       "0           0     180   23        3  1986-07-03      60        15.0   \n",
       "1           1     173   22        3  1984-10-03      79        15.0   \n",
       "2           2     179   13        4  1993-10-24     130        15.0   \n",
       "3           3     175   10        8  1981-08-01      72        15.0   \n",
       "4           5     174   26       10  1976-09-28      74        15.0   \n",
       "\n",
       "   left_hand  right_hand  cranker  stroker  twohanded  thumbless    CON_ST  \\\n",
       "0          1           0        1        0          0          0  4.400000   \n",
       "1          0           1        1        0          0          0  5.750000   \n",
       "2          0           1        1        0          0          0  2.750000   \n",
       "3          0           1        1        0          0          0  4.000000   \n",
       "4          0           1        1        0          0          0  3.333333   \n",
       "\n",
       "     L_READ  OVERCOME  SPARE_SUC     TOT_AVG  \n",
       "0 -9.000000  0.652252   0.811789  215.800000  \n",
       "1 -9.750000  0.687281   0.659609  246.000000  \n",
       "2 -9.250000  0.475010   0.542429  190.500000  \n",
       "3 -8.750000  0.455561   0.768218  212.500000  \n",
       "4 -8.666667  0.783212   0.624562  198.333333  "
      ]
     },
     "execution_count": 3,
     "metadata": {},
     "output_type": "execute_result"
    }
   ],
   "source": [
    "bowling_m.head()"
   ]
  },
  {
   "cell_type": "code",
   "execution_count": 4,
   "metadata": {},
   "outputs": [],
   "source": [
    "bowling_m_2=bowling_m.drop(['Unnamed: 0','birth'],axis=1)"
   ]
  },
  {
   "cell_type": "code",
   "execution_count": 6,
   "metadata": {},
   "outputs": [
    {
     "data": {
      "text/html": [
       "<div>\n",
       "<style scoped>\n",
       "    .dataframe tbody tr th:only-of-type {\n",
       "        vertical-align: middle;\n",
       "    }\n",
       "\n",
       "    .dataframe tbody tr th {\n",
       "        vertical-align: top;\n",
       "    }\n",
       "\n",
       "    .dataframe thead th {\n",
       "        text-align: right;\n",
       "    }\n",
       "</style>\n",
       "<table border=\"1\" class=\"dataframe\">\n",
       "  <thead>\n",
       "    <tr style=\"text-align: right;\">\n",
       "      <th></th>\n",
       "      <th>height</th>\n",
       "      <th>exp</th>\n",
       "      <th>pro_exp</th>\n",
       "      <th>weight</th>\n",
       "      <th>ball_pound</th>\n",
       "      <th>left_hand</th>\n",
       "      <th>right_hand</th>\n",
       "      <th>cranker</th>\n",
       "      <th>stroker</th>\n",
       "      <th>twohanded</th>\n",
       "      <th>thumbless</th>\n",
       "      <th>CON_ST</th>\n",
       "      <th>L_READ</th>\n",
       "      <th>OVERCOME</th>\n",
       "      <th>SPARE_SUC</th>\n",
       "      <th>TOT_AVG</th>\n",
       "    </tr>\n",
       "  </thead>\n",
       "  <tbody>\n",
       "    <tr>\n",
       "      <th>0</th>\n",
       "      <td>180</td>\n",
       "      <td>23</td>\n",
       "      <td>3</td>\n",
       "      <td>60</td>\n",
       "      <td>15.0</td>\n",
       "      <td>1</td>\n",
       "      <td>0</td>\n",
       "      <td>1</td>\n",
       "      <td>0</td>\n",
       "      <td>0</td>\n",
       "      <td>0</td>\n",
       "      <td>4.400000</td>\n",
       "      <td>-9.000000</td>\n",
       "      <td>0.652252</td>\n",
       "      <td>0.811789</td>\n",
       "      <td>215.800000</td>\n",
       "    </tr>\n",
       "    <tr>\n",
       "      <th>1</th>\n",
       "      <td>173</td>\n",
       "      <td>22</td>\n",
       "      <td>3</td>\n",
       "      <td>79</td>\n",
       "      <td>15.0</td>\n",
       "      <td>0</td>\n",
       "      <td>1</td>\n",
       "      <td>1</td>\n",
       "      <td>0</td>\n",
       "      <td>0</td>\n",
       "      <td>0</td>\n",
       "      <td>5.750000</td>\n",
       "      <td>-9.750000</td>\n",
       "      <td>0.687281</td>\n",
       "      <td>0.659609</td>\n",
       "      <td>246.000000</td>\n",
       "    </tr>\n",
       "    <tr>\n",
       "      <th>2</th>\n",
       "      <td>179</td>\n",
       "      <td>13</td>\n",
       "      <td>4</td>\n",
       "      <td>130</td>\n",
       "      <td>15.0</td>\n",
       "      <td>0</td>\n",
       "      <td>1</td>\n",
       "      <td>1</td>\n",
       "      <td>0</td>\n",
       "      <td>0</td>\n",
       "      <td>0</td>\n",
       "      <td>2.750000</td>\n",
       "      <td>-9.250000</td>\n",
       "      <td>0.475010</td>\n",
       "      <td>0.542429</td>\n",
       "      <td>190.500000</td>\n",
       "    </tr>\n",
       "    <tr>\n",
       "      <th>3</th>\n",
       "      <td>175</td>\n",
       "      <td>10</td>\n",
       "      <td>8</td>\n",
       "      <td>72</td>\n",
       "      <td>15.0</td>\n",
       "      <td>0</td>\n",
       "      <td>1</td>\n",
       "      <td>1</td>\n",
       "      <td>0</td>\n",
       "      <td>0</td>\n",
       "      <td>0</td>\n",
       "      <td>4.000000</td>\n",
       "      <td>-8.750000</td>\n",
       "      <td>0.455561</td>\n",
       "      <td>0.768218</td>\n",
       "      <td>212.500000</td>\n",
       "    </tr>\n",
       "    <tr>\n",
       "      <th>4</th>\n",
       "      <td>174</td>\n",
       "      <td>26</td>\n",
       "      <td>10</td>\n",
       "      <td>74</td>\n",
       "      <td>15.0</td>\n",
       "      <td>0</td>\n",
       "      <td>1</td>\n",
       "      <td>1</td>\n",
       "      <td>0</td>\n",
       "      <td>0</td>\n",
       "      <td>0</td>\n",
       "      <td>3.333333</td>\n",
       "      <td>-8.666667</td>\n",
       "      <td>0.783212</td>\n",
       "      <td>0.624562</td>\n",
       "      <td>198.333333</td>\n",
       "    </tr>\n",
       "  </tbody>\n",
       "</table>\n",
       "</div>"
      ],
      "text/plain": [
       "   height  exp  pro_exp  weight  ball_pound  left_hand  right_hand  cranker  \\\n",
       "0     180   23        3      60        15.0          1           0        1   \n",
       "1     173   22        3      79        15.0          0           1        1   \n",
       "2     179   13        4     130        15.0          0           1        1   \n",
       "3     175   10        8      72        15.0          0           1        1   \n",
       "4     174   26       10      74        15.0          0           1        1   \n",
       "\n",
       "   stroker  twohanded  thumbless    CON_ST    L_READ  OVERCOME  SPARE_SUC  \\\n",
       "0        0          0          0  4.400000 -9.000000  0.652252   0.811789   \n",
       "1        0          0          0  5.750000 -9.750000  0.687281   0.659609   \n",
       "2        0          0          0  2.750000 -9.250000  0.475010   0.542429   \n",
       "3        0          0          0  4.000000 -8.750000  0.455561   0.768218   \n",
       "4        0          0          0  3.333333 -8.666667  0.783212   0.624562   \n",
       "\n",
       "      TOT_AVG  \n",
       "0  215.800000  \n",
       "1  246.000000  \n",
       "2  190.500000  \n",
       "3  212.500000  \n",
       "4  198.333333  "
      ]
     },
     "execution_count": 6,
     "metadata": {},
     "output_type": "execute_result"
    }
   ],
   "source": [
    "bowling_m_2.head()"
   ]
  },
  {
   "cell_type": "markdown",
   "metadata": {},
   "source": [
    "---\n",
    "## ☛ 1. columns의 모든 피처를 사용해도 괜찮을까?\n",
    "---"
   ]
  },
  {
   "cell_type": "code",
   "execution_count": 5,
   "metadata": {},
   "outputs": [],
   "source": [
    "X=bowling_m_2.drop(['TOT_AVG'],axis=1)\n",
    "y=bowling_m_2['TOT_AVG']"
   ]
  },
  {
   "cell_type": "code",
   "execution_count": 6,
   "metadata": {},
   "outputs": [],
   "source": [
    "X_train, X_test, y_train, y_test = train_test_split(X,y,test_size=0.2, random_state=13)"
   ]
  },
  {
   "cell_type": "code",
   "execution_count": 7,
   "metadata": {},
   "outputs": [
    {
     "name": "stderr",
     "output_type": "stream",
     "text": [
      "c:\\Users\\user\\Anaconda3\\envs\\ds_study\\lib\\site-packages\\scipy\\stats\\stats.py:1541: UserWarning: kurtosistest only valid for n>=20 ... continuing anyway, n=15\n",
      "  warnings.warn(\"kurtosistest only valid for n>=20 ... continuing \"\n"
     ]
    },
    {
     "data": {
      "text/html": [
       "<table class=\"simpletable\">\n",
       "<caption>OLS Regression Results</caption>\n",
       "<tr>\n",
       "  <th>Dep. Variable:</th>         <td>TOT_AVG</td>     <th>  R-squared:         </th> <td>   0.911</td>\n",
       "</tr>\n",
       "<tr>\n",
       "  <th>Model:</th>                   <td>OLS</td>       <th>  Adj. R-squared:    </th> <td>   0.689</td>\n",
       "</tr>\n",
       "<tr>\n",
       "  <th>Method:</th>             <td>Least Squares</td>  <th>  F-statistic:       </th> <td>   4.098</td>\n",
       "</tr>\n",
       "<tr>\n",
       "  <th>Date:</th>             <td>Wed, 11 May 2022</td> <th>  Prob (F-statistic):</th>  <td>0.0932</td> \n",
       "</tr>\n",
       "<tr>\n",
       "  <th>Time:</th>                 <td>19:04:20</td>     <th>  Log-Likelihood:    </th> <td> -42.685</td>\n",
       "</tr>\n",
       "<tr>\n",
       "  <th>No. Observations:</th>      <td>    15</td>      <th>  AIC:               </th> <td>   107.4</td>\n",
       "</tr>\n",
       "<tr>\n",
       "  <th>Df Residuals:</th>          <td>     4</td>      <th>  BIC:               </th> <td>   115.2</td>\n",
       "</tr>\n",
       "<tr>\n",
       "  <th>Df Model:</th>              <td>    10</td>      <th>                     </th>     <td> </td>   \n",
       "</tr>\n",
       "<tr>\n",
       "  <th>Covariance Type:</th>      <td>nonrobust</td>    <th>                     </th>     <td> </td>   \n",
       "</tr>\n",
       "</table>\n",
       "<table class=\"simpletable\">\n",
       "<tr>\n",
       "       <td></td>         <th>coef</th>     <th>std err</th>      <th>t</th>      <th>P>|t|</th>  <th>[0.025</th>    <th>0.975]</th>  \n",
       "</tr>\n",
       "<tr>\n",
       "  <th>height</th>     <td>   -0.9109</td> <td>    0.708</td> <td>   -1.287</td> <td> 0.268</td> <td>   -2.877</td> <td>    1.055</td>\n",
       "</tr>\n",
       "<tr>\n",
       "  <th>exp</th>        <td>   -0.5386</td> <td>    0.399</td> <td>   -1.350</td> <td> 0.248</td> <td>   -1.647</td> <td>    0.569</td>\n",
       "</tr>\n",
       "<tr>\n",
       "  <th>pro_exp</th>    <td>   -0.1518</td> <td>    0.580</td> <td>   -0.262</td> <td> 0.806</td> <td>   -1.761</td> <td>    1.457</td>\n",
       "</tr>\n",
       "<tr>\n",
       "  <th>weight</th>     <td>   -0.1938</td> <td>    0.171</td> <td>   -1.130</td> <td> 0.322</td> <td>   -0.670</td> <td>    0.282</td>\n",
       "</tr>\n",
       "<tr>\n",
       "  <th>ball_pound</th> <td>   13.7175</td> <td>   13.825</td> <td>    0.992</td> <td> 0.377</td> <td>  -24.667</td> <td>   52.102</td>\n",
       "</tr>\n",
       "<tr>\n",
       "  <th>left_hand</th>  <td>   35.7400</td> <td>   77.926</td> <td>    0.459</td> <td> 0.670</td> <td> -180.616</td> <td>  252.096</td>\n",
       "</tr>\n",
       "<tr>\n",
       "  <th>right_hand</th> <td>   34.6696</td> <td>   80.230</td> <td>    0.432</td> <td> 0.688</td> <td> -188.086</td> <td>  257.425</td>\n",
       "</tr>\n",
       "<tr>\n",
       "  <th>cranker</th>    <td>   70.4096</td> <td>  158.023</td> <td>    0.446</td> <td> 0.679</td> <td> -368.333</td> <td>  509.153</td>\n",
       "</tr>\n",
       "<tr>\n",
       "  <th>stroker</th>    <td> 3.847e-14</td> <td> 9.69e-14</td> <td>    0.397</td> <td> 0.712</td> <td>-2.31e-13</td> <td> 3.08e-13</td>\n",
       "</tr>\n",
       "<tr>\n",
       "  <th>twohanded</th>  <td>-8.539e-16</td> <td> 1.44e-15</td> <td>   -0.592</td> <td> 0.586</td> <td>-4.86e-15</td> <td> 3.15e-15</td>\n",
       "</tr>\n",
       "<tr>\n",
       "  <th>thumbless</th>  <td>         0</td> <td>        0</td> <td>      nan</td> <td>   nan</td> <td>        0</td> <td>        0</td>\n",
       "</tr>\n",
       "<tr>\n",
       "  <th>CON_ST</th>     <td>   11.1882</td> <td>    5.129</td> <td>    2.181</td> <td> 0.095</td> <td>   -3.053</td> <td>   25.430</td>\n",
       "</tr>\n",
       "<tr>\n",
       "  <th>L_READ</th>     <td>   -2.8043</td> <td>    4.218</td> <td>   -0.665</td> <td> 0.543</td> <td>  -14.515</td> <td>    8.907</td>\n",
       "</tr>\n",
       "<tr>\n",
       "  <th>OVERCOME</th>   <td>   22.4597</td> <td>   14.361</td> <td>    1.564</td> <td> 0.193</td> <td>  -17.413</td> <td>   62.332</td>\n",
       "</tr>\n",
       "<tr>\n",
       "  <th>SPARE_SUC</th>  <td>    7.9967</td> <td>   24.804</td> <td>    0.322</td> <td> 0.763</td> <td>  -60.869</td> <td>   76.863</td>\n",
       "</tr>\n",
       "</table>\n",
       "<table class=\"simpletable\">\n",
       "<tr>\n",
       "  <th>Omnibus:</th>       <td> 0.655</td> <th>  Durbin-Watson:     </th> <td>   2.444</td>\n",
       "</tr>\n",
       "<tr>\n",
       "  <th>Prob(Omnibus):</th> <td> 0.721</td> <th>  Jarque-Bera (JB):  </th> <td>   0.675</td>\n",
       "</tr>\n",
       "<tr>\n",
       "  <th>Skew:</th>          <td>-0.327</td> <th>  Prob(JB):          </th> <td>   0.714</td>\n",
       "</tr>\n",
       "<tr>\n",
       "  <th>Kurtosis:</th>      <td> 2.192</td> <th>  Cond. No.          </th> <td>3.06e+20</td>\n",
       "</tr>\n",
       "</table><br/><br/>Notes:<br/>[1] Standard Errors assume that the covariance matrix of the errors is correctly specified.<br/>[2] The smallest eigenvalue is 6.21e-36. This might indicate that there are<br/>strong multicollinearity problems or that the design matrix is singular."
      ],
      "text/plain": [
       "<class 'statsmodels.iolib.summary.Summary'>\n",
       "\"\"\"\n",
       "                            OLS Regression Results                            \n",
       "==============================================================================\n",
       "Dep. Variable:                TOT_AVG   R-squared:                       0.911\n",
       "Model:                            OLS   Adj. R-squared:                  0.689\n",
       "Method:                 Least Squares   F-statistic:                     4.098\n",
       "Date:                Wed, 11 May 2022   Prob (F-statistic):             0.0932\n",
       "Time:                        19:04:20   Log-Likelihood:                -42.685\n",
       "No. Observations:                  15   AIC:                             107.4\n",
       "Df Residuals:                       4   BIC:                             115.2\n",
       "Df Model:                          10                                         \n",
       "Covariance Type:            nonrobust                                         \n",
       "==============================================================================\n",
       "                 coef    std err          t      P>|t|      [0.025      0.975]\n",
       "------------------------------------------------------------------------------\n",
       "height        -0.9109      0.708     -1.287      0.268      -2.877       1.055\n",
       "exp           -0.5386      0.399     -1.350      0.248      -1.647       0.569\n",
       "pro_exp       -0.1518      0.580     -0.262      0.806      -1.761       1.457\n",
       "weight        -0.1938      0.171     -1.130      0.322      -0.670       0.282\n",
       "ball_pound    13.7175     13.825      0.992      0.377     -24.667      52.102\n",
       "left_hand     35.7400     77.926      0.459      0.670    -180.616     252.096\n",
       "right_hand    34.6696     80.230      0.432      0.688    -188.086     257.425\n",
       "cranker       70.4096    158.023      0.446      0.679    -368.333     509.153\n",
       "stroker     3.847e-14   9.69e-14      0.397      0.712   -2.31e-13    3.08e-13\n",
       "twohanded  -8.539e-16   1.44e-15     -0.592      0.586   -4.86e-15    3.15e-15\n",
       "thumbless           0          0        nan        nan           0           0\n",
       "CON_ST        11.1882      5.129      2.181      0.095      -3.053      25.430\n",
       "L_READ        -2.8043      4.218     -0.665      0.543     -14.515       8.907\n",
       "OVERCOME      22.4597     14.361      1.564      0.193     -17.413      62.332\n",
       "SPARE_SUC      7.9967     24.804      0.322      0.763     -60.869      76.863\n",
       "==============================================================================\n",
       "Omnibus:                        0.655   Durbin-Watson:                   2.444\n",
       "Prob(Omnibus):                  0.721   Jarque-Bera (JB):                0.675\n",
       "Skew:                          -0.327   Prob(JB):                        0.714\n",
       "Kurtosis:                       2.192   Cond. No.                     3.06e+20\n",
       "==============================================================================\n",
       "\n",
       "Notes:\n",
       "[1] Standard Errors assume that the covariance matrix of the errors is correctly specified.\n",
       "[2] The smallest eigenvalue is 6.21e-36. This might indicate that there are\n",
       "strong multicollinearity problems or that the design matrix is singular.\n",
       "\"\"\""
      ]
     },
     "execution_count": 7,
     "metadata": {},
     "output_type": "execute_result"
    }
   ],
   "source": [
    "lm= sm.OLS(y_train, X_train).fit()\n",
    "lm.summary()"
   ]
  },
  {
   "cell_type": "code",
   "execution_count": 8,
   "metadata": {},
   "outputs": [],
   "source": [
    "# 4개의 생성 피처만 넣으면?\n",
    "\n",
    "X=bowling_m_2[['CON_ST','L_READ','OVERCOME','SPARE_SUC']]\n",
    "y=bowling_m_2['TOT_AVG']"
   ]
  },
  {
   "cell_type": "code",
   "execution_count": 9,
   "metadata": {},
   "outputs": [
    {
     "name": "stderr",
     "output_type": "stream",
     "text": [
      "c:\\Users\\user\\Anaconda3\\envs\\ds_study\\lib\\site-packages\\scipy\\stats\\stats.py:1541: UserWarning: kurtosistest only valid for n>=20 ... continuing anyway, n=15\n",
      "  warnings.warn(\"kurtosistest only valid for n>=20 ... continuing \"\n"
     ]
    },
    {
     "data": {
      "text/html": [
       "<table class=\"simpletable\">\n",
       "<caption>OLS Regression Results</caption>\n",
       "<tr>\n",
       "  <th>Dep. Variable:</th>         <td>TOT_AVG</td>     <th>  R-squared (uncentered):</th>      <td>   0.998</td>\n",
       "</tr>\n",
       "<tr>\n",
       "  <th>Model:</th>                   <td>OLS</td>       <th>  Adj. R-squared (uncentered):</th> <td>   0.997</td>\n",
       "</tr>\n",
       "<tr>\n",
       "  <th>Method:</th>             <td>Least Squares</td>  <th>  F-statistic:       </th>          <td>   1476.</td>\n",
       "</tr>\n",
       "<tr>\n",
       "  <th>Date:</th>             <td>Wed, 11 May 2022</td> <th>  Prob (F-statistic):</th>          <td>6.22e-15</td>\n",
       "</tr>\n",
       "<tr>\n",
       "  <th>Time:</th>                 <td>19:04:30</td>     <th>  Log-Likelihood:    </th>          <td> -54.768</td>\n",
       "</tr>\n",
       "<tr>\n",
       "  <th>No. Observations:</th>      <td>    15</td>      <th>  AIC:               </th>          <td>   117.5</td>\n",
       "</tr>\n",
       "<tr>\n",
       "  <th>Df Residuals:</th>          <td>    11</td>      <th>  BIC:               </th>          <td>   120.4</td>\n",
       "</tr>\n",
       "<tr>\n",
       "  <th>Df Model:</th>              <td>     4</td>      <th>                     </th>              <td> </td>   \n",
       "</tr>\n",
       "<tr>\n",
       "  <th>Covariance Type:</th>      <td>nonrobust</td>    <th>                     </th>              <td> </td>   \n",
       "</tr>\n",
       "</table>\n",
       "<table class=\"simpletable\">\n",
       "<tr>\n",
       "      <td></td>         <th>coef</th>     <th>std err</th>      <th>t</th>      <th>P>|t|</th>  <th>[0.025</th>    <th>0.975]</th>  \n",
       "</tr>\n",
       "<tr>\n",
       "  <th>CON_ST</th>    <td>   10.9726</td> <td>    3.689</td> <td>    2.974</td> <td> 0.013</td> <td>    2.853</td> <td>   19.092</td>\n",
       "</tr>\n",
       "<tr>\n",
       "  <th>L_READ</th>    <td>  -13.0948</td> <td>    2.285</td> <td>   -5.731</td> <td> 0.000</td> <td>  -18.124</td> <td>   -8.066</td>\n",
       "</tr>\n",
       "<tr>\n",
       "  <th>OVERCOME</th>  <td>   37.1912</td> <td>   15.789</td> <td>    2.355</td> <td> 0.038</td> <td>    2.439</td> <td>   71.943</td>\n",
       "</tr>\n",
       "<tr>\n",
       "  <th>SPARE_SUC</th> <td>   41.7445</td> <td>   23.022</td> <td>    1.813</td> <td> 0.097</td> <td>   -8.926</td> <td>   92.415</td>\n",
       "</tr>\n",
       "</table>\n",
       "<table class=\"simpletable\">\n",
       "<tr>\n",
       "  <th>Omnibus:</th>       <td> 2.409</td> <th>  Durbin-Watson:     </th> <td>   2.712</td>\n",
       "</tr>\n",
       "<tr>\n",
       "  <th>Prob(Omnibus):</th> <td> 0.300</td> <th>  Jarque-Bera (JB):  </th> <td>   1.283</td>\n",
       "</tr>\n",
       "<tr>\n",
       "  <th>Skew:</th>          <td> 0.716</td> <th>  Prob(JB):          </th> <td>   0.527</td>\n",
       "</tr>\n",
       "<tr>\n",
       "  <th>Kurtosis:</th>      <td> 2.972</td> <th>  Cond. No.          </th> <td>    82.7</td>\n",
       "</tr>\n",
       "</table><br/><br/>Notes:<br/>[1] R² is computed without centering (uncentered) since the model does not contain a constant.<br/>[2] Standard Errors assume that the covariance matrix of the errors is correctly specified."
      ],
      "text/plain": [
       "<class 'statsmodels.iolib.summary.Summary'>\n",
       "\"\"\"\n",
       "                                 OLS Regression Results                                \n",
       "=======================================================================================\n",
       "Dep. Variable:                TOT_AVG   R-squared (uncentered):                   0.998\n",
       "Model:                            OLS   Adj. R-squared (uncentered):              0.997\n",
       "Method:                 Least Squares   F-statistic:                              1476.\n",
       "Date:                Wed, 11 May 2022   Prob (F-statistic):                    6.22e-15\n",
       "Time:                        19:04:30   Log-Likelihood:                         -54.768\n",
       "No. Observations:                  15   AIC:                                      117.5\n",
       "Df Residuals:                      11   BIC:                                      120.4\n",
       "Df Model:                           4                                                  \n",
       "Covariance Type:            nonrobust                                                  \n",
       "==============================================================================\n",
       "                 coef    std err          t      P>|t|      [0.025      0.975]\n",
       "------------------------------------------------------------------------------\n",
       "CON_ST        10.9726      3.689      2.974      0.013       2.853      19.092\n",
       "L_READ       -13.0948      2.285     -5.731      0.000     -18.124      -8.066\n",
       "OVERCOME      37.1912     15.789      2.355      0.038       2.439      71.943\n",
       "SPARE_SUC     41.7445     23.022      1.813      0.097      -8.926      92.415\n",
       "==============================================================================\n",
       "Omnibus:                        2.409   Durbin-Watson:                   2.712\n",
       "Prob(Omnibus):                  0.300   Jarque-Bera (JB):                1.283\n",
       "Skew:                           0.716   Prob(JB):                        0.527\n",
       "Kurtosis:                       2.972   Cond. No.                         82.7\n",
       "==============================================================================\n",
       "\n",
       "Notes:\n",
       "[1] R² is computed without centering (uncentered) since the model does not contain a constant.\n",
       "[2] Standard Errors assume that the covariance matrix of the errors is correctly specified.\n",
       "\"\"\""
      ]
     },
     "execution_count": 9,
     "metadata": {},
     "output_type": "execute_result"
    }
   ],
   "source": [
    "X_train, X_test, y_train, y_test = train_test_split(X,y,test_size=0.2, random_state=13)\n",
    "lm= sm.OLS(y_train, X_train).fit()\n",
    "lm.summary()"
   ]
  },
  {
   "cell_type": "code",
   "execution_count": 10,
   "metadata": {},
   "outputs": [
    {
     "name": "stderr",
     "output_type": "stream",
     "text": [
      "c:\\Users\\user\\Anaconda3\\envs\\ds_study\\lib\\site-packages\\scipy\\stats\\stats.py:1541: UserWarning: kurtosistest only valid for n>=20 ... continuing anyway, n=15\n",
      "  warnings.warn(\"kurtosistest only valid for n>=20 ... continuing \"\n",
      "c:\\Users\\user\\Anaconda3\\envs\\ds_study\\lib\\site-packages\\statsmodels\\regression\\linear_model.py:1918: RuntimeWarning: divide by zero encountered in double_scalars\n",
      "  return np.sqrt(eigvals[0]/eigvals[-1])\n"
     ]
    },
    {
     "data": {
      "text/html": [
       "<table class=\"simpletable\">\n",
       "<caption>OLS Regression Results</caption>\n",
       "<tr>\n",
       "  <th>Dep. Variable:</th>         <td>TOT_AVG</td>     <th>  R-squared:         </th> <td>   0.716</td>\n",
       "</tr>\n",
       "<tr>\n",
       "  <th>Model:</th>                   <td>OLS</td>       <th>  Adj. R-squared:    </th> <td>   0.503</td>\n",
       "</tr>\n",
       "<tr>\n",
       "  <th>Method:</th>             <td>Least Squares</td>  <th>  F-statistic:       </th> <td>   3.365</td>\n",
       "</tr>\n",
       "<tr>\n",
       "  <th>Date:</th>             <td>Wed, 11 May 2022</td> <th>  Prob (F-statistic):</th>  <td>0.0584</td> \n",
       "</tr>\n",
       "<tr>\n",
       "  <th>Time:</th>                 <td>19:04:41</td>     <th>  Log-Likelihood:    </th> <td> -51.389</td>\n",
       "</tr>\n",
       "<tr>\n",
       "  <th>No. Observations:</th>      <td>    15</td>      <th>  AIC:               </th> <td>   116.8</td>\n",
       "</tr>\n",
       "<tr>\n",
       "  <th>Df Residuals:</th>          <td>     8</td>      <th>  BIC:               </th> <td>   121.7</td>\n",
       "</tr>\n",
       "<tr>\n",
       "  <th>Df Model:</th>              <td>     6</td>      <th>                     </th>     <td> </td>   \n",
       "</tr>\n",
       "<tr>\n",
       "  <th>Covariance Type:</th>      <td>nonrobust</td>    <th>                     </th>     <td> </td>   \n",
       "</tr>\n",
       "</table>\n",
       "<table class=\"simpletable\">\n",
       "<tr>\n",
       "       <td></td>         <th>coef</th>     <th>std err</th>      <th>t</th>      <th>P>|t|</th>  <th>[0.025</th>    <th>0.975]</th>  \n",
       "</tr>\n",
       "<tr>\n",
       "  <th>height</th>     <td>   -0.4949</td> <td>    0.874</td> <td>   -0.566</td> <td> 0.587</td> <td>   -2.510</td> <td>    1.520</td>\n",
       "</tr>\n",
       "<tr>\n",
       "  <th>exp</th>        <td>   -0.3364</td> <td>    0.447</td> <td>   -0.753</td> <td> 0.473</td> <td>   -1.366</td> <td>    0.694</td>\n",
       "</tr>\n",
       "<tr>\n",
       "  <th>pro_exp</th>    <td>   -0.3060</td> <td>    0.691</td> <td>   -0.443</td> <td> 0.670</td> <td>   -1.899</td> <td>    1.287</td>\n",
       "</tr>\n",
       "<tr>\n",
       "  <th>weight</th>     <td>   -0.3878</td> <td>    0.177</td> <td>   -2.195</td> <td> 0.059</td> <td>   -0.795</td> <td>    0.020</td>\n",
       "</tr>\n",
       "<tr>\n",
       "  <th>ball_pound</th> <td>   34.4853</td> <td>   10.833</td> <td>    3.183</td> <td> 0.013</td> <td>    9.503</td> <td>   59.467</td>\n",
       "</tr>\n",
       "<tr>\n",
       "  <th>left_hand</th>  <td>  -55.2378</td> <td>   80.057</td> <td>   -0.690</td> <td> 0.510</td> <td> -239.848</td> <td>  129.373</td>\n",
       "</tr>\n",
       "<tr>\n",
       "  <th>right_hand</th> <td>  -63.5086</td> <td>   81.641</td> <td>   -0.778</td> <td> 0.459</td> <td> -251.773</td> <td>  124.756</td>\n",
       "</tr>\n",
       "<tr>\n",
       "  <th>cranker</th>    <td> -118.7464</td> <td>  161.576</td> <td>   -0.735</td> <td> 0.483</td> <td> -491.340</td> <td>  253.848</td>\n",
       "</tr>\n",
       "<tr>\n",
       "  <th>stroker</th>    <td>         0</td> <td>        0</td> <td>      nan</td> <td>   nan</td> <td>        0</td> <td>        0</td>\n",
       "</tr>\n",
       "<tr>\n",
       "  <th>twohanded</th>  <td>         0</td> <td>        0</td> <td>      nan</td> <td>   nan</td> <td>        0</td> <td>        0</td>\n",
       "</tr>\n",
       "<tr>\n",
       "  <th>thumbless</th>  <td>         0</td> <td>        0</td> <td>      nan</td> <td>   nan</td> <td>        0</td> <td>        0</td>\n",
       "</tr>\n",
       "</table>\n",
       "<table class=\"simpletable\">\n",
       "<tr>\n",
       "  <th>Omnibus:</th>       <td> 1.245</td> <th>  Durbin-Watson:     </th> <td>   2.626</td>\n",
       "</tr>\n",
       "<tr>\n",
       "  <th>Prob(Omnibus):</th> <td> 0.537</td> <th>  Jarque-Bera (JB):  </th> <td>   0.922</td>\n",
       "</tr>\n",
       "<tr>\n",
       "  <th>Skew:</th>          <td> 0.333</td> <th>  Prob(JB):          </th> <td>   0.631</td>\n",
       "</tr>\n",
       "<tr>\n",
       "  <th>Kurtosis:</th>      <td> 1.984</td> <th>  Cond. No.          </th> <td>     inf</td>\n",
       "</tr>\n",
       "</table><br/><br/>Notes:<br/>[1] Standard Errors assume that the covariance matrix of the errors is correctly specified.<br/>[2] The smallest eigenvalue is      0. This might indicate that there are<br/>strong multicollinearity problems or that the design matrix is singular."
      ],
      "text/plain": [
       "<class 'statsmodels.iolib.summary.Summary'>\n",
       "\"\"\"\n",
       "                            OLS Regression Results                            \n",
       "==============================================================================\n",
       "Dep. Variable:                TOT_AVG   R-squared:                       0.716\n",
       "Model:                            OLS   Adj. R-squared:                  0.503\n",
       "Method:                 Least Squares   F-statistic:                     3.365\n",
       "Date:                Wed, 11 May 2022   Prob (F-statistic):             0.0584\n",
       "Time:                        19:04:41   Log-Likelihood:                -51.389\n",
       "No. Observations:                  15   AIC:                             116.8\n",
       "Df Residuals:                       8   BIC:                             121.7\n",
       "Df Model:                           6                                         \n",
       "Covariance Type:            nonrobust                                         \n",
       "==============================================================================\n",
       "                 coef    std err          t      P>|t|      [0.025      0.975]\n",
       "------------------------------------------------------------------------------\n",
       "height        -0.4949      0.874     -0.566      0.587      -2.510       1.520\n",
       "exp           -0.3364      0.447     -0.753      0.473      -1.366       0.694\n",
       "pro_exp       -0.3060      0.691     -0.443      0.670      -1.899       1.287\n",
       "weight        -0.3878      0.177     -2.195      0.059      -0.795       0.020\n",
       "ball_pound    34.4853     10.833      3.183      0.013       9.503      59.467\n",
       "left_hand    -55.2378     80.057     -0.690      0.510    -239.848     129.373\n",
       "right_hand   -63.5086     81.641     -0.778      0.459    -251.773     124.756\n",
       "cranker     -118.7464    161.576     -0.735      0.483    -491.340     253.848\n",
       "stroker             0          0        nan        nan           0           0\n",
       "twohanded           0          0        nan        nan           0           0\n",
       "thumbless           0          0        nan        nan           0           0\n",
       "==============================================================================\n",
       "Omnibus:                        1.245   Durbin-Watson:                   2.626\n",
       "Prob(Omnibus):                  0.537   Jarque-Bera (JB):                0.922\n",
       "Skew:                           0.333   Prob(JB):                        0.631\n",
       "Kurtosis:                       1.984   Cond. No.                          inf\n",
       "==============================================================================\n",
       "\n",
       "Notes:\n",
       "[1] Standard Errors assume that the covariance matrix of the errors is correctly specified.\n",
       "[2] The smallest eigenvalue is      0. This might indicate that there are\n",
       "strong multicollinearity problems or that the design matrix is singular.\n",
       "\"\"\""
      ]
     },
     "execution_count": 10,
     "metadata": {},
     "output_type": "execute_result"
    }
   ],
   "source": [
    "# 4개외의 피처만 넣으면?\n",
    "\n",
    "X=bowling_m_2.drop(['CON_ST','L_READ','OVERCOME','SPARE_SUC','TOT_AVG'],axis=1)\n",
    "y=bowling_m_2['TOT_AVG']\n",
    "\n",
    "X_train, X_test, y_train, y_test = train_test_split(X,y,test_size=0.2, random_state=13)\n",
    "lm= sm.OLS(y_train, X_train).fit()\n",
    "lm.summary()"
   ]
  },
  {
   "cell_type": "code",
   "execution_count": 11,
   "metadata": {},
   "outputs": [
    {
     "name": "stderr",
     "output_type": "stream",
     "text": [
      "c:\\Users\\user\\Anaconda3\\envs\\ds_study\\lib\\site-packages\\scipy\\stats\\stats.py:1541: UserWarning: kurtosistest only valid for n>=20 ... continuing anyway, n=15\n",
      "  warnings.warn(\"kurtosistest only valid for n>=20 ... continuing \"\n"
     ]
    },
    {
     "data": {
      "text/html": [
       "<table class=\"simpletable\">\n",
       "<caption>OLS Regression Results</caption>\n",
       "<tr>\n",
       "  <th>Dep. Variable:</th>         <td>TOT_AVG</td>     <th>  R-squared (uncentered):</th>      <td>   0.999</td>\n",
       "</tr>\n",
       "<tr>\n",
       "  <th>Model:</th>                   <td>OLS</td>       <th>  Adj. R-squared (uncentered):</th> <td>   0.999</td>\n",
       "</tr>\n",
       "<tr>\n",
       "  <th>Method:</th>             <td>Least Squares</td>  <th>  F-statistic:       </th>          <td>   2042.</td>\n",
       "</tr>\n",
       "<tr>\n",
       "  <th>Date:</th>             <td>Wed, 11 May 2022</td> <th>  Prob (F-statistic):</th>          <td>1.05e-14</td>\n",
       "</tr>\n",
       "<tr>\n",
       "  <th>Time:</th>                 <td>19:05:22</td>     <th>  Log-Likelihood:    </th>          <td> -49.954</td>\n",
       "</tr>\n",
       "<tr>\n",
       "  <th>No. Observations:</th>      <td>    15</td>      <th>  AIC:               </th>          <td>   109.9</td>\n",
       "</tr>\n",
       "<tr>\n",
       "  <th>Df Residuals:</th>          <td>    10</td>      <th>  BIC:               </th>          <td>   113.4</td>\n",
       "</tr>\n",
       "<tr>\n",
       "  <th>Df Model:</th>              <td>     5</td>      <th>                     </th>              <td> </td>   \n",
       "</tr>\n",
       "<tr>\n",
       "  <th>Covariance Type:</th>      <td>nonrobust</td>    <th>                     </th>              <td> </td>   \n",
       "</tr>\n",
       "</table>\n",
       "<table class=\"simpletable\">\n",
       "<tr>\n",
       "       <td></td>         <th>coef</th>     <th>std err</th>      <th>t</th>      <th>P>|t|</th>  <th>[0.025</th>    <th>0.975]</th>  \n",
       "</tr>\n",
       "<tr>\n",
       "  <th>CON_ST</th>     <td>    8.8888</td> <td>    2.892</td> <td>    3.074</td> <td> 0.012</td> <td>    2.446</td> <td>   15.332</td>\n",
       "</tr>\n",
       "<tr>\n",
       "  <th>L_READ</th>     <td>   -4.0375</td> <td>    3.484</td> <td>   -1.159</td> <td> 0.273</td> <td>  -11.800</td> <td>    3.725</td>\n",
       "</tr>\n",
       "<tr>\n",
       "  <th>OVERCOME</th>   <td>   24.8931</td> <td>   12.693</td> <td>    1.961</td> <td> 0.078</td> <td>   -3.390</td> <td>   53.176</td>\n",
       "</tr>\n",
       "<tr>\n",
       "  <th>SPARE_SUC</th>  <td>   25.1769</td> <td>   18.366</td> <td>    1.371</td> <td> 0.200</td> <td>  -15.745</td> <td>   66.099</td>\n",
       "</tr>\n",
       "<tr>\n",
       "  <th>ball_pound</th> <td>    7.2455</td> <td>    2.415</td> <td>    3.000</td> <td> 0.013</td> <td>    1.865</td> <td>   12.626</td>\n",
       "</tr>\n",
       "</table>\n",
       "<table class=\"simpletable\">\n",
       "<tr>\n",
       "  <th>Omnibus:</th>       <td> 1.343</td> <th>  Durbin-Watson:     </th> <td>   2.076</td>\n",
       "</tr>\n",
       "<tr>\n",
       "  <th>Prob(Omnibus):</th> <td> 0.511</td> <th>  Jarque-Bera (JB):  </th> <td>   0.918</td>\n",
       "</tr>\n",
       "<tr>\n",
       "  <th>Skew:</th>          <td> 0.292</td> <th>  Prob(JB):          </th> <td>   0.632</td>\n",
       "</tr>\n",
       "<tr>\n",
       "  <th>Kurtosis:</th>      <td> 1.937</td> <th>  Cond. No.          </th> <td>    159.</td>\n",
       "</tr>\n",
       "</table><br/><br/>Notes:<br/>[1] R² is computed without centering (uncentered) since the model does not contain a constant.<br/>[2] Standard Errors assume that the covariance matrix of the errors is correctly specified."
      ],
      "text/plain": [
       "<class 'statsmodels.iolib.summary.Summary'>\n",
       "\"\"\"\n",
       "                                 OLS Regression Results                                \n",
       "=======================================================================================\n",
       "Dep. Variable:                TOT_AVG   R-squared (uncentered):                   0.999\n",
       "Model:                            OLS   Adj. R-squared (uncentered):              0.999\n",
       "Method:                 Least Squares   F-statistic:                              2042.\n",
       "Date:                Wed, 11 May 2022   Prob (F-statistic):                    1.05e-14\n",
       "Time:                        19:05:22   Log-Likelihood:                         -49.954\n",
       "No. Observations:                  15   AIC:                                      109.9\n",
       "Df Residuals:                      10   BIC:                                      113.4\n",
       "Df Model:                           5                                                  \n",
       "Covariance Type:            nonrobust                                                  \n",
       "==============================================================================\n",
       "                 coef    std err          t      P>|t|      [0.025      0.975]\n",
       "------------------------------------------------------------------------------\n",
       "CON_ST         8.8888      2.892      3.074      0.012       2.446      15.332\n",
       "L_READ        -4.0375      3.484     -1.159      0.273     -11.800       3.725\n",
       "OVERCOME      24.8931     12.693      1.961      0.078      -3.390      53.176\n",
       "SPARE_SUC     25.1769     18.366      1.371      0.200     -15.745      66.099\n",
       "ball_pound     7.2455      2.415      3.000      0.013       1.865      12.626\n",
       "==============================================================================\n",
       "Omnibus:                        1.343   Durbin-Watson:                   2.076\n",
       "Prob(Omnibus):                  0.511   Jarque-Bera (JB):                0.918\n",
       "Skew:                           0.292   Prob(JB):                        0.632\n",
       "Kurtosis:                       1.937   Cond. No.                         159.\n",
       "==============================================================================\n",
       "\n",
       "Notes:\n",
       "[1] R² is computed without centering (uncentered) since the model does not contain a constant.\n",
       "[2] Standard Errors assume that the covariance matrix of the errors is correctly specified.\n",
       "\"\"\""
      ]
     },
     "execution_count": 11,
     "metadata": {},
     "output_type": "execute_result"
    }
   ],
   "source": [
    "#4개 피처+볼파운드 는?\n",
    "\n",
    "X=bowling_m_2[['CON_ST','L_READ','OVERCOME','SPARE_SUC','ball_pound']]\n",
    "y=bowling_m_2['TOT_AVG']\n",
    "\n",
    "\n",
    "X_train, X_test, y_train, y_test = train_test_split(X,y,test_size=0.2, random_state=13)\n",
    "lm= sm.OLS(y_train, X_train).fit()\n",
    "lm.summary()"
   ]
  },
  {
   "cell_type": "code",
   "execution_count": 58,
   "metadata": {},
   "outputs": [
    {
     "name": "stderr",
     "output_type": "stream",
     "text": [
      "c:\\Users\\user\\Anaconda3\\envs\\ds_study\\lib\\site-packages\\scipy\\stats\\stats.py:1541: UserWarning: kurtosistest only valid for n>=20 ... continuing anyway, n=15\n",
      "  warnings.warn(\"kurtosistest only valid for n>=20 ... continuing \"\n"
     ]
    },
    {
     "data": {
      "text/html": [
       "<table class=\"simpletable\">\n",
       "<caption>OLS Regression Results</caption>\n",
       "<tr>\n",
       "  <th>Dep. Variable:</th>         <td>TOT_AVG</td>     <th>  R-squared (uncentered):</th>      <td>   0.998</td>\n",
       "</tr>\n",
       "<tr>\n",
       "  <th>Model:</th>                   <td>OLS</td>       <th>  Adj. R-squared (uncentered):</th> <td>   0.998</td>\n",
       "</tr>\n",
       "<tr>\n",
       "  <th>Method:</th>             <td>Least Squares</td>  <th>  F-statistic:       </th>          <td>   4143.</td>\n",
       "</tr>\n",
       "<tr>\n",
       "  <th>Date:</th>             <td>Wed, 11 May 2022</td> <th>  Prob (F-statistic):</th>          <td>5.85e-19</td>\n",
       "</tr>\n",
       "<tr>\n",
       "  <th>Time:</th>                 <td>14:39:24</td>     <th>  Log-Likelihood:    </th>          <td> -53.482</td>\n",
       "</tr>\n",
       "<tr>\n",
       "  <th>No. Observations:</th>      <td>    15</td>      <th>  AIC:               </th>          <td>   111.0</td>\n",
       "</tr>\n",
       "<tr>\n",
       "  <th>Df Residuals:</th>          <td>    13</td>      <th>  BIC:               </th>          <td>   112.4</td>\n",
       "</tr>\n",
       "<tr>\n",
       "  <th>Df Model:</th>              <td>     2</td>      <th>                     </th>              <td> </td>   \n",
       "</tr>\n",
       "<tr>\n",
       "  <th>Covariance Type:</th>      <td>nonrobust</td>    <th>                     </th>              <td> </td>   \n",
       "</tr>\n",
       "</table>\n",
       "<table class=\"simpletable\">\n",
       "<tr>\n",
       "       <td></td>         <th>coef</th>     <th>std err</th>      <th>t</th>      <th>P>|t|</th>  <th>[0.025</th>    <th>0.975]</th>  \n",
       "</tr>\n",
       "<tr>\n",
       "  <th>CON_ST</th>     <td>    9.8812</td> <td>    3.165</td> <td>    3.122</td> <td> 0.008</td> <td>    3.044</td> <td>   16.719</td>\n",
       "</tr>\n",
       "<tr>\n",
       "  <th>ball_pound</th> <td>   11.5237</td> <td>    0.870</td> <td>   13.240</td> <td> 0.000</td> <td>    9.643</td> <td>   13.404</td>\n",
       "</tr>\n",
       "</table>\n",
       "<table class=\"simpletable\">\n",
       "<tr>\n",
       "  <th>Omnibus:</th>       <td> 0.161</td> <th>  Durbin-Watson:     </th> <td>   2.128</td>\n",
       "</tr>\n",
       "<tr>\n",
       "  <th>Prob(Omnibus):</th> <td> 0.923</td> <th>  Jarque-Bera (JB):  </th> <td>   0.042</td>\n",
       "</tr>\n",
       "<tr>\n",
       "  <th>Skew:</th>          <td> 0.036</td> <th>  Prob(JB):          </th> <td>   0.979</td>\n",
       "</tr>\n",
       "<tr>\n",
       "  <th>Kurtosis:</th>      <td> 2.751</td> <th>  Cond. No.          </th> <td>    21.8</td>\n",
       "</tr>\n",
       "</table><br/><br/>Notes:<br/>[1] R² is computed without centering (uncentered) since the model does not contain a constant.<br/>[2] Standard Errors assume that the covariance matrix of the errors is correctly specified."
      ],
      "text/plain": [
       "<class 'statsmodels.iolib.summary.Summary'>\n",
       "\"\"\"\n",
       "                                 OLS Regression Results                                \n",
       "=======================================================================================\n",
       "Dep. Variable:                TOT_AVG   R-squared (uncentered):                   0.998\n",
       "Model:                            OLS   Adj. R-squared (uncentered):              0.998\n",
       "Method:                 Least Squares   F-statistic:                              4143.\n",
       "Date:                Wed, 11 May 2022   Prob (F-statistic):                    5.85e-19\n",
       "Time:                        14:39:24   Log-Likelihood:                         -53.482\n",
       "No. Observations:                  15   AIC:                                      111.0\n",
       "Df Residuals:                      13   BIC:                                      112.4\n",
       "Df Model:                           2                                                  \n",
       "Covariance Type:            nonrobust                                                  \n",
       "==============================================================================\n",
       "                 coef    std err          t      P>|t|      [0.025      0.975]\n",
       "------------------------------------------------------------------------------\n",
       "CON_ST         9.8812      3.165      3.122      0.008       3.044      16.719\n",
       "ball_pound    11.5237      0.870     13.240      0.000       9.643      13.404\n",
       "==============================================================================\n",
       "Omnibus:                        0.161   Durbin-Watson:                   2.128\n",
       "Prob(Omnibus):                  0.923   Jarque-Bera (JB):                0.042\n",
       "Skew:                           0.036   Prob(JB):                        0.979\n",
       "Kurtosis:                       2.751   Cond. No.                         21.8\n",
       "==============================================================================\n",
       "\n",
       "Notes:\n",
       "[1] R² is computed without centering (uncentered) since the model does not contain a constant.\n",
       "[2] Standard Errors assume that the covariance matrix of the errors is correctly specified.\n",
       "\"\"\""
      ]
     },
     "execution_count": 58,
     "metadata": {},
     "output_type": "execute_result"
    }
   ],
   "source": [
    "#CON_ST, ball_pound 사용시엔 ?\n",
    "\n",
    "\n",
    "X=bowling_m_2[['CON_ST','ball_pound']]\n",
    "y=bowling_m_2['TOT_AVG']\n",
    "\n",
    "\n",
    "X_train, X_test, y_train, y_test = train_test_split(X,y,test_size=0.2, random_state=13)\n",
    "lm= sm.OLS(y_train, X_train).fit()\n",
    "lm.summary()"
   ]
  },
  {
   "cell_type": "code",
   "execution_count": null,
   "metadata": {},
   "outputs": [],
   "source": []
  },
  {
   "cell_type": "markdown",
   "metadata": {},
   "source": [
    "--- \n",
    "### 📍 정리\n",
    "\n",
    " 1. 모든 피처 -> 4개의 피처\n",
    "       - R-squared(Adj. R-squared) 가 모두 크고 1에 더 가까움\n",
    "       - Prob (F-statistic) 가 0.05 이하 매우 작음  \n",
    "       \n",
    "              - but :  AIC ,BIC 값이 조금 더 상승함...   \n",
    "                \n",
    "\n",
    "                \n",
    "2. 4개 제외 피처(선수관련 특성)  \n",
    "\n",
    "       - R-squared(Adj. R-squared) 낮아지고 Prob(F-statistic) 가 높아짐  \n",
    "    \n",
    "             - but : 특성 중 ball_pound 유의미 한 특성  \n",
    "              \n",
    "    \n",
    "3. 4개+ ball_pound  \n",
    "\n",
    "       - R-squared(Adj. R-squared) 가 모두 크고 1에 더 가까움  \n",
    "\n",
    "       - Prob (F-statistic) 가 0.05 이하 매우 작음  \n",
    "       \n",
    "       - 1. AIC ,BIC 값 낮아짐  \n",
    "       \n",
    "\n",
    "\n",
    "\n",
    "  > 결론 :    피처  ['CON_ST' , 'L_READ' , 'OVERCOME' , 'SPARE_SUC' , 'ball_pound']  사용하자\n",
    "\n",
    "  ---"
   ]
  },
  {
   "cell_type": "markdown",
   "metadata": {},
   "source": [
    "  \n",
    "  \n",
    "---\n",
    "## ☛ 2. 다중선형회귀분석\n",
    "---"
   ]
  },
  {
   "cell_type": "code",
   "execution_count": 46,
   "metadata": {},
   "outputs": [],
   "source": [
    "X=bowling_m_2[['CON_ST','L_READ','OVERCOME','SPARE_SUC','ball_pound']]\n",
    "y=bowling_m_2['TOT_AVG']\n",
    "X_train, X_test, y_train, y_test = train_test_split(X,y,test_size=0.2, random_state=13)"
   ]
  },
  {
   "cell_type": "code",
   "execution_count": 13,
   "metadata": {},
   "outputs": [
    {
     "data": {
      "text/plain": [
       "((15, 5), (15,), (4, 5), (4,))"
      ]
     },
     "execution_count": 13,
     "metadata": {},
     "output_type": "execute_result"
    }
   ],
   "source": [
    "X_train.shape,y_train.shape, X_test.shape, y_test.shape\n"
   ]
  },
  {
   "cell_type": "code",
   "execution_count": 47,
   "metadata": {},
   "outputs": [],
   "source": [
    "#회귀분석 모델 학습\n",
    "\n",
    "lr= linear_model.LinearRegression()\n",
    "lr_model=lr.fit(X_train, y_train)"
   ]
  },
  {
   "cell_type": "code",
   "execution_count": 48,
   "metadata": {},
   "outputs": [
    {
     "name": "stdout",
     "output_type": "stream",
     "text": [
      "학습 데이터셋의 R2 score :  0.7791523870170818\n",
      "테스트 데이터셋의 R2 score :  0.9389558085279618\n"
     ]
    }
   ],
   "source": [
    "#회귀 분석 모델 평가(R2 score :1에 가까울 수록)\n",
    "\n",
    "print('학습 데이터셋의 R2 score : ',lr_model.score(X_train, y_train))\n",
    "print('테스트 데이터셋의 R2 score : ',lr_model.score(X_test, y_test))"
   ]
  },
  {
   "cell_type": "code",
   "execution_count": 49,
   "metadata": {},
   "outputs": [
    {
     "name": "stdout",
     "output_type": "stream",
     "text": [
      "학습 데이터셋의 RMSE :  6.563805935325276\n",
      "테스트 데이터셋의 RMSE :  4.682584966445904\n"
     ]
    }
   ],
   "source": [
    "#회귀 분석 모델 평가(RMSE score: 예측값과 실제값과의 차이, 작을수록)\n",
    "\n",
    "y_pred=lr.predict(X_train)\n",
    "print('학습 데이터셋의 RMSE : ', sqrt(mean_squared_error(y_train, y_pred)))\n",
    "y_pred=lr.predict(X_test)\n",
    "print('테스트 데이터셋의 RMSE : ', sqrt(mean_squared_error(y_test, y_pred)))"
   ]
  },
  {
   "cell_type": "markdown",
   "metadata": {},
   "source": [
    "--- \n",
    "### 📍 정리\n",
    "\n",
    "1. 학습 데이터와 테스트 데이터의 평가가 다소 차이 남  \n",
    "\n",
    "    - 8:2 > 7:3으로 수정한다면? 어떻게 바뀔것인가  \n",
    "    -\n",
    "    \n",
    "    \n",
    "    \n",
    "2. RMSE를 더 낮추고 싶음  \n",
    "\n",
    "    - 피처스케일링을 적용해볼까?  \n",
    "    -\n",
    "                \n",
    "\n",
    "\n",
    "  > 결론 :  \n",
    "      1) train/test 크기 변경 후 확인  \n",
    "      2) 피쳐 스케일링 후 다시 회귀\n",
    "\n",
    "  ---"
   ]
  },
  {
   "cell_type": "markdown",
   "metadata": {},
   "source": [
    "  \n",
    "  \n",
    "---\n",
    "## ☛ 3. 수정 후 다시 분석\n",
    "---"
   ]
  },
  {
   "cell_type": "code",
   "execution_count": 50,
   "metadata": {},
   "outputs": [],
   "source": [
    "# 1. 학습/테스트 7:3\n",
    "\n",
    "X=bowling_m_2[['CON_ST','L_READ','OVERCOME','SPARE_SUC','ball_pound']]\n",
    "y=bowling_m_2['TOT_AVG']\n",
    "X_train, X_test, y_train, y_test = train_test_split(X,y,test_size=0.3, random_state=13)\n",
    "\n",
    "\n",
    "lr= linear_model.LinearRegression()\n",
    "lr_model=lr.fit(X_train, y_train)"
   ]
  },
  {
   "cell_type": "code",
   "execution_count": 51,
   "metadata": {},
   "outputs": [
    {
     "name": "stdout",
     "output_type": "stream",
     "text": [
      "학습 데이터셋의 R2 score :  0.7995025077331275\n",
      "테스트 데이터셋의 R2 score :  0.8143175094604066\n",
      "학습 데이터셋의 RMSE :  6.151834759202189\n",
      "테스트 데이터셋의 RMSE :  7.853187581221425\n"
     ]
    }
   ],
   "source": [
    "from sklearn.metrics import mean_squared_error\n",
    "from math import sqrt\n",
    "\n",
    "\n",
    "\n",
    "print('학습 데이터셋의 R2 score : ',lr_model.score(X_train, y_train))\n",
    "print('테스트 데이터셋의 R2 score : ',lr_model.score(X_test, y_test))\n",
    "\n",
    "y_pred=lr.predict(X_train)\n",
    "print('학습 데이터셋의 RMSE : ', sqrt(mean_squared_error(y_train, y_pred)))\n",
    "y_pred=lr.predict(X_test)\n",
    "print('테스트 데이터셋의 RMSE : ', sqrt(mean_squared_error(y_test, y_pred)))"
   ]
  },
  {
   "cell_type": "code",
   "execution_count": null,
   "metadata": {},
   "outputs": [],
   "source": [
    "#해석\n",
    "학습/테스트 랜덤분류 > 모델에 영향x\n",
    "학습-테스트 데이터의 크기 차이가 줄어들 수록  score 차가 작아질 뿐.\n",
    "유의미한 결론x"
   ]
  },
  {
   "cell_type": "code",
   "execution_count": 21,
   "metadata": {},
   "outputs": [
    {
     "data": {
      "text/html": [
       "<div>\n",
       "<style scoped>\n",
       "    .dataframe tbody tr th:only-of-type {\n",
       "        vertical-align: middle;\n",
       "    }\n",
       "\n",
       "    .dataframe tbody tr th {\n",
       "        vertical-align: top;\n",
       "    }\n",
       "\n",
       "    .dataframe thead th {\n",
       "        text-align: right;\n",
       "    }\n",
       "</style>\n",
       "<table border=\"1\" class=\"dataframe\">\n",
       "  <thead>\n",
       "    <tr style=\"text-align: right;\">\n",
       "      <th></th>\n",
       "      <th>CON_ST</th>\n",
       "      <th>L_READ</th>\n",
       "      <th>OVERCOME</th>\n",
       "      <th>SPARE_SUC</th>\n",
       "      <th>ball_pound</th>\n",
       "      <th>TOT_AVG</th>\n",
       "    </tr>\n",
       "  </thead>\n",
       "  <tbody>\n",
       "    <tr>\n",
       "      <th>0</th>\n",
       "      <td>4.400000</td>\n",
       "      <td>-9.000000</td>\n",
       "      <td>0.652252</td>\n",
       "      <td>0.811789</td>\n",
       "      <td>15.0</td>\n",
       "      <td>215.800000</td>\n",
       "    </tr>\n",
       "    <tr>\n",
       "      <th>1</th>\n",
       "      <td>5.750000</td>\n",
       "      <td>-9.750000</td>\n",
       "      <td>0.687281</td>\n",
       "      <td>0.659609</td>\n",
       "      <td>15.0</td>\n",
       "      <td>246.000000</td>\n",
       "    </tr>\n",
       "    <tr>\n",
       "      <th>2</th>\n",
       "      <td>2.750000</td>\n",
       "      <td>-9.250000</td>\n",
       "      <td>0.475010</td>\n",
       "      <td>0.542429</td>\n",
       "      <td>15.0</td>\n",
       "      <td>190.500000</td>\n",
       "    </tr>\n",
       "    <tr>\n",
       "      <th>3</th>\n",
       "      <td>4.000000</td>\n",
       "      <td>-8.750000</td>\n",
       "      <td>0.455561</td>\n",
       "      <td>0.768218</td>\n",
       "      <td>15.0</td>\n",
       "      <td>212.500000</td>\n",
       "    </tr>\n",
       "    <tr>\n",
       "      <th>4</th>\n",
       "      <td>3.333333</td>\n",
       "      <td>-8.666667</td>\n",
       "      <td>0.783212</td>\n",
       "      <td>0.624562</td>\n",
       "      <td>15.0</td>\n",
       "      <td>198.333333</td>\n",
       "    </tr>\n",
       "  </tbody>\n",
       "</table>\n",
       "</div>"
      ],
      "text/plain": [
       "     CON_ST    L_READ  OVERCOME  SPARE_SUC  ball_pound     TOT_AVG\n",
       "0  4.400000 -9.000000  0.652252   0.811789        15.0  215.800000\n",
       "1  5.750000 -9.750000  0.687281   0.659609        15.0  246.000000\n",
       "2  2.750000 -9.250000  0.475010   0.542429        15.0  190.500000\n",
       "3  4.000000 -8.750000  0.455561   0.768218        15.0  212.500000\n",
       "4  3.333333 -8.666667  0.783212   0.624562        15.0  198.333333"
      ]
     },
     "execution_count": 21,
     "metadata": {},
     "output_type": "execute_result"
    }
   ],
   "source": [
    "bowling_m_3=bowling_m_2[['CON_ST','L_READ','OVERCOME','SPARE_SUC','ball_pound','TOT_AVG']]\n",
    "bowling_m_3.head()"
   ]
  },
  {
   "cell_type": "code",
   "execution_count": 24,
   "metadata": {},
   "outputs": [
    {
     "data": {
      "application/vnd.plotly.v1+json": {
       "config": {
        "plotlyServerURL": "https://plot.ly"
       },
       "data": [
        {
         "name": "CON_ST",
         "type": "box",
         "y": [
          4.4,
          5.75,
          2.75,
          4,
          3.333333333333333,
          4,
          4.666666666666667,
          4.666666666666667,
          5.333333333333333,
          3.333333333333333,
          4.75,
          3,
          5.25,
          3.333333333333333,
          3.666666666666667,
          4,
          6,
          3.666666666666667,
          3.666666666666667
         ]
        },
        {
         "name": "L_READ",
         "type": "box",
         "y": [
          -9,
          -9.75,
          -9.25,
          -8.75,
          -8.666666666666666,
          -8,
          -8.333333333333334,
          -9,
          -9.333333333333334,
          -9.666666666666666,
          -9,
          -8,
          -10,
          -9.666666666666666,
          -8,
          -8.666666666666666,
          -10.33333333333333,
          -8.666666666666666,
          -10
         ]
        },
        {
         "name": "OVERCOME",
         "type": "box",
         "y": [
          0.6522518179219388,
          0.6872814841330583,
          0.4750099960015994,
          0.4555609882241283,
          0.7832117194767937,
          0.5932871355122175,
          0.7776112159815262,
          0.6901367217008428,
          0.5999600159936026,
          0.6346181785074162,
          0.5499800079968014,
          0.4500061169924041,
          0.4273886920284888,
          0.7220741727737064,
          0.3611712693025919,
          0.3360198098730924,
          0.7554126781193004,
          0.9326280133322586,
          0.3119593203672232
         ]
        },
        {
         "name": "SPARE_SUC",
         "type": "box",
         "y": [
          0.8117886908066891,
          0.659608734135834,
          0.5424292845257903,
          0.7682179724235166,
          0.6245620091094942,
          0.5159810189260712,
          0.819692937904159,
          0.4464725733506622,
          0.5352578425239073,
          0.5564057686069902,
          0.6279319122527401,
          0.6862195722677327,
          0.8216833095577746,
          0.7394146469434179,
          0.7947739867926491,
          0.7242794487107572,
          0.7119824581180939,
          0.7228227268766519,
          0.7939715310431259
         ]
        },
        {
         "name": "ball_pound",
         "type": "box",
         "y": [
          15,
          15,
          15,
          15,
          15,
          15,
          15,
          15,
          15,
          15,
          16,
          15,
          16,
          15,
          15,
          15,
          16,
          15,
          15
         ]
        },
        {
         "name": "TOT_AVG",
         "type": "box",
         "y": [
          215.8,
          246,
          190.5,
          212.5,
          198.3333333333333,
          196,
          220,
          224.3333333333333,
          230.3333333333333,
          213,
          223.5,
          195.75,
          226.75,
          211.6666666666667,
          214.6666666666667,
          211.6666666666667,
          249.3333333333333,
          227.6666666666667,
          211.6666666666667
         ]
        }
       ],
       "layout": {
        "template": {
         "data": {
          "bar": [
           {
            "error_x": {
             "color": "#2a3f5f"
            },
            "error_y": {
             "color": "#2a3f5f"
            },
            "marker": {
             "line": {
              "color": "#E5ECF6",
              "width": 0.5
             },
             "pattern": {
              "fillmode": "overlay",
              "size": 10,
              "solidity": 0.2
             }
            },
            "type": "bar"
           }
          ],
          "barpolar": [
           {
            "marker": {
             "line": {
              "color": "#E5ECF6",
              "width": 0.5
             },
             "pattern": {
              "fillmode": "overlay",
              "size": 10,
              "solidity": 0.2
             }
            },
            "type": "barpolar"
           }
          ],
          "carpet": [
           {
            "aaxis": {
             "endlinecolor": "#2a3f5f",
             "gridcolor": "white",
             "linecolor": "white",
             "minorgridcolor": "white",
             "startlinecolor": "#2a3f5f"
            },
            "baxis": {
             "endlinecolor": "#2a3f5f",
             "gridcolor": "white",
             "linecolor": "white",
             "minorgridcolor": "white",
             "startlinecolor": "#2a3f5f"
            },
            "type": "carpet"
           }
          ],
          "choropleth": [
           {
            "colorbar": {
             "outlinewidth": 0,
             "ticks": ""
            },
            "type": "choropleth"
           }
          ],
          "contour": [
           {
            "colorbar": {
             "outlinewidth": 0,
             "ticks": ""
            },
            "colorscale": [
             [
              0,
              "#0d0887"
             ],
             [
              0.1111111111111111,
              "#46039f"
             ],
             [
              0.2222222222222222,
              "#7201a8"
             ],
             [
              0.3333333333333333,
              "#9c179e"
             ],
             [
              0.4444444444444444,
              "#bd3786"
             ],
             [
              0.5555555555555556,
              "#d8576b"
             ],
             [
              0.6666666666666666,
              "#ed7953"
             ],
             [
              0.7777777777777778,
              "#fb9f3a"
             ],
             [
              0.8888888888888888,
              "#fdca26"
             ],
             [
              1,
              "#f0f921"
             ]
            ],
            "type": "contour"
           }
          ],
          "contourcarpet": [
           {
            "colorbar": {
             "outlinewidth": 0,
             "ticks": ""
            },
            "type": "contourcarpet"
           }
          ],
          "heatmap": [
           {
            "colorbar": {
             "outlinewidth": 0,
             "ticks": ""
            },
            "colorscale": [
             [
              0,
              "#0d0887"
             ],
             [
              0.1111111111111111,
              "#46039f"
             ],
             [
              0.2222222222222222,
              "#7201a8"
             ],
             [
              0.3333333333333333,
              "#9c179e"
             ],
             [
              0.4444444444444444,
              "#bd3786"
             ],
             [
              0.5555555555555556,
              "#d8576b"
             ],
             [
              0.6666666666666666,
              "#ed7953"
             ],
             [
              0.7777777777777778,
              "#fb9f3a"
             ],
             [
              0.8888888888888888,
              "#fdca26"
             ],
             [
              1,
              "#f0f921"
             ]
            ],
            "type": "heatmap"
           }
          ],
          "heatmapgl": [
           {
            "colorbar": {
             "outlinewidth": 0,
             "ticks": ""
            },
            "colorscale": [
             [
              0,
              "#0d0887"
             ],
             [
              0.1111111111111111,
              "#46039f"
             ],
             [
              0.2222222222222222,
              "#7201a8"
             ],
             [
              0.3333333333333333,
              "#9c179e"
             ],
             [
              0.4444444444444444,
              "#bd3786"
             ],
             [
              0.5555555555555556,
              "#d8576b"
             ],
             [
              0.6666666666666666,
              "#ed7953"
             ],
             [
              0.7777777777777778,
              "#fb9f3a"
             ],
             [
              0.8888888888888888,
              "#fdca26"
             ],
             [
              1,
              "#f0f921"
             ]
            ],
            "type": "heatmapgl"
           }
          ],
          "histogram": [
           {
            "marker": {
             "pattern": {
              "fillmode": "overlay",
              "size": 10,
              "solidity": 0.2
             }
            },
            "type": "histogram"
           }
          ],
          "histogram2d": [
           {
            "colorbar": {
             "outlinewidth": 0,
             "ticks": ""
            },
            "colorscale": [
             [
              0,
              "#0d0887"
             ],
             [
              0.1111111111111111,
              "#46039f"
             ],
             [
              0.2222222222222222,
              "#7201a8"
             ],
             [
              0.3333333333333333,
              "#9c179e"
             ],
             [
              0.4444444444444444,
              "#bd3786"
             ],
             [
              0.5555555555555556,
              "#d8576b"
             ],
             [
              0.6666666666666666,
              "#ed7953"
             ],
             [
              0.7777777777777778,
              "#fb9f3a"
             ],
             [
              0.8888888888888888,
              "#fdca26"
             ],
             [
              1,
              "#f0f921"
             ]
            ],
            "type": "histogram2d"
           }
          ],
          "histogram2dcontour": [
           {
            "colorbar": {
             "outlinewidth": 0,
             "ticks": ""
            },
            "colorscale": [
             [
              0,
              "#0d0887"
             ],
             [
              0.1111111111111111,
              "#46039f"
             ],
             [
              0.2222222222222222,
              "#7201a8"
             ],
             [
              0.3333333333333333,
              "#9c179e"
             ],
             [
              0.4444444444444444,
              "#bd3786"
             ],
             [
              0.5555555555555556,
              "#d8576b"
             ],
             [
              0.6666666666666666,
              "#ed7953"
             ],
             [
              0.7777777777777778,
              "#fb9f3a"
             ],
             [
              0.8888888888888888,
              "#fdca26"
             ],
             [
              1,
              "#f0f921"
             ]
            ],
            "type": "histogram2dcontour"
           }
          ],
          "mesh3d": [
           {
            "colorbar": {
             "outlinewidth": 0,
             "ticks": ""
            },
            "type": "mesh3d"
           }
          ],
          "parcoords": [
           {
            "line": {
             "colorbar": {
              "outlinewidth": 0,
              "ticks": ""
             }
            },
            "type": "parcoords"
           }
          ],
          "pie": [
           {
            "automargin": true,
            "type": "pie"
           }
          ],
          "scatter": [
           {
            "fillpattern": {
             "fillmode": "overlay",
             "size": 10,
             "solidity": 0.2
            },
            "type": "scatter"
           }
          ],
          "scatter3d": [
           {
            "line": {
             "colorbar": {
              "outlinewidth": 0,
              "ticks": ""
             }
            },
            "marker": {
             "colorbar": {
              "outlinewidth": 0,
              "ticks": ""
             }
            },
            "type": "scatter3d"
           }
          ],
          "scattercarpet": [
           {
            "marker": {
             "colorbar": {
              "outlinewidth": 0,
              "ticks": ""
             }
            },
            "type": "scattercarpet"
           }
          ],
          "scattergeo": [
           {
            "marker": {
             "colorbar": {
              "outlinewidth": 0,
              "ticks": ""
             }
            },
            "type": "scattergeo"
           }
          ],
          "scattergl": [
           {
            "marker": {
             "colorbar": {
              "outlinewidth": 0,
              "ticks": ""
             }
            },
            "type": "scattergl"
           }
          ],
          "scattermapbox": [
           {
            "marker": {
             "colorbar": {
              "outlinewidth": 0,
              "ticks": ""
             }
            },
            "type": "scattermapbox"
           }
          ],
          "scatterpolar": [
           {
            "marker": {
             "colorbar": {
              "outlinewidth": 0,
              "ticks": ""
             }
            },
            "type": "scatterpolar"
           }
          ],
          "scatterpolargl": [
           {
            "marker": {
             "colorbar": {
              "outlinewidth": 0,
              "ticks": ""
             }
            },
            "type": "scatterpolargl"
           }
          ],
          "scatterternary": [
           {
            "marker": {
             "colorbar": {
              "outlinewidth": 0,
              "ticks": ""
             }
            },
            "type": "scatterternary"
           }
          ],
          "surface": [
           {
            "colorbar": {
             "outlinewidth": 0,
             "ticks": ""
            },
            "colorscale": [
             [
              0,
              "#0d0887"
             ],
             [
              0.1111111111111111,
              "#46039f"
             ],
             [
              0.2222222222222222,
              "#7201a8"
             ],
             [
              0.3333333333333333,
              "#9c179e"
             ],
             [
              0.4444444444444444,
              "#bd3786"
             ],
             [
              0.5555555555555556,
              "#d8576b"
             ],
             [
              0.6666666666666666,
              "#ed7953"
             ],
             [
              0.7777777777777778,
              "#fb9f3a"
             ],
             [
              0.8888888888888888,
              "#fdca26"
             ],
             [
              1,
              "#f0f921"
             ]
            ],
            "type": "surface"
           }
          ],
          "table": [
           {
            "cells": {
             "fill": {
              "color": "#EBF0F8"
             },
             "line": {
              "color": "white"
             }
            },
            "header": {
             "fill": {
              "color": "#C8D4E3"
             },
             "line": {
              "color": "white"
             }
            },
            "type": "table"
           }
          ]
         },
         "layout": {
          "annotationdefaults": {
           "arrowcolor": "#2a3f5f",
           "arrowhead": 0,
           "arrowwidth": 1
          },
          "autotypenumbers": "strict",
          "coloraxis": {
           "colorbar": {
            "outlinewidth": 0,
            "ticks": ""
           }
          },
          "colorscale": {
           "diverging": [
            [
             0,
             "#8e0152"
            ],
            [
             0.1,
             "#c51b7d"
            ],
            [
             0.2,
             "#de77ae"
            ],
            [
             0.3,
             "#f1b6da"
            ],
            [
             0.4,
             "#fde0ef"
            ],
            [
             0.5,
             "#f7f7f7"
            ],
            [
             0.6,
             "#e6f5d0"
            ],
            [
             0.7,
             "#b8e186"
            ],
            [
             0.8,
             "#7fbc41"
            ],
            [
             0.9,
             "#4d9221"
            ],
            [
             1,
             "#276419"
            ]
           ],
           "sequential": [
            [
             0,
             "#0d0887"
            ],
            [
             0.1111111111111111,
             "#46039f"
            ],
            [
             0.2222222222222222,
             "#7201a8"
            ],
            [
             0.3333333333333333,
             "#9c179e"
            ],
            [
             0.4444444444444444,
             "#bd3786"
            ],
            [
             0.5555555555555556,
             "#d8576b"
            ],
            [
             0.6666666666666666,
             "#ed7953"
            ],
            [
             0.7777777777777778,
             "#fb9f3a"
            ],
            [
             0.8888888888888888,
             "#fdca26"
            ],
            [
             1,
             "#f0f921"
            ]
           ],
           "sequentialminus": [
            [
             0,
             "#0d0887"
            ],
            [
             0.1111111111111111,
             "#46039f"
            ],
            [
             0.2222222222222222,
             "#7201a8"
            ],
            [
             0.3333333333333333,
             "#9c179e"
            ],
            [
             0.4444444444444444,
             "#bd3786"
            ],
            [
             0.5555555555555556,
             "#d8576b"
            ],
            [
             0.6666666666666666,
             "#ed7953"
            ],
            [
             0.7777777777777778,
             "#fb9f3a"
            ],
            [
             0.8888888888888888,
             "#fdca26"
            ],
            [
             1,
             "#f0f921"
            ]
           ]
          },
          "colorway": [
           "#636efa",
           "#EF553B",
           "#00cc96",
           "#ab63fa",
           "#FFA15A",
           "#19d3f3",
           "#FF6692",
           "#B6E880",
           "#FF97FF",
           "#FECB52"
          ],
          "font": {
           "color": "#2a3f5f"
          },
          "geo": {
           "bgcolor": "white",
           "lakecolor": "white",
           "landcolor": "#E5ECF6",
           "showlakes": true,
           "showland": true,
           "subunitcolor": "white"
          },
          "hoverlabel": {
           "align": "left"
          },
          "hovermode": "closest",
          "mapbox": {
           "style": "light"
          },
          "paper_bgcolor": "white",
          "plot_bgcolor": "#E5ECF6",
          "polar": {
           "angularaxis": {
            "gridcolor": "white",
            "linecolor": "white",
            "ticks": ""
           },
           "bgcolor": "#E5ECF6",
           "radialaxis": {
            "gridcolor": "white",
            "linecolor": "white",
            "ticks": ""
           }
          },
          "scene": {
           "xaxis": {
            "backgroundcolor": "#E5ECF6",
            "gridcolor": "white",
            "gridwidth": 2,
            "linecolor": "white",
            "showbackground": true,
            "ticks": "",
            "zerolinecolor": "white"
           },
           "yaxis": {
            "backgroundcolor": "#E5ECF6",
            "gridcolor": "white",
            "gridwidth": 2,
            "linecolor": "white",
            "showbackground": true,
            "ticks": "",
            "zerolinecolor": "white"
           },
           "zaxis": {
            "backgroundcolor": "#E5ECF6",
            "gridcolor": "white",
            "gridwidth": 2,
            "linecolor": "white",
            "showbackground": true,
            "ticks": "",
            "zerolinecolor": "white"
           }
          },
          "shapedefaults": {
           "line": {
            "color": "#2a3f5f"
           }
          },
          "ternary": {
           "aaxis": {
            "gridcolor": "white",
            "linecolor": "white",
            "ticks": ""
           },
           "baxis": {
            "gridcolor": "white",
            "linecolor": "white",
            "ticks": ""
           },
           "bgcolor": "#E5ECF6",
           "caxis": {
            "gridcolor": "white",
            "linecolor": "white",
            "ticks": ""
           }
          },
          "title": {
           "x": 0.05
          },
          "xaxis": {
           "automargin": true,
           "gridcolor": "white",
           "linecolor": "white",
           "ticks": "",
           "title": {
            "standoff": 15
           },
           "zerolinecolor": "white",
           "zerolinewidth": 2
          },
          "yaxis": {
           "automargin": true,
           "gridcolor": "white",
           "linecolor": "white",
           "ticks": "",
           "title": {
            "standoff": 15
           },
           "zerolinecolor": "white",
           "zerolinewidth": 2
          }
         }
        }
       }
      }
     },
     "metadata": {},
     "output_type": "display_data"
    }
   ],
   "source": [
    "# 2. 피쳐 스케일링 - boxplot 확인\n",
    "fig= go.Figure()\n",
    "fig.add_traces(go.Box(y=bowling_m_3['CON_ST'],name='CON_ST'))\n",
    "fig.add_traces(go.Box(y=bowling_m_3['L_READ'],name='L_READ'))\n",
    "fig.add_traces(go.Box(y=bowling_m_3['OVERCOME'],name='OVERCOME'))\n",
    "fig.add_traces(go.Box(y=bowling_m_3['SPARE_SUC'],name='SPARE_SUC'))\n",
    "fig.add_traces(go.Box(y=bowling_m_3['ball_pound'],name='ball_pound'))\n",
    "fig.add_traces(go.Box(y=bowling_m_3['TOT_AVG'],name='TOT_AVG'))\n",
    "\n",
    "fig.show()"
   ]
  },
  {
   "cell_type": "code",
   "execution_count": 25,
   "metadata": {},
   "outputs": [
    {
     "data": {
      "application/vnd.plotly.v1+json": {
       "config": {
        "plotlyServerURL": "https://plot.ly"
       },
       "data": [
        {
         "name": "CON_ST",
         "type": "box",
         "y": [
          4.4,
          5.75,
          2.75,
          4,
          3.333333333333333,
          4,
          4.666666666666667,
          4.666666666666667,
          5.333333333333333,
          3.333333333333333,
          4.75,
          3,
          5.25,
          3.333333333333333,
          3.666666666666667,
          4,
          6,
          3.666666666666667,
          3.666666666666667
         ]
        },
        {
         "name": "L_READ",
         "type": "box",
         "y": [
          -9,
          -9.75,
          -9.25,
          -8.75,
          -8.666666666666666,
          -8,
          -8.333333333333334,
          -9,
          -9.333333333333334,
          -9.666666666666666,
          -9,
          -8,
          -10,
          -9.666666666666666,
          -8,
          -8.666666666666666,
          -10.33333333333333,
          -8.666666666666666,
          -10
         ]
        },
        {
         "name": "OVERCOME",
         "type": "box",
         "y": [
          0.6522518179219388,
          0.6872814841330583,
          0.4750099960015994,
          0.4555609882241283,
          0.7832117194767937,
          0.5932871355122175,
          0.7776112159815262,
          0.6901367217008428,
          0.5999600159936026,
          0.6346181785074162,
          0.5499800079968014,
          0.4500061169924041,
          0.4273886920284888,
          0.7220741727737064,
          0.3611712693025919,
          0.3360198098730924,
          0.7554126781193004,
          0.9326280133322586,
          0.3119593203672232
         ]
        },
        {
         "name": "SPARE_SUC",
         "type": "box",
         "y": [
          0.8117886908066891,
          0.659608734135834,
          0.5424292845257903,
          0.7682179724235166,
          0.6245620091094942,
          0.5159810189260712,
          0.819692937904159,
          0.4464725733506622,
          0.5352578425239073,
          0.5564057686069902,
          0.6279319122527401,
          0.6862195722677327,
          0.8216833095577746,
          0.7394146469434179,
          0.7947739867926491,
          0.7242794487107572,
          0.7119824581180939,
          0.7228227268766519,
          0.7939715310431259
         ]
        },
        {
         "name": "ball_pound",
         "type": "box",
         "y": [
          15,
          15,
          15,
          15,
          15,
          15,
          15,
          15,
          15,
          15,
          16,
          15,
          16,
          15,
          15,
          15,
          16,
          15,
          15
         ]
        }
       ],
       "layout": {
        "template": {
         "data": {
          "bar": [
           {
            "error_x": {
             "color": "#2a3f5f"
            },
            "error_y": {
             "color": "#2a3f5f"
            },
            "marker": {
             "line": {
              "color": "#E5ECF6",
              "width": 0.5
             },
             "pattern": {
              "fillmode": "overlay",
              "size": 10,
              "solidity": 0.2
             }
            },
            "type": "bar"
           }
          ],
          "barpolar": [
           {
            "marker": {
             "line": {
              "color": "#E5ECF6",
              "width": 0.5
             },
             "pattern": {
              "fillmode": "overlay",
              "size": 10,
              "solidity": 0.2
             }
            },
            "type": "barpolar"
           }
          ],
          "carpet": [
           {
            "aaxis": {
             "endlinecolor": "#2a3f5f",
             "gridcolor": "white",
             "linecolor": "white",
             "minorgridcolor": "white",
             "startlinecolor": "#2a3f5f"
            },
            "baxis": {
             "endlinecolor": "#2a3f5f",
             "gridcolor": "white",
             "linecolor": "white",
             "minorgridcolor": "white",
             "startlinecolor": "#2a3f5f"
            },
            "type": "carpet"
           }
          ],
          "choropleth": [
           {
            "colorbar": {
             "outlinewidth": 0,
             "ticks": ""
            },
            "type": "choropleth"
           }
          ],
          "contour": [
           {
            "colorbar": {
             "outlinewidth": 0,
             "ticks": ""
            },
            "colorscale": [
             [
              0,
              "#0d0887"
             ],
             [
              0.1111111111111111,
              "#46039f"
             ],
             [
              0.2222222222222222,
              "#7201a8"
             ],
             [
              0.3333333333333333,
              "#9c179e"
             ],
             [
              0.4444444444444444,
              "#bd3786"
             ],
             [
              0.5555555555555556,
              "#d8576b"
             ],
             [
              0.6666666666666666,
              "#ed7953"
             ],
             [
              0.7777777777777778,
              "#fb9f3a"
             ],
             [
              0.8888888888888888,
              "#fdca26"
             ],
             [
              1,
              "#f0f921"
             ]
            ],
            "type": "contour"
           }
          ],
          "contourcarpet": [
           {
            "colorbar": {
             "outlinewidth": 0,
             "ticks": ""
            },
            "type": "contourcarpet"
           }
          ],
          "heatmap": [
           {
            "colorbar": {
             "outlinewidth": 0,
             "ticks": ""
            },
            "colorscale": [
             [
              0,
              "#0d0887"
             ],
             [
              0.1111111111111111,
              "#46039f"
             ],
             [
              0.2222222222222222,
              "#7201a8"
             ],
             [
              0.3333333333333333,
              "#9c179e"
             ],
             [
              0.4444444444444444,
              "#bd3786"
             ],
             [
              0.5555555555555556,
              "#d8576b"
             ],
             [
              0.6666666666666666,
              "#ed7953"
             ],
             [
              0.7777777777777778,
              "#fb9f3a"
             ],
             [
              0.8888888888888888,
              "#fdca26"
             ],
             [
              1,
              "#f0f921"
             ]
            ],
            "type": "heatmap"
           }
          ],
          "heatmapgl": [
           {
            "colorbar": {
             "outlinewidth": 0,
             "ticks": ""
            },
            "colorscale": [
             [
              0,
              "#0d0887"
             ],
             [
              0.1111111111111111,
              "#46039f"
             ],
             [
              0.2222222222222222,
              "#7201a8"
             ],
             [
              0.3333333333333333,
              "#9c179e"
             ],
             [
              0.4444444444444444,
              "#bd3786"
             ],
             [
              0.5555555555555556,
              "#d8576b"
             ],
             [
              0.6666666666666666,
              "#ed7953"
             ],
             [
              0.7777777777777778,
              "#fb9f3a"
             ],
             [
              0.8888888888888888,
              "#fdca26"
             ],
             [
              1,
              "#f0f921"
             ]
            ],
            "type": "heatmapgl"
           }
          ],
          "histogram": [
           {
            "marker": {
             "pattern": {
              "fillmode": "overlay",
              "size": 10,
              "solidity": 0.2
             }
            },
            "type": "histogram"
           }
          ],
          "histogram2d": [
           {
            "colorbar": {
             "outlinewidth": 0,
             "ticks": ""
            },
            "colorscale": [
             [
              0,
              "#0d0887"
             ],
             [
              0.1111111111111111,
              "#46039f"
             ],
             [
              0.2222222222222222,
              "#7201a8"
             ],
             [
              0.3333333333333333,
              "#9c179e"
             ],
             [
              0.4444444444444444,
              "#bd3786"
             ],
             [
              0.5555555555555556,
              "#d8576b"
             ],
             [
              0.6666666666666666,
              "#ed7953"
             ],
             [
              0.7777777777777778,
              "#fb9f3a"
             ],
             [
              0.8888888888888888,
              "#fdca26"
             ],
             [
              1,
              "#f0f921"
             ]
            ],
            "type": "histogram2d"
           }
          ],
          "histogram2dcontour": [
           {
            "colorbar": {
             "outlinewidth": 0,
             "ticks": ""
            },
            "colorscale": [
             [
              0,
              "#0d0887"
             ],
             [
              0.1111111111111111,
              "#46039f"
             ],
             [
              0.2222222222222222,
              "#7201a8"
             ],
             [
              0.3333333333333333,
              "#9c179e"
             ],
             [
              0.4444444444444444,
              "#bd3786"
             ],
             [
              0.5555555555555556,
              "#d8576b"
             ],
             [
              0.6666666666666666,
              "#ed7953"
             ],
             [
              0.7777777777777778,
              "#fb9f3a"
             ],
             [
              0.8888888888888888,
              "#fdca26"
             ],
             [
              1,
              "#f0f921"
             ]
            ],
            "type": "histogram2dcontour"
           }
          ],
          "mesh3d": [
           {
            "colorbar": {
             "outlinewidth": 0,
             "ticks": ""
            },
            "type": "mesh3d"
           }
          ],
          "parcoords": [
           {
            "line": {
             "colorbar": {
              "outlinewidth": 0,
              "ticks": ""
             }
            },
            "type": "parcoords"
           }
          ],
          "pie": [
           {
            "automargin": true,
            "type": "pie"
           }
          ],
          "scatter": [
           {
            "fillpattern": {
             "fillmode": "overlay",
             "size": 10,
             "solidity": 0.2
            },
            "type": "scatter"
           }
          ],
          "scatter3d": [
           {
            "line": {
             "colorbar": {
              "outlinewidth": 0,
              "ticks": ""
             }
            },
            "marker": {
             "colorbar": {
              "outlinewidth": 0,
              "ticks": ""
             }
            },
            "type": "scatter3d"
           }
          ],
          "scattercarpet": [
           {
            "marker": {
             "colorbar": {
              "outlinewidth": 0,
              "ticks": ""
             }
            },
            "type": "scattercarpet"
           }
          ],
          "scattergeo": [
           {
            "marker": {
             "colorbar": {
              "outlinewidth": 0,
              "ticks": ""
             }
            },
            "type": "scattergeo"
           }
          ],
          "scattergl": [
           {
            "marker": {
             "colorbar": {
              "outlinewidth": 0,
              "ticks": ""
             }
            },
            "type": "scattergl"
           }
          ],
          "scattermapbox": [
           {
            "marker": {
             "colorbar": {
              "outlinewidth": 0,
              "ticks": ""
             }
            },
            "type": "scattermapbox"
           }
          ],
          "scatterpolar": [
           {
            "marker": {
             "colorbar": {
              "outlinewidth": 0,
              "ticks": ""
             }
            },
            "type": "scatterpolar"
           }
          ],
          "scatterpolargl": [
           {
            "marker": {
             "colorbar": {
              "outlinewidth": 0,
              "ticks": ""
             }
            },
            "type": "scatterpolargl"
           }
          ],
          "scatterternary": [
           {
            "marker": {
             "colorbar": {
              "outlinewidth": 0,
              "ticks": ""
             }
            },
            "type": "scatterternary"
           }
          ],
          "surface": [
           {
            "colorbar": {
             "outlinewidth": 0,
             "ticks": ""
            },
            "colorscale": [
             [
              0,
              "#0d0887"
             ],
             [
              0.1111111111111111,
              "#46039f"
             ],
             [
              0.2222222222222222,
              "#7201a8"
             ],
             [
              0.3333333333333333,
              "#9c179e"
             ],
             [
              0.4444444444444444,
              "#bd3786"
             ],
             [
              0.5555555555555556,
              "#d8576b"
             ],
             [
              0.6666666666666666,
              "#ed7953"
             ],
             [
              0.7777777777777778,
              "#fb9f3a"
             ],
             [
              0.8888888888888888,
              "#fdca26"
             ],
             [
              1,
              "#f0f921"
             ]
            ],
            "type": "surface"
           }
          ],
          "table": [
           {
            "cells": {
             "fill": {
              "color": "#EBF0F8"
             },
             "line": {
              "color": "white"
             }
            },
            "header": {
             "fill": {
              "color": "#C8D4E3"
             },
             "line": {
              "color": "white"
             }
            },
            "type": "table"
           }
          ]
         },
         "layout": {
          "annotationdefaults": {
           "arrowcolor": "#2a3f5f",
           "arrowhead": 0,
           "arrowwidth": 1
          },
          "autotypenumbers": "strict",
          "coloraxis": {
           "colorbar": {
            "outlinewidth": 0,
            "ticks": ""
           }
          },
          "colorscale": {
           "diverging": [
            [
             0,
             "#8e0152"
            ],
            [
             0.1,
             "#c51b7d"
            ],
            [
             0.2,
             "#de77ae"
            ],
            [
             0.3,
             "#f1b6da"
            ],
            [
             0.4,
             "#fde0ef"
            ],
            [
             0.5,
             "#f7f7f7"
            ],
            [
             0.6,
             "#e6f5d0"
            ],
            [
             0.7,
             "#b8e186"
            ],
            [
             0.8,
             "#7fbc41"
            ],
            [
             0.9,
             "#4d9221"
            ],
            [
             1,
             "#276419"
            ]
           ],
           "sequential": [
            [
             0,
             "#0d0887"
            ],
            [
             0.1111111111111111,
             "#46039f"
            ],
            [
             0.2222222222222222,
             "#7201a8"
            ],
            [
             0.3333333333333333,
             "#9c179e"
            ],
            [
             0.4444444444444444,
             "#bd3786"
            ],
            [
             0.5555555555555556,
             "#d8576b"
            ],
            [
             0.6666666666666666,
             "#ed7953"
            ],
            [
             0.7777777777777778,
             "#fb9f3a"
            ],
            [
             0.8888888888888888,
             "#fdca26"
            ],
            [
             1,
             "#f0f921"
            ]
           ],
           "sequentialminus": [
            [
             0,
             "#0d0887"
            ],
            [
             0.1111111111111111,
             "#46039f"
            ],
            [
             0.2222222222222222,
             "#7201a8"
            ],
            [
             0.3333333333333333,
             "#9c179e"
            ],
            [
             0.4444444444444444,
             "#bd3786"
            ],
            [
             0.5555555555555556,
             "#d8576b"
            ],
            [
             0.6666666666666666,
             "#ed7953"
            ],
            [
             0.7777777777777778,
             "#fb9f3a"
            ],
            [
             0.8888888888888888,
             "#fdca26"
            ],
            [
             1,
             "#f0f921"
            ]
           ]
          },
          "colorway": [
           "#636efa",
           "#EF553B",
           "#00cc96",
           "#ab63fa",
           "#FFA15A",
           "#19d3f3",
           "#FF6692",
           "#B6E880",
           "#FF97FF",
           "#FECB52"
          ],
          "font": {
           "color": "#2a3f5f"
          },
          "geo": {
           "bgcolor": "white",
           "lakecolor": "white",
           "landcolor": "#E5ECF6",
           "showlakes": true,
           "showland": true,
           "subunitcolor": "white"
          },
          "hoverlabel": {
           "align": "left"
          },
          "hovermode": "closest",
          "mapbox": {
           "style": "light"
          },
          "paper_bgcolor": "white",
          "plot_bgcolor": "#E5ECF6",
          "polar": {
           "angularaxis": {
            "gridcolor": "white",
            "linecolor": "white",
            "ticks": ""
           },
           "bgcolor": "#E5ECF6",
           "radialaxis": {
            "gridcolor": "white",
            "linecolor": "white",
            "ticks": ""
           }
          },
          "scene": {
           "xaxis": {
            "backgroundcolor": "#E5ECF6",
            "gridcolor": "white",
            "gridwidth": 2,
            "linecolor": "white",
            "showbackground": true,
            "ticks": "",
            "zerolinecolor": "white"
           },
           "yaxis": {
            "backgroundcolor": "#E5ECF6",
            "gridcolor": "white",
            "gridwidth": 2,
            "linecolor": "white",
            "showbackground": true,
            "ticks": "",
            "zerolinecolor": "white"
           },
           "zaxis": {
            "backgroundcolor": "#E5ECF6",
            "gridcolor": "white",
            "gridwidth": 2,
            "linecolor": "white",
            "showbackground": true,
            "ticks": "",
            "zerolinecolor": "white"
           }
          },
          "shapedefaults": {
           "line": {
            "color": "#2a3f5f"
           }
          },
          "ternary": {
           "aaxis": {
            "gridcolor": "white",
            "linecolor": "white",
            "ticks": ""
           },
           "baxis": {
            "gridcolor": "white",
            "linecolor": "white",
            "ticks": ""
           },
           "bgcolor": "#E5ECF6",
           "caxis": {
            "gridcolor": "white",
            "linecolor": "white",
            "ticks": ""
           }
          },
          "title": {
           "x": 0.05
          },
          "xaxis": {
           "automargin": true,
           "gridcolor": "white",
           "linecolor": "white",
           "ticks": "",
           "title": {
            "standoff": 15
           },
           "zerolinecolor": "white",
           "zerolinewidth": 2
          },
          "yaxis": {
           "automargin": true,
           "gridcolor": "white",
           "linecolor": "white",
           "ticks": "",
           "title": {
            "standoff": 15
           },
           "zerolinecolor": "white",
           "zerolinewidth": 2
          }
         }
        }
       }
      }
     },
     "metadata": {},
     "output_type": "display_data"
    }
   ],
   "source": [
    "fig= go.Figure()\n",
    "fig.add_traces(go.Box(y=bowling_m_3['CON_ST'],name='CON_ST'))\n",
    "fig.add_traces(go.Box(y=bowling_m_3['L_READ'],name='L_READ'))\n",
    "fig.add_traces(go.Box(y=bowling_m_3['OVERCOME'],name='OVERCOME'))\n",
    "fig.add_traces(go.Box(y=bowling_m_3['SPARE_SUC'],name='SPARE_SUC'))\n",
    "fig.add_traces(go.Box(y=bowling_m_3['ball_pound'],name='ball_pound'))\n",
    "\n",
    "\n",
    "fig.show()"
   ]
  },
  {
   "cell_type": "code",
   "execution_count": 28,
   "metadata": {},
   "outputs": [],
   "source": [
    "# 2. 피쳐 스케일링\n",
    "from sklearn.preprocessing import MinMaxScaler, StandardScaler\n",
    "\n",
    "\n",
    "mms=MinMaxScaler()\n",
    "ss=StandardScaler()\n",
    "\n",
    "bowling_mms=mms.fit_transform(bowling_m_3)\n",
    "bowling_mms_pd = pd.DataFrame(bowling_mms, columns=bowling_m_3.columns)\n",
    "\n",
    "\n",
    "bowling_ss=ss.fit_transform(bowling_m_3)\n",
    "bowling_ss_pd = pd.DataFrame(bowling_ss, columns=bowling_m_3.columns)\n"
   ]
  },
  {
   "cell_type": "code",
   "execution_count": 29,
   "metadata": {},
   "outputs": [
    {
     "data": {
      "text/html": [
       "<div>\n",
       "<style scoped>\n",
       "    .dataframe tbody tr th:only-of-type {\n",
       "        vertical-align: middle;\n",
       "    }\n",
       "\n",
       "    .dataframe tbody tr th {\n",
       "        vertical-align: top;\n",
       "    }\n",
       "\n",
       "    .dataframe thead th {\n",
       "        text-align: right;\n",
       "    }\n",
       "</style>\n",
       "<table border=\"1\" class=\"dataframe\">\n",
       "  <thead>\n",
       "    <tr style=\"text-align: right;\">\n",
       "      <th></th>\n",
       "      <th>CON_ST</th>\n",
       "      <th>L_READ</th>\n",
       "      <th>OVERCOME</th>\n",
       "      <th>SPARE_SUC</th>\n",
       "      <th>ball_pound</th>\n",
       "      <th>TOT_AVG</th>\n",
       "    </tr>\n",
       "  </thead>\n",
       "  <tbody>\n",
       "    <tr>\n",
       "      <th>0</th>\n",
       "      <td>0.507692</td>\n",
       "      <td>0.571429</td>\n",
       "      <td>0.548268</td>\n",
       "      <td>0.973629</td>\n",
       "      <td>0.0</td>\n",
       "      <td>0.430028</td>\n",
       "    </tr>\n",
       "    <tr>\n",
       "      <th>1</th>\n",
       "      <td>0.923077</td>\n",
       "      <td>0.250000</td>\n",
       "      <td>0.604706</td>\n",
       "      <td>0.568044</td>\n",
       "      <td>0.0</td>\n",
       "      <td>0.943343</td>\n",
       "    </tr>\n",
       "    <tr>\n",
       "      <th>2</th>\n",
       "      <td>0.000000</td>\n",
       "      <td>0.464286</td>\n",
       "      <td>0.262702</td>\n",
       "      <td>0.255741</td>\n",
       "      <td>0.0</td>\n",
       "      <td>0.000000</td>\n",
       "    </tr>\n",
       "    <tr>\n",
       "      <th>3</th>\n",
       "      <td>0.384615</td>\n",
       "      <td>0.678571</td>\n",
       "      <td>0.231366</td>\n",
       "      <td>0.857506</td>\n",
       "      <td>0.0</td>\n",
       "      <td>0.373938</td>\n",
       "    </tr>\n",
       "    <tr>\n",
       "      <th>4</th>\n",
       "      <td>0.179487</td>\n",
       "      <td>0.714286</td>\n",
       "      <td>0.759266</td>\n",
       "      <td>0.474638</td>\n",
       "      <td>0.0</td>\n",
       "      <td>0.133144</td>\n",
       "    </tr>\n",
       "  </tbody>\n",
       "</table>\n",
       "</div>"
      ],
      "text/plain": [
       "     CON_ST    L_READ  OVERCOME  SPARE_SUC  ball_pound   TOT_AVG\n",
       "0  0.507692  0.571429  0.548268   0.973629         0.0  0.430028\n",
       "1  0.923077  0.250000  0.604706   0.568044         0.0  0.943343\n",
       "2  0.000000  0.464286  0.262702   0.255741         0.0  0.000000\n",
       "3  0.384615  0.678571  0.231366   0.857506         0.0  0.373938\n",
       "4  0.179487  0.714286  0.759266   0.474638         0.0  0.133144"
      ]
     },
     "execution_count": 29,
     "metadata": {},
     "output_type": "execute_result"
    }
   ],
   "source": [
    "bowling_mms_pd.head()"
   ]
  },
  {
   "cell_type": "code",
   "execution_count": 56,
   "metadata": {},
   "outputs": [
    {
     "data": {
      "application/vnd.plotly.v1+json": {
       "config": {
        "plotlyServerURL": "https://plot.ly"
       },
       "data": [
        {
         "name": "CON_ST",
         "type": "box",
         "y": [
          0.5076923076923077,
          0.9230769230769231,
          0,
          0.3846153846153846,
          0.1794871794871793,
          0.3846153846153846,
          0.5897435897435899,
          0.5897435897435899,
          0.7948717948717947,
          0.1794871794871793,
          0.6153846153846154,
          0.07692307692307687,
          0.7692307692307692,
          0.1794871794871793,
          0.28205128205128216,
          0.3846153846153846,
          1,
          0.28205128205128216,
          0.28205128205128216
         ]
        },
        {
         "name": "L_READ",
         "type": "box",
         "y": [
          0.5714285714285703,
          0.24999999999999822,
          0.4642857142857131,
          0.6785714285714279,
          0.7142857142857135,
          0.9999999999999996,
          0.8571428571428563,
          0.5714285714285703,
          0.42857142857142705,
          0.2857142857142847,
          0.5714285714285703,
          0.9999999999999996,
          0.14285714285714146,
          0.2857142857142847,
          0.9999999999999996,
          0.7142857142857135,
          0,
          0.7142857142857135,
          0.14285714285714146
         ]
        },
        {
         "name": "OVERCOME",
         "type": "box",
         "y": [
          0.5482675401736196,
          0.6047061306940745,
          0.26270162726503343,
          0.23136605645581476,
          0.759265618599709,
          0.4532656767349509,
          0.7502422804504735,
          0.6093063910264341,
          0.46401679171306864,
          0.5198568282843447,
          0.3834907259338546,
          0.22241623943638733,
          0.1859758240903705,
          0.6607629111229983,
          0.07928859549895328,
          0.03876543118507925,
          0.7144767615611934,
          1,
          0
         ]
        },
        {
         "name": "SPARE_SUC",
         "type": "box",
         "y": [
          0.9736291694339372,
          0.5680438756622435,
          0.25574084618453186,
          0.8575058441165029,
          0.47463843268207695,
          0.18525175019789697,
          0.9946953232902243,
          0,
          0.23662774170789325,
          0.29299053744465886,
          0.48361979386942244,
          0.6389662549121,
          0.9999999999999998,
          0.7807401156854283,
          0.9282821087766748,
          0.7404022554587792,
          0.7076286980788125,
          0.7365198456726658,
          0.9261434286375214
         ]
        },
        {
         "name": "ball_pound",
         "type": "box",
         "y": [
          0,
          0,
          0,
          0,
          0,
          0,
          0,
          0,
          0,
          0,
          1,
          0,
          1,
          0,
          0,
          0,
          1,
          0,
          0
         ]
        },
        {
         "name": "TOT_AVG",
         "type": "box",
         "y": [
          0.4300283286118982,
          0.9433427762039668,
          0,
          0.3739376770538243,
          0.13314447592067902,
          0.09348441926345608,
          0.5014164305949009,
          0.5750708215297444,
          0.6770538243626056,
          0.38243626062322944,
          0.5609065155807369,
          0.08923512747875328,
          0.6161473087818701,
          0.3597733711048168,
          0.4107648725212476,
          0.3597733711048168,
          0.9999999999999996,
          0.6317280453257803,
          0.3597733711048168
         ]
        }
       ],
       "layout": {
        "template": {
         "data": {
          "bar": [
           {
            "error_x": {
             "color": "#2a3f5f"
            },
            "error_y": {
             "color": "#2a3f5f"
            },
            "marker": {
             "line": {
              "color": "#E5ECF6",
              "width": 0.5
             },
             "pattern": {
              "fillmode": "overlay",
              "size": 10,
              "solidity": 0.2
             }
            },
            "type": "bar"
           }
          ],
          "barpolar": [
           {
            "marker": {
             "line": {
              "color": "#E5ECF6",
              "width": 0.5
             },
             "pattern": {
              "fillmode": "overlay",
              "size": 10,
              "solidity": 0.2
             }
            },
            "type": "barpolar"
           }
          ],
          "carpet": [
           {
            "aaxis": {
             "endlinecolor": "#2a3f5f",
             "gridcolor": "white",
             "linecolor": "white",
             "minorgridcolor": "white",
             "startlinecolor": "#2a3f5f"
            },
            "baxis": {
             "endlinecolor": "#2a3f5f",
             "gridcolor": "white",
             "linecolor": "white",
             "minorgridcolor": "white",
             "startlinecolor": "#2a3f5f"
            },
            "type": "carpet"
           }
          ],
          "choropleth": [
           {
            "colorbar": {
             "outlinewidth": 0,
             "ticks": ""
            },
            "type": "choropleth"
           }
          ],
          "contour": [
           {
            "colorbar": {
             "outlinewidth": 0,
             "ticks": ""
            },
            "colorscale": [
             [
              0,
              "#0d0887"
             ],
             [
              0.1111111111111111,
              "#46039f"
             ],
             [
              0.2222222222222222,
              "#7201a8"
             ],
             [
              0.3333333333333333,
              "#9c179e"
             ],
             [
              0.4444444444444444,
              "#bd3786"
             ],
             [
              0.5555555555555556,
              "#d8576b"
             ],
             [
              0.6666666666666666,
              "#ed7953"
             ],
             [
              0.7777777777777778,
              "#fb9f3a"
             ],
             [
              0.8888888888888888,
              "#fdca26"
             ],
             [
              1,
              "#f0f921"
             ]
            ],
            "type": "contour"
           }
          ],
          "contourcarpet": [
           {
            "colorbar": {
             "outlinewidth": 0,
             "ticks": ""
            },
            "type": "contourcarpet"
           }
          ],
          "heatmap": [
           {
            "colorbar": {
             "outlinewidth": 0,
             "ticks": ""
            },
            "colorscale": [
             [
              0,
              "#0d0887"
             ],
             [
              0.1111111111111111,
              "#46039f"
             ],
             [
              0.2222222222222222,
              "#7201a8"
             ],
             [
              0.3333333333333333,
              "#9c179e"
             ],
             [
              0.4444444444444444,
              "#bd3786"
             ],
             [
              0.5555555555555556,
              "#d8576b"
             ],
             [
              0.6666666666666666,
              "#ed7953"
             ],
             [
              0.7777777777777778,
              "#fb9f3a"
             ],
             [
              0.8888888888888888,
              "#fdca26"
             ],
             [
              1,
              "#f0f921"
             ]
            ],
            "type": "heatmap"
           }
          ],
          "heatmapgl": [
           {
            "colorbar": {
             "outlinewidth": 0,
             "ticks": ""
            },
            "colorscale": [
             [
              0,
              "#0d0887"
             ],
             [
              0.1111111111111111,
              "#46039f"
             ],
             [
              0.2222222222222222,
              "#7201a8"
             ],
             [
              0.3333333333333333,
              "#9c179e"
             ],
             [
              0.4444444444444444,
              "#bd3786"
             ],
             [
              0.5555555555555556,
              "#d8576b"
             ],
             [
              0.6666666666666666,
              "#ed7953"
             ],
             [
              0.7777777777777778,
              "#fb9f3a"
             ],
             [
              0.8888888888888888,
              "#fdca26"
             ],
             [
              1,
              "#f0f921"
             ]
            ],
            "type": "heatmapgl"
           }
          ],
          "histogram": [
           {
            "marker": {
             "pattern": {
              "fillmode": "overlay",
              "size": 10,
              "solidity": 0.2
             }
            },
            "type": "histogram"
           }
          ],
          "histogram2d": [
           {
            "colorbar": {
             "outlinewidth": 0,
             "ticks": ""
            },
            "colorscale": [
             [
              0,
              "#0d0887"
             ],
             [
              0.1111111111111111,
              "#46039f"
             ],
             [
              0.2222222222222222,
              "#7201a8"
             ],
             [
              0.3333333333333333,
              "#9c179e"
             ],
             [
              0.4444444444444444,
              "#bd3786"
             ],
             [
              0.5555555555555556,
              "#d8576b"
             ],
             [
              0.6666666666666666,
              "#ed7953"
             ],
             [
              0.7777777777777778,
              "#fb9f3a"
             ],
             [
              0.8888888888888888,
              "#fdca26"
             ],
             [
              1,
              "#f0f921"
             ]
            ],
            "type": "histogram2d"
           }
          ],
          "histogram2dcontour": [
           {
            "colorbar": {
             "outlinewidth": 0,
             "ticks": ""
            },
            "colorscale": [
             [
              0,
              "#0d0887"
             ],
             [
              0.1111111111111111,
              "#46039f"
             ],
             [
              0.2222222222222222,
              "#7201a8"
             ],
             [
              0.3333333333333333,
              "#9c179e"
             ],
             [
              0.4444444444444444,
              "#bd3786"
             ],
             [
              0.5555555555555556,
              "#d8576b"
             ],
             [
              0.6666666666666666,
              "#ed7953"
             ],
             [
              0.7777777777777778,
              "#fb9f3a"
             ],
             [
              0.8888888888888888,
              "#fdca26"
             ],
             [
              1,
              "#f0f921"
             ]
            ],
            "type": "histogram2dcontour"
           }
          ],
          "mesh3d": [
           {
            "colorbar": {
             "outlinewidth": 0,
             "ticks": ""
            },
            "type": "mesh3d"
           }
          ],
          "parcoords": [
           {
            "line": {
             "colorbar": {
              "outlinewidth": 0,
              "ticks": ""
             }
            },
            "type": "parcoords"
           }
          ],
          "pie": [
           {
            "automargin": true,
            "type": "pie"
           }
          ],
          "scatter": [
           {
            "fillpattern": {
             "fillmode": "overlay",
             "size": 10,
             "solidity": 0.2
            },
            "type": "scatter"
           }
          ],
          "scatter3d": [
           {
            "line": {
             "colorbar": {
              "outlinewidth": 0,
              "ticks": ""
             }
            },
            "marker": {
             "colorbar": {
              "outlinewidth": 0,
              "ticks": ""
             }
            },
            "type": "scatter3d"
           }
          ],
          "scattercarpet": [
           {
            "marker": {
             "colorbar": {
              "outlinewidth": 0,
              "ticks": ""
             }
            },
            "type": "scattercarpet"
           }
          ],
          "scattergeo": [
           {
            "marker": {
             "colorbar": {
              "outlinewidth": 0,
              "ticks": ""
             }
            },
            "type": "scattergeo"
           }
          ],
          "scattergl": [
           {
            "marker": {
             "colorbar": {
              "outlinewidth": 0,
              "ticks": ""
             }
            },
            "type": "scattergl"
           }
          ],
          "scattermapbox": [
           {
            "marker": {
             "colorbar": {
              "outlinewidth": 0,
              "ticks": ""
             }
            },
            "type": "scattermapbox"
           }
          ],
          "scatterpolar": [
           {
            "marker": {
             "colorbar": {
              "outlinewidth": 0,
              "ticks": ""
             }
            },
            "type": "scatterpolar"
           }
          ],
          "scatterpolargl": [
           {
            "marker": {
             "colorbar": {
              "outlinewidth": 0,
              "ticks": ""
             }
            },
            "type": "scatterpolargl"
           }
          ],
          "scatterternary": [
           {
            "marker": {
             "colorbar": {
              "outlinewidth": 0,
              "ticks": ""
             }
            },
            "type": "scatterternary"
           }
          ],
          "surface": [
           {
            "colorbar": {
             "outlinewidth": 0,
             "ticks": ""
            },
            "colorscale": [
             [
              0,
              "#0d0887"
             ],
             [
              0.1111111111111111,
              "#46039f"
             ],
             [
              0.2222222222222222,
              "#7201a8"
             ],
             [
              0.3333333333333333,
              "#9c179e"
             ],
             [
              0.4444444444444444,
              "#bd3786"
             ],
             [
              0.5555555555555556,
              "#d8576b"
             ],
             [
              0.6666666666666666,
              "#ed7953"
             ],
             [
              0.7777777777777778,
              "#fb9f3a"
             ],
             [
              0.8888888888888888,
              "#fdca26"
             ],
             [
              1,
              "#f0f921"
             ]
            ],
            "type": "surface"
           }
          ],
          "table": [
           {
            "cells": {
             "fill": {
              "color": "#EBF0F8"
             },
             "line": {
              "color": "white"
             }
            },
            "header": {
             "fill": {
              "color": "#C8D4E3"
             },
             "line": {
              "color": "white"
             }
            },
            "type": "table"
           }
          ]
         },
         "layout": {
          "annotationdefaults": {
           "arrowcolor": "#2a3f5f",
           "arrowhead": 0,
           "arrowwidth": 1
          },
          "autotypenumbers": "strict",
          "coloraxis": {
           "colorbar": {
            "outlinewidth": 0,
            "ticks": ""
           }
          },
          "colorscale": {
           "diverging": [
            [
             0,
             "#8e0152"
            ],
            [
             0.1,
             "#c51b7d"
            ],
            [
             0.2,
             "#de77ae"
            ],
            [
             0.3,
             "#f1b6da"
            ],
            [
             0.4,
             "#fde0ef"
            ],
            [
             0.5,
             "#f7f7f7"
            ],
            [
             0.6,
             "#e6f5d0"
            ],
            [
             0.7,
             "#b8e186"
            ],
            [
             0.8,
             "#7fbc41"
            ],
            [
             0.9,
             "#4d9221"
            ],
            [
             1,
             "#276419"
            ]
           ],
           "sequential": [
            [
             0,
             "#0d0887"
            ],
            [
             0.1111111111111111,
             "#46039f"
            ],
            [
             0.2222222222222222,
             "#7201a8"
            ],
            [
             0.3333333333333333,
             "#9c179e"
            ],
            [
             0.4444444444444444,
             "#bd3786"
            ],
            [
             0.5555555555555556,
             "#d8576b"
            ],
            [
             0.6666666666666666,
             "#ed7953"
            ],
            [
             0.7777777777777778,
             "#fb9f3a"
            ],
            [
             0.8888888888888888,
             "#fdca26"
            ],
            [
             1,
             "#f0f921"
            ]
           ],
           "sequentialminus": [
            [
             0,
             "#0d0887"
            ],
            [
             0.1111111111111111,
             "#46039f"
            ],
            [
             0.2222222222222222,
             "#7201a8"
            ],
            [
             0.3333333333333333,
             "#9c179e"
            ],
            [
             0.4444444444444444,
             "#bd3786"
            ],
            [
             0.5555555555555556,
             "#d8576b"
            ],
            [
             0.6666666666666666,
             "#ed7953"
            ],
            [
             0.7777777777777778,
             "#fb9f3a"
            ],
            [
             0.8888888888888888,
             "#fdca26"
            ],
            [
             1,
             "#f0f921"
            ]
           ]
          },
          "colorway": [
           "#636efa",
           "#EF553B",
           "#00cc96",
           "#ab63fa",
           "#FFA15A",
           "#19d3f3",
           "#FF6692",
           "#B6E880",
           "#FF97FF",
           "#FECB52"
          ],
          "font": {
           "color": "#2a3f5f"
          },
          "geo": {
           "bgcolor": "white",
           "lakecolor": "white",
           "landcolor": "#E5ECF6",
           "showlakes": true,
           "showland": true,
           "subunitcolor": "white"
          },
          "hoverlabel": {
           "align": "left"
          },
          "hovermode": "closest",
          "mapbox": {
           "style": "light"
          },
          "paper_bgcolor": "white",
          "plot_bgcolor": "#E5ECF6",
          "polar": {
           "angularaxis": {
            "gridcolor": "white",
            "linecolor": "white",
            "ticks": ""
           },
           "bgcolor": "#E5ECF6",
           "radialaxis": {
            "gridcolor": "white",
            "linecolor": "white",
            "ticks": ""
           }
          },
          "scene": {
           "xaxis": {
            "backgroundcolor": "#E5ECF6",
            "gridcolor": "white",
            "gridwidth": 2,
            "linecolor": "white",
            "showbackground": true,
            "ticks": "",
            "zerolinecolor": "white"
           },
           "yaxis": {
            "backgroundcolor": "#E5ECF6",
            "gridcolor": "white",
            "gridwidth": 2,
            "linecolor": "white",
            "showbackground": true,
            "ticks": "",
            "zerolinecolor": "white"
           },
           "zaxis": {
            "backgroundcolor": "#E5ECF6",
            "gridcolor": "white",
            "gridwidth": 2,
            "linecolor": "white",
            "showbackground": true,
            "ticks": "",
            "zerolinecolor": "white"
           }
          },
          "shapedefaults": {
           "line": {
            "color": "#2a3f5f"
           }
          },
          "ternary": {
           "aaxis": {
            "gridcolor": "white",
            "linecolor": "white",
            "ticks": ""
           },
           "baxis": {
            "gridcolor": "white",
            "linecolor": "white",
            "ticks": ""
           },
           "bgcolor": "#E5ECF6",
           "caxis": {
            "gridcolor": "white",
            "linecolor": "white",
            "ticks": ""
           }
          },
          "title": {
           "x": 0.05
          },
          "xaxis": {
           "automargin": true,
           "gridcolor": "white",
           "linecolor": "white",
           "ticks": "",
           "title": {
            "standoff": 15
           },
           "zerolinecolor": "white",
           "zerolinewidth": 2
          },
          "yaxis": {
           "automargin": true,
           "gridcolor": "white",
           "linecolor": "white",
           "ticks": "",
           "title": {
            "standoff": 15
           },
           "zerolinecolor": "white",
           "zerolinewidth": 2
          }
         }
        }
       }
      }
     },
     "metadata": {},
     "output_type": "display_data"
    }
   ],
   "source": [
    "fig= go.Figure()\n",
    "fig.add_traces(go.Box(y=bowling_mms_pd['CON_ST'],name='CON_ST'))\n",
    "fig.add_traces(go.Box(y=bowling_mms_pd['L_READ'],name='L_READ'))\n",
    "fig.add_traces(go.Box(y=bowling_mms_pd['OVERCOME'],name='OVERCOME'))\n",
    "fig.add_traces(go.Box(y=bowling_mms_pd['SPARE_SUC'],name='SPARE_SUC'))\n",
    "fig.add_traces(go.Box(y=bowling_mms_pd['ball_pound'],name='ball_pound'))\n",
    "fig.add_traces(go.Box(y=bowling_mms_pd['TOT_AVG'],name='TOT_AVG'))\n"
   ]
  },
  {
   "cell_type": "code",
   "execution_count": 54,
   "metadata": {},
   "outputs": [
    {
     "data": {
      "text/html": [
       "<div>\n",
       "<style scoped>\n",
       "    .dataframe tbody tr th:only-of-type {\n",
       "        vertical-align: middle;\n",
       "    }\n",
       "\n",
       "    .dataframe tbody tr th {\n",
       "        vertical-align: top;\n",
       "    }\n",
       "\n",
       "    .dataframe thead th {\n",
       "        text-align: right;\n",
       "    }\n",
       "</style>\n",
       "<table border=\"1\" class=\"dataframe\">\n",
       "  <thead>\n",
       "    <tr style=\"text-align: right;\">\n",
       "      <th></th>\n",
       "      <th>CON_ST</th>\n",
       "      <th>L_READ</th>\n",
       "      <th>OVERCOME</th>\n",
       "      <th>SPARE_SUC</th>\n",
       "      <th>ball_pound</th>\n",
       "      <th>TOT_AVG</th>\n",
       "    </tr>\n",
       "  </thead>\n",
       "  <tbody>\n",
       "    <tr>\n",
       "      <th>0</th>\n",
       "      <td>0.234471</td>\n",
       "      <td>0.082023</td>\n",
       "      <td>0.376106</td>\n",
       "      <td>1.175288</td>\n",
       "      <td>-0.433013</td>\n",
       "      <td>-0.066266</td>\n",
       "    </tr>\n",
       "    <tr>\n",
       "      <th>1</th>\n",
       "      <td>1.725594</td>\n",
       "      <td>-0.996890</td>\n",
       "      <td>0.585194</td>\n",
       "      <td>-0.172963</td>\n",
       "      <td>-0.433013</td>\n",
       "      <td>1.907269</td>\n",
       "    </tr>\n",
       "    <tr>\n",
       "      <th>2</th>\n",
       "      <td>-1.588011</td>\n",
       "      <td>-0.277615</td>\n",
       "      <td>-0.681827</td>\n",
       "      <td>-1.211123</td>\n",
       "      <td>-0.433013</td>\n",
       "      <td>-1.719592</td>\n",
       "    </tr>\n",
       "    <tr>\n",
       "      <th>3</th>\n",
       "      <td>-0.207343</td>\n",
       "      <td>0.441660</td>\n",
       "      <td>-0.797915</td>\n",
       "      <td>0.789270</td>\n",
       "      <td>-0.433013</td>\n",
       "      <td>-0.281917</td>\n",
       "    </tr>\n",
       "    <tr>\n",
       "      <th>4</th>\n",
       "      <td>-0.943699</td>\n",
       "      <td>0.561539</td>\n",
       "      <td>1.157788</td>\n",
       "      <td>-0.483462</td>\n",
       "      <td>-0.433013</td>\n",
       "      <td>-1.207692</td>\n",
       "    </tr>\n",
       "  </tbody>\n",
       "</table>\n",
       "</div>"
      ],
      "text/plain": [
       "     CON_ST    L_READ  OVERCOME  SPARE_SUC  ball_pound   TOT_AVG\n",
       "0  0.234471  0.082023  0.376106   1.175288   -0.433013 -0.066266\n",
       "1  1.725594 -0.996890  0.585194  -0.172963   -0.433013  1.907269\n",
       "2 -1.588011 -0.277615 -0.681827  -1.211123   -0.433013 -1.719592\n",
       "3 -0.207343  0.441660 -0.797915   0.789270   -0.433013 -0.281917\n",
       "4 -0.943699  0.561539  1.157788  -0.483462   -0.433013 -1.207692"
      ]
     },
     "execution_count": 54,
     "metadata": {},
     "output_type": "execute_result"
    }
   ],
   "source": [
    "bowling_ss_pd.head()"
   ]
  },
  {
   "cell_type": "code",
   "execution_count": 57,
   "metadata": {},
   "outputs": [
    {
     "data": {
      "application/vnd.plotly.v1+json": {
       "config": {
        "plotlyServerURL": "https://plot.ly"
       },
       "data": [
        {
         "name": "CON_ST",
         "type": "box",
         "y": [
          0.2344714678507482,
          1.725593736537938,
          -1.588011304989151,
          -0.20734253768619737,
          -0.9436992135811063,
          -0.20734253768619737,
          0.5290141382087116,
          0.5290141382087116,
          1.2653708141036195,
          -0.9436992135811063,
          0.6210587226955748,
          -1.3118775515285603,
          1.1733262296167564,
          -0.9436992135811063,
          -0.5755208756336514,
          -0.20734253768619737,
          2.0017274899985287,
          -0.5755208756336514,
          -0.5755208756336514
         ]
        },
        {
         "name": "L_READ",
         "type": "box",
         "y": [
          0.0820226005828235,
          -0.9968900686220116,
          -0.2776149558187882,
          0.4416601569844352,
          0.56153934245164,
          1.5205728261892704,
          1.041056084320454,
          0.0820226005828235,
          -0.397494141285993,
          -0.8770108831548069,
          0.0820226005828235,
          1.5205728261892704,
          -1.3565276250236233,
          -0.8770108831548069,
          1.5205728261892704,
          0.56153934245164,
          -1.8360443668924347,
          0.56153934245164,
          -1.3565276250236233
         ]
        },
        {
         "name": "OVERCOME",
         "type": "box",
         "y": [
          0.3761062172794908,
          0.5851936333450825,
          -0.6818266314302616,
          -0.7979151706907402,
          1.1577884422621796,
          0.024153874660156716,
          1.1243597821820535,
          0.6022361664284254,
          0.063983410264594,
          0.27085337019856354,
          -0.23434060641334797,
          -0.8310714578622583,
          -0.9660718576736992,
          0.792866561828156,
          -1.3613148420868884,
          -1.5114405564085192,
          0.9918596637374862,
          2.0496344168155813,
          -1.6550544164360677
         ]
        },
        {
         "name": "SPARE_SUC",
         "type": "box",
         "y": [
          1.1752880091255216,
          -0.1729625452917,
          -1.2111232949675033,
          0.7892697285215595,
          -0.48346182181252156,
          -1.4454438292762406,
          1.2453163214246497,
          -2.061259488143965,
          -1.274659261638346,
          -1.0872975111815488,
          -0.4536058941292158,
          0.06279831342926032,
          1.2629501790244888,
          0.5340843519637529,
          1.0245448717109753,
          0.39999284704543586,
          0.2910466707754508,
          0.3870869029025285,
          1.017435450517421
         ]
        },
        {
         "name": "ball_pound",
         "type": "box",
         "y": [
          -0.433012701892217,
          -0.433012701892217,
          -0.433012701892217,
          -0.433012701892217,
          -0.433012701892217,
          -0.433012701892217,
          -0.433012701892217,
          -0.433012701892217,
          -0.433012701892217,
          -0.433012701892217,
          2.3094010767585056,
          -0.433012701892217,
          2.3094010767585056,
          -0.433012701892217,
          -0.433012701892217,
          -0.433012701892217,
          2.3094010767585056,
          -0.433012701892217,
          -0.433012701892217
         ]
        },
        {
         "name": "TOT_AVG",
         "type": "box",
         "y": [
          -0.0662660177542636,
          1.9072689815915276,
          -1.7195916960141497,
          -0.2819171931794668,
          -1.2076924412169552,
          -1.360173070305479,
          0.2081991146050842,
          0.49137742576948834,
          0.8834704719971291,
          -0.24924277266049671,
          0.43692005823787466,
          -1.376510280564964,
          0.6493037916111801,
          -0.33637456071108046,
          -0.14032803759726006,
          -0.33637456071108046,
          2.125098451717992,
          0.7092068958959616,
          -0.33637456071108046
         ]
        }
       ],
       "layout": {
        "template": {
         "data": {
          "bar": [
           {
            "error_x": {
             "color": "#2a3f5f"
            },
            "error_y": {
             "color": "#2a3f5f"
            },
            "marker": {
             "line": {
              "color": "#E5ECF6",
              "width": 0.5
             },
             "pattern": {
              "fillmode": "overlay",
              "size": 10,
              "solidity": 0.2
             }
            },
            "type": "bar"
           }
          ],
          "barpolar": [
           {
            "marker": {
             "line": {
              "color": "#E5ECF6",
              "width": 0.5
             },
             "pattern": {
              "fillmode": "overlay",
              "size": 10,
              "solidity": 0.2
             }
            },
            "type": "barpolar"
           }
          ],
          "carpet": [
           {
            "aaxis": {
             "endlinecolor": "#2a3f5f",
             "gridcolor": "white",
             "linecolor": "white",
             "minorgridcolor": "white",
             "startlinecolor": "#2a3f5f"
            },
            "baxis": {
             "endlinecolor": "#2a3f5f",
             "gridcolor": "white",
             "linecolor": "white",
             "minorgridcolor": "white",
             "startlinecolor": "#2a3f5f"
            },
            "type": "carpet"
           }
          ],
          "choropleth": [
           {
            "colorbar": {
             "outlinewidth": 0,
             "ticks": ""
            },
            "type": "choropleth"
           }
          ],
          "contour": [
           {
            "colorbar": {
             "outlinewidth": 0,
             "ticks": ""
            },
            "colorscale": [
             [
              0,
              "#0d0887"
             ],
             [
              0.1111111111111111,
              "#46039f"
             ],
             [
              0.2222222222222222,
              "#7201a8"
             ],
             [
              0.3333333333333333,
              "#9c179e"
             ],
             [
              0.4444444444444444,
              "#bd3786"
             ],
             [
              0.5555555555555556,
              "#d8576b"
             ],
             [
              0.6666666666666666,
              "#ed7953"
             ],
             [
              0.7777777777777778,
              "#fb9f3a"
             ],
             [
              0.8888888888888888,
              "#fdca26"
             ],
             [
              1,
              "#f0f921"
             ]
            ],
            "type": "contour"
           }
          ],
          "contourcarpet": [
           {
            "colorbar": {
             "outlinewidth": 0,
             "ticks": ""
            },
            "type": "contourcarpet"
           }
          ],
          "heatmap": [
           {
            "colorbar": {
             "outlinewidth": 0,
             "ticks": ""
            },
            "colorscale": [
             [
              0,
              "#0d0887"
             ],
             [
              0.1111111111111111,
              "#46039f"
             ],
             [
              0.2222222222222222,
              "#7201a8"
             ],
             [
              0.3333333333333333,
              "#9c179e"
             ],
             [
              0.4444444444444444,
              "#bd3786"
             ],
             [
              0.5555555555555556,
              "#d8576b"
             ],
             [
              0.6666666666666666,
              "#ed7953"
             ],
             [
              0.7777777777777778,
              "#fb9f3a"
             ],
             [
              0.8888888888888888,
              "#fdca26"
             ],
             [
              1,
              "#f0f921"
             ]
            ],
            "type": "heatmap"
           }
          ],
          "heatmapgl": [
           {
            "colorbar": {
             "outlinewidth": 0,
             "ticks": ""
            },
            "colorscale": [
             [
              0,
              "#0d0887"
             ],
             [
              0.1111111111111111,
              "#46039f"
             ],
             [
              0.2222222222222222,
              "#7201a8"
             ],
             [
              0.3333333333333333,
              "#9c179e"
             ],
             [
              0.4444444444444444,
              "#bd3786"
             ],
             [
              0.5555555555555556,
              "#d8576b"
             ],
             [
              0.6666666666666666,
              "#ed7953"
             ],
             [
              0.7777777777777778,
              "#fb9f3a"
             ],
             [
              0.8888888888888888,
              "#fdca26"
             ],
             [
              1,
              "#f0f921"
             ]
            ],
            "type": "heatmapgl"
           }
          ],
          "histogram": [
           {
            "marker": {
             "pattern": {
              "fillmode": "overlay",
              "size": 10,
              "solidity": 0.2
             }
            },
            "type": "histogram"
           }
          ],
          "histogram2d": [
           {
            "colorbar": {
             "outlinewidth": 0,
             "ticks": ""
            },
            "colorscale": [
             [
              0,
              "#0d0887"
             ],
             [
              0.1111111111111111,
              "#46039f"
             ],
             [
              0.2222222222222222,
              "#7201a8"
             ],
             [
              0.3333333333333333,
              "#9c179e"
             ],
             [
              0.4444444444444444,
              "#bd3786"
             ],
             [
              0.5555555555555556,
              "#d8576b"
             ],
             [
              0.6666666666666666,
              "#ed7953"
             ],
             [
              0.7777777777777778,
              "#fb9f3a"
             ],
             [
              0.8888888888888888,
              "#fdca26"
             ],
             [
              1,
              "#f0f921"
             ]
            ],
            "type": "histogram2d"
           }
          ],
          "histogram2dcontour": [
           {
            "colorbar": {
             "outlinewidth": 0,
             "ticks": ""
            },
            "colorscale": [
             [
              0,
              "#0d0887"
             ],
             [
              0.1111111111111111,
              "#46039f"
             ],
             [
              0.2222222222222222,
              "#7201a8"
             ],
             [
              0.3333333333333333,
              "#9c179e"
             ],
             [
              0.4444444444444444,
              "#bd3786"
             ],
             [
              0.5555555555555556,
              "#d8576b"
             ],
             [
              0.6666666666666666,
              "#ed7953"
             ],
             [
              0.7777777777777778,
              "#fb9f3a"
             ],
             [
              0.8888888888888888,
              "#fdca26"
             ],
             [
              1,
              "#f0f921"
             ]
            ],
            "type": "histogram2dcontour"
           }
          ],
          "mesh3d": [
           {
            "colorbar": {
             "outlinewidth": 0,
             "ticks": ""
            },
            "type": "mesh3d"
           }
          ],
          "parcoords": [
           {
            "line": {
             "colorbar": {
              "outlinewidth": 0,
              "ticks": ""
             }
            },
            "type": "parcoords"
           }
          ],
          "pie": [
           {
            "automargin": true,
            "type": "pie"
           }
          ],
          "scatter": [
           {
            "fillpattern": {
             "fillmode": "overlay",
             "size": 10,
             "solidity": 0.2
            },
            "type": "scatter"
           }
          ],
          "scatter3d": [
           {
            "line": {
             "colorbar": {
              "outlinewidth": 0,
              "ticks": ""
             }
            },
            "marker": {
             "colorbar": {
              "outlinewidth": 0,
              "ticks": ""
             }
            },
            "type": "scatter3d"
           }
          ],
          "scattercarpet": [
           {
            "marker": {
             "colorbar": {
              "outlinewidth": 0,
              "ticks": ""
             }
            },
            "type": "scattercarpet"
           }
          ],
          "scattergeo": [
           {
            "marker": {
             "colorbar": {
              "outlinewidth": 0,
              "ticks": ""
             }
            },
            "type": "scattergeo"
           }
          ],
          "scattergl": [
           {
            "marker": {
             "colorbar": {
              "outlinewidth": 0,
              "ticks": ""
             }
            },
            "type": "scattergl"
           }
          ],
          "scattermapbox": [
           {
            "marker": {
             "colorbar": {
              "outlinewidth": 0,
              "ticks": ""
             }
            },
            "type": "scattermapbox"
           }
          ],
          "scatterpolar": [
           {
            "marker": {
             "colorbar": {
              "outlinewidth": 0,
              "ticks": ""
             }
            },
            "type": "scatterpolar"
           }
          ],
          "scatterpolargl": [
           {
            "marker": {
             "colorbar": {
              "outlinewidth": 0,
              "ticks": ""
             }
            },
            "type": "scatterpolargl"
           }
          ],
          "scatterternary": [
           {
            "marker": {
             "colorbar": {
              "outlinewidth": 0,
              "ticks": ""
             }
            },
            "type": "scatterternary"
           }
          ],
          "surface": [
           {
            "colorbar": {
             "outlinewidth": 0,
             "ticks": ""
            },
            "colorscale": [
             [
              0,
              "#0d0887"
             ],
             [
              0.1111111111111111,
              "#46039f"
             ],
             [
              0.2222222222222222,
              "#7201a8"
             ],
             [
              0.3333333333333333,
              "#9c179e"
             ],
             [
              0.4444444444444444,
              "#bd3786"
             ],
             [
              0.5555555555555556,
              "#d8576b"
             ],
             [
              0.6666666666666666,
              "#ed7953"
             ],
             [
              0.7777777777777778,
              "#fb9f3a"
             ],
             [
              0.8888888888888888,
              "#fdca26"
             ],
             [
              1,
              "#f0f921"
             ]
            ],
            "type": "surface"
           }
          ],
          "table": [
           {
            "cells": {
             "fill": {
              "color": "#EBF0F8"
             },
             "line": {
              "color": "white"
             }
            },
            "header": {
             "fill": {
              "color": "#C8D4E3"
             },
             "line": {
              "color": "white"
             }
            },
            "type": "table"
           }
          ]
         },
         "layout": {
          "annotationdefaults": {
           "arrowcolor": "#2a3f5f",
           "arrowhead": 0,
           "arrowwidth": 1
          },
          "autotypenumbers": "strict",
          "coloraxis": {
           "colorbar": {
            "outlinewidth": 0,
            "ticks": ""
           }
          },
          "colorscale": {
           "diverging": [
            [
             0,
             "#8e0152"
            ],
            [
             0.1,
             "#c51b7d"
            ],
            [
             0.2,
             "#de77ae"
            ],
            [
             0.3,
             "#f1b6da"
            ],
            [
             0.4,
             "#fde0ef"
            ],
            [
             0.5,
             "#f7f7f7"
            ],
            [
             0.6,
             "#e6f5d0"
            ],
            [
             0.7,
             "#b8e186"
            ],
            [
             0.8,
             "#7fbc41"
            ],
            [
             0.9,
             "#4d9221"
            ],
            [
             1,
             "#276419"
            ]
           ],
           "sequential": [
            [
             0,
             "#0d0887"
            ],
            [
             0.1111111111111111,
             "#46039f"
            ],
            [
             0.2222222222222222,
             "#7201a8"
            ],
            [
             0.3333333333333333,
             "#9c179e"
            ],
            [
             0.4444444444444444,
             "#bd3786"
            ],
            [
             0.5555555555555556,
             "#d8576b"
            ],
            [
             0.6666666666666666,
             "#ed7953"
            ],
            [
             0.7777777777777778,
             "#fb9f3a"
            ],
            [
             0.8888888888888888,
             "#fdca26"
            ],
            [
             1,
             "#f0f921"
            ]
           ],
           "sequentialminus": [
            [
             0,
             "#0d0887"
            ],
            [
             0.1111111111111111,
             "#46039f"
            ],
            [
             0.2222222222222222,
             "#7201a8"
            ],
            [
             0.3333333333333333,
             "#9c179e"
            ],
            [
             0.4444444444444444,
             "#bd3786"
            ],
            [
             0.5555555555555556,
             "#d8576b"
            ],
            [
             0.6666666666666666,
             "#ed7953"
            ],
            [
             0.7777777777777778,
             "#fb9f3a"
            ],
            [
             0.8888888888888888,
             "#fdca26"
            ],
            [
             1,
             "#f0f921"
            ]
           ]
          },
          "colorway": [
           "#636efa",
           "#EF553B",
           "#00cc96",
           "#ab63fa",
           "#FFA15A",
           "#19d3f3",
           "#FF6692",
           "#B6E880",
           "#FF97FF",
           "#FECB52"
          ],
          "font": {
           "color": "#2a3f5f"
          },
          "geo": {
           "bgcolor": "white",
           "lakecolor": "white",
           "landcolor": "#E5ECF6",
           "showlakes": true,
           "showland": true,
           "subunitcolor": "white"
          },
          "hoverlabel": {
           "align": "left"
          },
          "hovermode": "closest",
          "mapbox": {
           "style": "light"
          },
          "paper_bgcolor": "white",
          "plot_bgcolor": "#E5ECF6",
          "polar": {
           "angularaxis": {
            "gridcolor": "white",
            "linecolor": "white",
            "ticks": ""
           },
           "bgcolor": "#E5ECF6",
           "radialaxis": {
            "gridcolor": "white",
            "linecolor": "white",
            "ticks": ""
           }
          },
          "scene": {
           "xaxis": {
            "backgroundcolor": "#E5ECF6",
            "gridcolor": "white",
            "gridwidth": 2,
            "linecolor": "white",
            "showbackground": true,
            "ticks": "",
            "zerolinecolor": "white"
           },
           "yaxis": {
            "backgroundcolor": "#E5ECF6",
            "gridcolor": "white",
            "gridwidth": 2,
            "linecolor": "white",
            "showbackground": true,
            "ticks": "",
            "zerolinecolor": "white"
           },
           "zaxis": {
            "backgroundcolor": "#E5ECF6",
            "gridcolor": "white",
            "gridwidth": 2,
            "linecolor": "white",
            "showbackground": true,
            "ticks": "",
            "zerolinecolor": "white"
           }
          },
          "shapedefaults": {
           "line": {
            "color": "#2a3f5f"
           }
          },
          "ternary": {
           "aaxis": {
            "gridcolor": "white",
            "linecolor": "white",
            "ticks": ""
           },
           "baxis": {
            "gridcolor": "white",
            "linecolor": "white",
            "ticks": ""
           },
           "bgcolor": "#E5ECF6",
           "caxis": {
            "gridcolor": "white",
            "linecolor": "white",
            "ticks": ""
           }
          },
          "title": {
           "x": 0.05
          },
          "xaxis": {
           "automargin": true,
           "gridcolor": "white",
           "linecolor": "white",
           "ticks": "",
           "title": {
            "standoff": 15
           },
           "zerolinecolor": "white",
           "zerolinewidth": 2
          },
          "yaxis": {
           "automargin": true,
           "gridcolor": "white",
           "linecolor": "white",
           "ticks": "",
           "title": {
            "standoff": 15
           },
           "zerolinecolor": "white",
           "zerolinewidth": 2
          }
         }
        }
       }
      }
     },
     "metadata": {},
     "output_type": "display_data"
    }
   ],
   "source": [
    "fig= go.Figure()\n",
    "fig.add_traces(go.Box(y=bowling_ss_pd['CON_ST'],name='CON_ST'))\n",
    "fig.add_traces(go.Box(y=bowling_ss_pd['L_READ'],name='L_READ'))\n",
    "fig.add_traces(go.Box(y=bowling_ss_pd['OVERCOME'],name='OVERCOME'))\n",
    "fig.add_traces(go.Box(y=bowling_ss_pd['SPARE_SUC'],name='SPARE_SUC'))\n",
    "fig.add_traces(go.Box(y=bowling_ss_pd['ball_pound'],name='ball_pound'))\n",
    "fig.add_traces(go.Box(y=bowling_ss_pd['TOT_AVG'],name='TOT_AVG'))"
   ]
  },
  {
   "cell_type": "code",
   "execution_count": 58,
   "metadata": {},
   "outputs": [],
   "source": [
    "# 2-1) min-max scaler >> 다중선형회귀\n",
    "\n",
    "\n",
    "X=bowling_mms_pd.drop(['TOT_AVG'],axis=1)\n",
    "y=bowling_mms_pd['TOT_AVG']\n",
    "X_train, X_test, y_train, y_test = train_test_split(X,y,test_size=0.2, random_state=13)\n",
    "\n",
    "\n",
    "lr= linear_model.LinearRegression()\n",
    "lr_model=lr.fit(X_train, y_train)\n"
   ]
  },
  {
   "cell_type": "code",
   "execution_count": 59,
   "metadata": {},
   "outputs": [
    {
     "name": "stdout",
     "output_type": "stream",
     "text": [
      "RMSE of train data:  0.11156610654943816\n",
      "RMSE of test data:  0.07959067931636159\n"
     ]
    }
   ],
   "source": [
    "#에러 계산 (동일)\n",
    "\n",
    "# pred_tr=lr.predict(X_train)\n",
    "# pred_test=lr.predict(X_test)\n",
    "\n",
    "# rmse_tr = (np.sqrt(mean_squared_error(y_train, pred_tr)))\n",
    "# rmse_test = (np.sqrt(mean_squared_error(y_test, pred_test)))\n",
    "\n",
    "# print(\"RMSE of train data: \",rmse_tr)\n",
    "# print(\"RMSE of test data: \",rmse_test)"
   ]
  },
  {
   "cell_type": "code",
   "execution_count": 60,
   "metadata": {},
   "outputs": [
    {
     "name": "stdout",
     "output_type": "stream",
     "text": [
      "학습 데이터셋의 R2 score :  0.779152387017082\n",
      "테스트 데이터셋의 R2 score :  0.938955808527961\n",
      "학습 데이터셋의 RMSE :  0.11156610654943816\n",
      "테스트 데이터셋의 RMSE :  0.07959067931636159\n"
     ]
    }
   ],
   "source": [
    "\n",
    "print('학습 데이터셋의 R2 score : ',lr_model.score(X_train, y_train))\n",
    "print('테스트 데이터셋의 R2 score : ',lr_model.score(X_test, y_test))\n",
    "\n",
    "y_pred=lr.predict(X_train)\n",
    "print('학습 데이터셋의 RMSE : ', sqrt(mean_squared_error(y_train, y_pred)))\n",
    "y_pred=lr.predict(X_test)\n",
    "print('테스트 데이터셋의 RMSE : ', sqrt(mean_squared_error(y_test, y_pred)))"
   ]
  },
  {
   "cell_type": "code",
   "execution_count": null,
   "metadata": {},
   "outputs": [],
   "source": [
    "#scaling 이전에 비해  R2 score 동일 / RMSE가 감소 "
   ]
  },
  {
   "cell_type": "code",
   "execution_count": 61,
   "metadata": {},
   "outputs": [],
   "source": [
    "# 2-2) standard scaler >> 다중선형회귀\n",
    "\n",
    "X=bowling_ss_pd.drop(['TOT_AVG'],axis=1)\n",
    "y=bowling_ss_pd['TOT_AVG']\n",
    "X_train, X_test, y_train, y_test = train_test_split(X,y,test_size=0.2, random_state=13)\n",
    "\n",
    "\n",
    "lr= linear_model.LinearRegression()\n",
    "lr_model=lr.fit(X_train, y_train)\n"
   ]
  },
  {
   "cell_type": "code",
   "execution_count": 62,
   "metadata": {},
   "outputs": [
    {
     "name": "stdout",
     "output_type": "stream",
     "text": [
      "학습 데이터셋의 R2 score :  0.779152387017082\n",
      "테스트 데이터셋의 R2 score :  0.9389558085279612\n",
      "학습 데이터셋의 RMSE :  0.42893711067145923\n",
      "테스트 데이터셋의 RMSE :  0.30600150061892284\n"
     ]
    }
   ],
   "source": [
    "\n",
    "print('학습 데이터셋의 R2 score : ',lr_model.score(X_train, y_train))\n",
    "print('테스트 데이터셋의 R2 score : ',lr_model.score(X_test, y_test))\n",
    "\n",
    "y_pred=lr.predict(X_train)\n",
    "print('학습 데이터셋의 RMSE : ', sqrt(mean_squared_error(y_train, y_pred)))\n",
    "y_pred=lr.predict(X_test)\n",
    "print('테스트 데이터셋의 RMSE : ', sqrt(mean_squared_error(y_test, y_pred)))\n",
    "\n",
    "\n"
   ]
  },
  {
   "cell_type": "code",
   "execution_count": null,
   "metadata": {},
   "outputs": [],
   "source": [
    "#scaling 이전에 비해  R2 score 동일 / RMSE가 감소 \n",
    "# mms에 비해 RMSE가 증가\n",
    "\n",
    ">>그럼 MinMaxScaler 사용"
   ]
  },
  {
   "cell_type": "code",
   "execution_count": 63,
   "metadata": {},
   "outputs": [
    {
     "name": "stderr",
     "output_type": "stream",
     "text": [
      "c:\\Users\\user\\Anaconda3\\envs\\ds_study\\lib\\site-packages\\scipy\\stats\\stats.py:1541: UserWarning:\n",
      "\n",
      "kurtosistest only valid for n>=20 ... continuing anyway, n=15\n",
      "\n"
     ]
    },
    {
     "data": {
      "text/html": [
       "<table class=\"simpletable\">\n",
       "<caption>OLS Regression Results</caption>\n",
       "<tr>\n",
       "  <th>Dep. Variable:</th>         <td>TOT_AVG</td>     <th>  R-squared (uncentered):</th>      <td>   0.947</td>\n",
       "</tr>\n",
       "<tr>\n",
       "  <th>Model:</th>                   <td>OLS</td>       <th>  Adj. R-squared (uncentered):</th> <td>   0.920</td>\n",
       "</tr>\n",
       "<tr>\n",
       "  <th>Method:</th>             <td>Least Squares</td>  <th>  F-statistic:       </th>          <td>   35.62</td>\n",
       "</tr>\n",
       "<tr>\n",
       "  <th>Date:</th>             <td>Wed, 11 May 2022</td> <th>  Prob (F-statistic):</th>          <td>4.65e-06</td>\n",
       "</tr>\n",
       "<tr>\n",
       "  <th>Time:</th>                 <td>20:32:52</td>     <th>  Log-Likelihood:    </th>          <td>  11.427</td>\n",
       "</tr>\n",
       "<tr>\n",
       "  <th>No. Observations:</th>      <td>    15</td>      <th>  AIC:               </th>          <td>  -12.85</td>\n",
       "</tr>\n",
       "<tr>\n",
       "  <th>Df Residuals:</th>          <td>    10</td>      <th>  BIC:               </th>          <td>  -9.313</td>\n",
       "</tr>\n",
       "<tr>\n",
       "  <th>Df Model:</th>              <td>     5</td>      <th>                     </th>              <td> </td>   \n",
       "</tr>\n",
       "<tr>\n",
       "  <th>Covariance Type:</th>      <td>nonrobust</td>    <th>                     </th>              <td> </td>   \n",
       "</tr>\n",
       "</table>\n",
       "<table class=\"simpletable\">\n",
       "<tr>\n",
       "       <td></td>         <th>coef</th>     <th>std err</th>      <th>t</th>      <th>P>|t|</th>  <th>[0.025</th>    <th>0.975]</th>  \n",
       "</tr>\n",
       "<tr>\n",
       "  <th>CON_ST</th>     <td>    0.6370</td> <td>    0.226</td> <td>    2.820</td> <td> 0.018</td> <td>    0.134</td> <td>    1.140</td>\n",
       "</tr>\n",
       "<tr>\n",
       "  <th>L_READ</th>     <td>   -0.1441</td> <td>    0.115</td> <td>   -1.253</td> <td> 0.239</td> <td>   -0.400</td> <td>    0.112</td>\n",
       "</tr>\n",
       "<tr>\n",
       "  <th>OVERCOME</th>   <td>    0.2565</td> <td>    0.126</td> <td>    2.039</td> <td> 0.069</td> <td>   -0.024</td> <td>    0.537</td>\n",
       "</tr>\n",
       "<tr>\n",
       "  <th>SPARE_SUC</th>  <td>    0.1728</td> <td>    0.099</td> <td>    1.752</td> <td> 0.110</td> <td>   -0.047</td> <td>    0.393</td>\n",
       "</tr>\n",
       "<tr>\n",
       "  <th>ball_pound</th> <td>    0.0176</td> <td>    0.153</td> <td>    0.115</td> <td> 0.911</td> <td>   -0.324</td> <td>    0.359</td>\n",
       "</tr>\n",
       "</table>\n",
       "<table class=\"simpletable\">\n",
       "<tr>\n",
       "  <th>Omnibus:</th>       <td> 1.932</td> <th>  Durbin-Watson:     </th> <td>   2.025</td>\n",
       "</tr>\n",
       "<tr>\n",
       "  <th>Prob(Omnibus):</th> <td> 0.381</td> <th>  Jarque-Bera (JB):  </th> <td>   0.950</td>\n",
       "</tr>\n",
       "<tr>\n",
       "  <th>Skew:</th>          <td> 0.110</td> <th>  Prob(JB):          </th> <td>   0.622</td>\n",
       "</tr>\n",
       "<tr>\n",
       "  <th>Kurtosis:</th>      <td> 1.787</td> <th>  Cond. No.          </th> <td>    8.33</td>\n",
       "</tr>\n",
       "</table><br/><br/>Notes:<br/>[1] R² is computed without centering (uncentered) since the model does not contain a constant.<br/>[2] Standard Errors assume that the covariance matrix of the errors is correctly specified."
      ],
      "text/plain": [
       "<class 'statsmodels.iolib.summary.Summary'>\n",
       "\"\"\"\n",
       "                                 OLS Regression Results                                \n",
       "=======================================================================================\n",
       "Dep. Variable:                TOT_AVG   R-squared (uncentered):                   0.947\n",
       "Model:                            OLS   Adj. R-squared (uncentered):              0.920\n",
       "Method:                 Least Squares   F-statistic:                              35.62\n",
       "Date:                Wed, 11 May 2022   Prob (F-statistic):                    4.65e-06\n",
       "Time:                        20:32:52   Log-Likelihood:                          11.427\n",
       "No. Observations:                  15   AIC:                                     -12.85\n",
       "Df Residuals:                      10   BIC:                                     -9.313\n",
       "Df Model:                           5                                                  \n",
       "Covariance Type:            nonrobust                                                  \n",
       "==============================================================================\n",
       "                 coef    std err          t      P>|t|      [0.025      0.975]\n",
       "------------------------------------------------------------------------------\n",
       "CON_ST         0.6370      0.226      2.820      0.018       0.134       1.140\n",
       "L_READ        -0.1441      0.115     -1.253      0.239      -0.400       0.112\n",
       "OVERCOME       0.2565      0.126      2.039      0.069      -0.024       0.537\n",
       "SPARE_SUC      0.1728      0.099      1.752      0.110      -0.047       0.393\n",
       "ball_pound     0.0176      0.153      0.115      0.911      -0.324       0.359\n",
       "==============================================================================\n",
       "Omnibus:                        1.932   Durbin-Watson:                   2.025\n",
       "Prob(Omnibus):                  0.381   Jarque-Bera (JB):                0.950\n",
       "Skew:                           0.110   Prob(JB):                        0.622\n",
       "Kurtosis:                       1.787   Cond. No.                         8.33\n",
       "==============================================================================\n",
       "\n",
       "Notes:\n",
       "[1] R² is computed without centering (uncentered) since the model does not contain a constant.\n",
       "[2] Standard Errors assume that the covariance matrix of the errors is correctly specified.\n",
       "\"\"\""
      ]
     },
     "execution_count": 63,
     "metadata": {},
     "output_type": "execute_result"
    }
   ],
   "source": [
    "X=bowling_mms_pd.drop(['TOT_AVG'],axis=1)\n",
    "y=bowling_mms_pd['TOT_AVG']\n",
    "X_train, X_test, y_train, y_test = train_test_split(X,y,test_size=0.2, random_state=13)\n",
    "\n",
    "lm= sm.OLS(y_train, X_train).fit()\n",
    "lm.summary()"
   ]
  },
  {
   "cell_type": "code",
   "execution_count": null,
   "metadata": {},
   "outputs": [],
   "source": [
    "# 피처 스케일링 이전에 비해 \n",
    "# Adj. R-squared 낮아짐\n",
    "# AIC,BIC 음수?\n",
    "# p-value 변화 +-"
   ]
  },
  {
   "cell_type": "code",
   "execution_count": 64,
   "metadata": {},
   "outputs": [
    {
     "name": "stderr",
     "output_type": "stream",
     "text": [
      "c:\\Users\\user\\Anaconda3\\envs\\ds_study\\lib\\site-packages\\scipy\\stats\\stats.py:1541: UserWarning:\n",
      "\n",
      "kurtosistest only valid for n>=20 ... continuing anyway, n=15\n",
      "\n"
     ]
    },
    {
     "data": {
      "text/html": [
       "<table class=\"simpletable\">\n",
       "<caption>OLS Regression Results</caption>\n",
       "<tr>\n",
       "  <th>Dep. Variable:</th>         <td>TOT_AVG</td>     <th>  R-squared (uncentered):</th>      <td>   0.999</td>\n",
       "</tr>\n",
       "<tr>\n",
       "  <th>Model:</th>                   <td>OLS</td>       <th>  Adj. R-squared (uncentered):</th> <td>   0.999</td>\n",
       "</tr>\n",
       "<tr>\n",
       "  <th>Method:</th>             <td>Least Squares</td>  <th>  F-statistic:       </th>          <td>   2042.</td>\n",
       "</tr>\n",
       "<tr>\n",
       "  <th>Date:</th>             <td>Wed, 11 May 2022</td> <th>  Prob (F-statistic):</th>          <td>1.05e-14</td>\n",
       "</tr>\n",
       "<tr>\n",
       "  <th>Time:</th>                 <td>20:33:48</td>     <th>  Log-Likelihood:    </th>          <td> -49.954</td>\n",
       "</tr>\n",
       "<tr>\n",
       "  <th>No. Observations:</th>      <td>    15</td>      <th>  AIC:               </th>          <td>   109.9</td>\n",
       "</tr>\n",
       "<tr>\n",
       "  <th>Df Residuals:</th>          <td>    10</td>      <th>  BIC:               </th>          <td>   113.4</td>\n",
       "</tr>\n",
       "<tr>\n",
       "  <th>Df Model:</th>              <td>     5</td>      <th>                     </th>              <td> </td>   \n",
       "</tr>\n",
       "<tr>\n",
       "  <th>Covariance Type:</th>      <td>nonrobust</td>    <th>                     </th>              <td> </td>   \n",
       "</tr>\n",
       "</table>\n",
       "<table class=\"simpletable\">\n",
       "<tr>\n",
       "       <td></td>         <th>coef</th>     <th>std err</th>      <th>t</th>      <th>P>|t|</th>  <th>[0.025</th>    <th>0.975]</th>  \n",
       "</tr>\n",
       "<tr>\n",
       "  <th>CON_ST</th>     <td>    8.8888</td> <td>    2.892</td> <td>    3.074</td> <td> 0.012</td> <td>    2.446</td> <td>   15.332</td>\n",
       "</tr>\n",
       "<tr>\n",
       "  <th>L_READ</th>     <td>   -4.0375</td> <td>    3.484</td> <td>   -1.159</td> <td> 0.273</td> <td>  -11.800</td> <td>    3.725</td>\n",
       "</tr>\n",
       "<tr>\n",
       "  <th>OVERCOME</th>   <td>   24.8931</td> <td>   12.693</td> <td>    1.961</td> <td> 0.078</td> <td>   -3.390</td> <td>   53.176</td>\n",
       "</tr>\n",
       "<tr>\n",
       "  <th>SPARE_SUC</th>  <td>   25.1769</td> <td>   18.366</td> <td>    1.371</td> <td> 0.200</td> <td>  -15.745</td> <td>   66.099</td>\n",
       "</tr>\n",
       "<tr>\n",
       "  <th>ball_pound</th> <td>    7.2455</td> <td>    2.415</td> <td>    3.000</td> <td> 0.013</td> <td>    1.865</td> <td>   12.626</td>\n",
       "</tr>\n",
       "</table>\n",
       "<table class=\"simpletable\">\n",
       "<tr>\n",
       "  <th>Omnibus:</th>       <td> 1.343</td> <th>  Durbin-Watson:     </th> <td>   2.076</td>\n",
       "</tr>\n",
       "<tr>\n",
       "  <th>Prob(Omnibus):</th> <td> 0.511</td> <th>  Jarque-Bera (JB):  </th> <td>   0.918</td>\n",
       "</tr>\n",
       "<tr>\n",
       "  <th>Skew:</th>          <td> 0.292</td> <th>  Prob(JB):          </th> <td>   0.632</td>\n",
       "</tr>\n",
       "<tr>\n",
       "  <th>Kurtosis:</th>      <td> 1.937</td> <th>  Cond. No.          </th> <td>    159.</td>\n",
       "</tr>\n",
       "</table><br/><br/>Notes:<br/>[1] R² is computed without centering (uncentered) since the model does not contain a constant.<br/>[2] Standard Errors assume that the covariance matrix of the errors is correctly specified."
      ],
      "text/plain": [
       "<class 'statsmodels.iolib.summary.Summary'>\n",
       "\"\"\"\n",
       "                                 OLS Regression Results                                \n",
       "=======================================================================================\n",
       "Dep. Variable:                TOT_AVG   R-squared (uncentered):                   0.999\n",
       "Model:                            OLS   Adj. R-squared (uncentered):              0.999\n",
       "Method:                 Least Squares   F-statistic:                              2042.\n",
       "Date:                Wed, 11 May 2022   Prob (F-statistic):                    1.05e-14\n",
       "Time:                        20:33:48   Log-Likelihood:                         -49.954\n",
       "No. Observations:                  15   AIC:                                      109.9\n",
       "Df Residuals:                      10   BIC:                                      113.4\n",
       "Df Model:                           5                                                  \n",
       "Covariance Type:            nonrobust                                                  \n",
       "==============================================================================\n",
       "                 coef    std err          t      P>|t|      [0.025      0.975]\n",
       "------------------------------------------------------------------------------\n",
       "CON_ST         8.8888      2.892      3.074      0.012       2.446      15.332\n",
       "L_READ        -4.0375      3.484     -1.159      0.273     -11.800       3.725\n",
       "OVERCOME      24.8931     12.693      1.961      0.078      -3.390      53.176\n",
       "SPARE_SUC     25.1769     18.366      1.371      0.200     -15.745      66.099\n",
       "ball_pound     7.2455      2.415      3.000      0.013       1.865      12.626\n",
       "==============================================================================\n",
       "Omnibus:                        1.343   Durbin-Watson:                   2.076\n",
       "Prob(Omnibus):                  0.511   Jarque-Bera (JB):                0.918\n",
       "Skew:                           0.292   Prob(JB):                        0.632\n",
       "Kurtosis:                       1.937   Cond. No.                         159.\n",
       "==============================================================================\n",
       "\n",
       "Notes:\n",
       "[1] R² is computed without centering (uncentered) since the model does not contain a constant.\n",
       "[2] Standard Errors assume that the covariance matrix of the errors is correctly specified.\n",
       "\"\"\""
      ]
     },
     "execution_count": 64,
     "metadata": {},
     "output_type": "execute_result"
    }
   ],
   "source": [
    "X=bowling_m_2[['CON_ST','L_READ','OVERCOME','SPARE_SUC','ball_pound']]\n",
    "y=bowling_m_2['TOT_AVG']\n",
    "\n",
    "\n",
    "X_train, X_test, y_train, y_test = train_test_split(X,y,test_size=0.2, random_state=13)\n",
    "lm= sm.OLS(y_train, X_train).fit()\n",
    "lm.summary()"
   ]
  },
  {
   "cell_type": "code",
   "execution_count": null,
   "metadata": {},
   "outputs": [],
   "source": []
  },
  {
   "cell_type": "code",
   "execution_count": 72,
   "metadata": {},
   "outputs": [],
   "source": [
    "#그럼 단순선형회귀는? 크게 차이 날까? CON_ST, SPARE_SUC\n",
    "\n",
    "# 1)CON_ST\n",
    "\n",
    "X=bowling_m_2[['CON_ST']]\n",
    "y=bowling_m_2['TOT_AVG']\n",
    "X_train, X_test, y_train, y_test = train_test_split(X,y,test_size=0.2, random_state=13)"
   ]
  },
  {
   "cell_type": "code",
   "execution_count": 73,
   "metadata": {},
   "outputs": [],
   "source": [
    "lr= linear_model.LinearRegression()\n",
    "lr_model=lr.fit(X_train, y_train)"
   ]
  },
  {
   "cell_type": "code",
   "execution_count": 69,
   "metadata": {},
   "outputs": [
    {
     "name": "stdout",
     "output_type": "stream",
     "text": [
      "학습 데이터셋의 R2 score :  0.660887499490185\n",
      "테스트 데이터셋의 R2 score :  0.9342983031458743\n",
      "학습 데이터셋의 RMSE :  8.133571281088562\n",
      "테스트 데이터셋의 RMSE :  4.857935973102937\n"
     ]
    }
   ],
   "source": [
    "print('학습 데이터셋의 R2 score : ',lr_model.score(X_train, y_train))\n",
    "print('테스트 데이터셋의 R2 score : ',lr_model.score(X_test, y_test))\n",
    "y_pred=lr.predict(X_train)\n",
    "print('학습 데이터셋의 RMSE : ', sqrt(mean_squared_error(y_train, y_pred)))\n",
    "y_pred=lr.predict(X_test)\n",
    "print('테스트 데이터셋의 RMSE : ', sqrt(mean_squared_error(y_test, y_pred)))"
   ]
  },
  {
   "cell_type": "code",
   "execution_count": 74,
   "metadata": {},
   "outputs": [],
   "source": [
    "# 2) SPARE_SUC\n",
    "X=bowling_m_2[['SPARE_SUC']]\n",
    "y=bowling_m_2['TOT_AVG']\n",
    "X_train, X_test, y_train, y_test = train_test_split(X,y,test_size=0.2, random_state=13)"
   ]
  },
  {
   "cell_type": "code",
   "execution_count": 75,
   "metadata": {},
   "outputs": [],
   "source": [
    "lr= linear_model.LinearRegression()\n",
    "lr_model=lr.fit(X_train, y_train)"
   ]
  },
  {
   "cell_type": "code",
   "execution_count": 76,
   "metadata": {},
   "outputs": [
    {
     "name": "stdout",
     "output_type": "stream",
     "text": [
      "학습 데이터셋의 R2 score :  0.10635359237743802\n",
      "테스트 데이터셋의 R2 score :  -0.26770798944649954\n",
      "학습 데이터셋의 RMSE :  13.20359621243556\n",
      "테스트 데이터셋의 RMSE :  21.33895301753605\n"
     ]
    }
   ],
   "source": [
    "print('학습 데이터셋의 R2 score : ',lr_model.score(X_train, y_train))\n",
    "print('테스트 데이터셋의 R2 score : ',lr_model.score(X_test, y_test))\n",
    "y_pred=lr.predict(X_train)\n",
    "print('학습 데이터셋의 RMSE : ', sqrt(mean_squared_error(y_train, y_pred)))\n",
    "y_pred=lr.predict(X_test)\n",
    "print('테스트 데이터셋의 RMSE : ', sqrt(mean_squared_error(y_test, y_pred)))"
   ]
  },
  {
   "cell_type": "code",
   "execution_count": null,
   "metadata": {},
   "outputs": [],
   "source": [
    "결론 : 앗! 여러 피처선택이 맞음!\n"
   ]
  },
  {
   "cell_type": "markdown",
   "metadata": {},
   "source": [
    "## 결론\n",
    "\n",
    "**1. 5개 피처 사용 [['CON_ST','L_READ','OVERCOME','SPARE_SUC','ball_pound']]**  \n",
    "\n",
    "\t - 학습/테스트 R2 :  0.7791523870170818 / 0.9389558085279618  \n",
    "\t - 학습/테스트 RMSE :  6.563805935325276 / 4.682584966445904  \n",
    "\n",
    "\n",
    "\n",
    "**2. 5개 피처 + MinMax scaler**  \n",
    "\n",
    "\t - 학습/테스트 R2 :  0.7791523870170818 / 0.9389558085279618  \n",
    "\t - 학습/테스트 RMSE : 0.11156610654943816 / 0.07959067931636159  \n",
    "\n",
    "\t\n",
    "\n",
    "**3. 5개 피처 + Standard scaler**  \n",
    "\n",
    "\t - 학습/테스트 R2 :  0.7791523870170818 / 0.9389558085279618  \n",
    "\t - 학습/테스트 RMSE :0.42893711067145923 / 0.30600150061892284"
   ]
  },
  {
   "cell_type": "markdown",
   "metadata": {},
   "source": [
    "\n",
    "\n"
   ]
  }
 ],
 "metadata": {
  "interpreter": {
   "hash": "fc7e7dec9f9b15a3c838eff955c08e97426a71385f1ce1c0d3b4a7038cf050de"
  },
  "kernelspec": {
   "display_name": "Python 3.8.12 ('ds_study')",
   "language": "python",
   "name": "python3"
  },
  "language_info": {
   "codemirror_mode": {
    "name": "ipython",
    "version": 3
   },
   "file_extension": ".py",
   "mimetype": "text/x-python",
   "name": "python",
   "nbconvert_exporter": "python",
   "pygments_lexer": "ipython3",
   "version": "3.8.12"
  },
  "orig_nbformat": 4
 },
 "nbformat": 4,
 "nbformat_minor": 2
}
