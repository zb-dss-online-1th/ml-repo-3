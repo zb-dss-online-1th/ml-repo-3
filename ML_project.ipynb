{
 "cells": [
  {
   "cell_type": "code",
   "execution_count": 17,
   "metadata": {},
   "outputs": [
    {
     "data": {
      "text/html": [
       "<div>\n",
       "<style scoped>\n",
       "    .dataframe tbody tr th:only-of-type {\n",
       "        vertical-align: middle;\n",
       "    }\n",
       "\n",
       "    .dataframe tbody tr th {\n",
       "        vertical-align: top;\n",
       "    }\n",
       "\n",
       "    .dataframe thead th {\n",
       "        text-align: right;\n",
       "    }\n",
       "</style>\n",
       "<table border=\"1\" class=\"dataframe\">\n",
       "  <thead>\n",
       "    <tr style=\"text-align: right;\">\n",
       "      <th></th>\n",
       "      <th>Unnamed: 0</th>\n",
       "      <th>height</th>\n",
       "      <th>exp</th>\n",
       "      <th>pro_exp</th>\n",
       "      <th>birth</th>\n",
       "      <th>weight</th>\n",
       "      <th>ball_pound</th>\n",
       "      <th>left_hand</th>\n",
       "      <th>right_hand</th>\n",
       "      <th>cranker</th>\n",
       "      <th>stroker</th>\n",
       "      <th>twohanded</th>\n",
       "      <th>thumbless</th>\n",
       "      <th>CON_ST</th>\n",
       "      <th>L_READ</th>\n",
       "      <th>OVERCOME</th>\n",
       "      <th>SPARE_SUC</th>\n",
       "      <th>TOT_AVG</th>\n",
       "    </tr>\n",
       "  </thead>\n",
       "  <tbody>\n",
       "    <tr>\n",
       "      <th>0</th>\n",
       "      <td>0</td>\n",
       "      <td>180</td>\n",
       "      <td>23</td>\n",
       "      <td>3</td>\n",
       "      <td>1986-07-03</td>\n",
       "      <td>60</td>\n",
       "      <td>15.0</td>\n",
       "      <td>1</td>\n",
       "      <td>0</td>\n",
       "      <td>1</td>\n",
       "      <td>0</td>\n",
       "      <td>0</td>\n",
       "      <td>0</td>\n",
       "      <td>4.400000</td>\n",
       "      <td>-9.000000</td>\n",
       "      <td>0.652252</td>\n",
       "      <td>0.811789</td>\n",
       "      <td>215.800000</td>\n",
       "    </tr>\n",
       "    <tr>\n",
       "      <th>1</th>\n",
       "      <td>1</td>\n",
       "      <td>173</td>\n",
       "      <td>22</td>\n",
       "      <td>3</td>\n",
       "      <td>1984-10-03</td>\n",
       "      <td>79</td>\n",
       "      <td>15.0</td>\n",
       "      <td>0</td>\n",
       "      <td>1</td>\n",
       "      <td>1</td>\n",
       "      <td>0</td>\n",
       "      <td>0</td>\n",
       "      <td>0</td>\n",
       "      <td>5.750000</td>\n",
       "      <td>-9.750000</td>\n",
       "      <td>0.687281</td>\n",
       "      <td>0.659609</td>\n",
       "      <td>246.000000</td>\n",
       "    </tr>\n",
       "    <tr>\n",
       "      <th>2</th>\n",
       "      <td>2</td>\n",
       "      <td>179</td>\n",
       "      <td>13</td>\n",
       "      <td>4</td>\n",
       "      <td>1993-10-24</td>\n",
       "      <td>130</td>\n",
       "      <td>15.0</td>\n",
       "      <td>0</td>\n",
       "      <td>1</td>\n",
       "      <td>1</td>\n",
       "      <td>0</td>\n",
       "      <td>0</td>\n",
       "      <td>0</td>\n",
       "      <td>2.750000</td>\n",
       "      <td>-9.250000</td>\n",
       "      <td>0.475010</td>\n",
       "      <td>0.542429</td>\n",
       "      <td>190.500000</td>\n",
       "    </tr>\n",
       "    <tr>\n",
       "      <th>3</th>\n",
       "      <td>3</td>\n",
       "      <td>175</td>\n",
       "      <td>10</td>\n",
       "      <td>8</td>\n",
       "      <td>1981-08-01</td>\n",
       "      <td>72</td>\n",
       "      <td>15.0</td>\n",
       "      <td>0</td>\n",
       "      <td>1</td>\n",
       "      <td>1</td>\n",
       "      <td>0</td>\n",
       "      <td>0</td>\n",
       "      <td>0</td>\n",
       "      <td>4.000000</td>\n",
       "      <td>-8.750000</td>\n",
       "      <td>0.455561</td>\n",
       "      <td>0.768218</td>\n",
       "      <td>212.500000</td>\n",
       "    </tr>\n",
       "    <tr>\n",
       "      <th>4</th>\n",
       "      <td>5</td>\n",
       "      <td>174</td>\n",
       "      <td>26</td>\n",
       "      <td>10</td>\n",
       "      <td>1976-09-28</td>\n",
       "      <td>74</td>\n",
       "      <td>15.0</td>\n",
       "      <td>0</td>\n",
       "      <td>1</td>\n",
       "      <td>1</td>\n",
       "      <td>0</td>\n",
       "      <td>0</td>\n",
       "      <td>0</td>\n",
       "      <td>3.333333</td>\n",
       "      <td>-8.666667</td>\n",
       "      <td>0.783212</td>\n",
       "      <td>0.624562</td>\n",
       "      <td>198.333333</td>\n",
       "    </tr>\n",
       "  </tbody>\n",
       "</table>\n",
       "</div>"
      ],
      "text/plain": [
       "   Unnamed: 0  height  exp  pro_exp       birth  weight  ball_pound  \\\n",
       "0           0     180   23        3  1986-07-03      60        15.0   \n",
       "1           1     173   22        3  1984-10-03      79        15.0   \n",
       "2           2     179   13        4  1993-10-24     130        15.0   \n",
       "3           3     175   10        8  1981-08-01      72        15.0   \n",
       "4           5     174   26       10  1976-09-28      74        15.0   \n",
       "\n",
       "   left_hand  right_hand  cranker  stroker  twohanded  thumbless    CON_ST  \\\n",
       "0          1           0        1        0          0          0  4.400000   \n",
       "1          0           1        1        0          0          0  5.750000   \n",
       "2          0           1        1        0          0          0  2.750000   \n",
       "3          0           1        1        0          0          0  4.000000   \n",
       "4          0           1        1        0          0          0  3.333333   \n",
       "\n",
       "     L_READ  OVERCOME  SPARE_SUC     TOT_AVG  \n",
       "0 -9.000000  0.652252   0.811789  215.800000  \n",
       "1 -9.750000  0.687281   0.659609  246.000000  \n",
       "2 -9.250000  0.475010   0.542429  190.500000  \n",
       "3 -8.750000  0.455561   0.768218  212.500000  \n",
       "4 -8.666667  0.783212   0.624562  198.333333  "
      ]
     },
     "execution_count": 17,
     "metadata": {},
     "output_type": "execute_result"
    }
   ],
   "source": [
    "import pandas as pd\n",
    "\n",
    "bowling = pd.read_excel(\"../data/bowling_ml_letsgo.xlsx\")\n",
    "bowling.head()"
   ]
  },
  {
   "cell_type": "markdown",
   "metadata": {},
   "source": [
    "- height : 신장, exp : 구력, pro_exp : 프로경력, birth : 생년월일, weight : 체중, ball_pound : 볼무게, CON_ST : 장타, L_READ : 리딩능력, OVERCOME : 극복능력, SPACE_SUC : 스페어성공률"
   ]
  },
  {
   "cell_type": "code",
   "execution_count": 15,
   "metadata": {},
   "outputs": [
    {
     "name": "stdout",
     "output_type": "stream",
     "text": [
      "<class 'pandas.core.frame.DataFrame'>\n",
      "RangeIndex: 19 entries, 0 to 18\n",
      "Data columns (total 18 columns):\n",
      " #   Column      Non-Null Count  Dtype  \n",
      "---  ------      --------------  -----  \n",
      " 0   Unnamed: 0  19 non-null     int64  \n",
      " 1   height      19 non-null     int64  \n",
      " 2   exp         19 non-null     int64  \n",
      " 3   pro_exp     19 non-null     int64  \n",
      " 4   birth       19 non-null     object \n",
      " 5   weight      19 non-null     int64  \n",
      " 6   ball_pound  19 non-null     float64\n",
      " 7   left_hand   19 non-null     int64  \n",
      " 8   right_hand  19 non-null     int64  \n",
      " 9   cranker     19 non-null     int64  \n",
      " 10  stroker     19 non-null     int64  \n",
      " 11  twohanded   19 non-null     int64  \n",
      " 12  thumbless   19 non-null     int64  \n",
      " 13  CON_ST      19 non-null     float64\n",
      " 14  L_READ      19 non-null     float64\n",
      " 15  OVERCOME    19 non-null     float64\n",
      " 16  SPARE_SUC   19 non-null     float64\n",
      " 17  TOT_AVG     19 non-null     float64\n",
      "dtypes: float64(6), int64(11), object(1)\n",
      "memory usage: 2.8+ KB\n"
     ]
    }
   ],
   "source": [
    "bowling.info()"
   ]
  },
  {
   "cell_type": "code",
   "execution_count": 65,
   "metadata": {},
   "outputs": [],
   "source": [
    "import numpy as np\n",
    "import seaborn as sns\n",
    "import matplotlib.pyplot as plt\n",
    "from matplotlib import rc\n",
    "plt.rcParams[\"axes.unicode_minus\"] = False #마이너스 부호 때문에 한글이 깨질 수가 있어 주는 설정\n",
    "rc(\"font\", family=\"Malgun Gothic\")\n",
    "plt.rcParams['font.family'] = 'Malgun Gothic'\n",
    "%matplotlib inline"
   ]
  },
  {
   "cell_type": "code",
   "execution_count": 23,
   "metadata": {},
   "outputs": [
    {
     "data": {
      "image/png": "[encoded data removed]",
      "text/plain": [
       "<Figure size 864x720 with 2 Axes>"
      ]
     },
     "metadata": {
      "needs_background": "light"
     },
     "output_type": "display_data"
    }
   ],
   "source": [
    "bowling_m = bowling.drop(['left_hand', 'right_hand', 'cranker', 'stroker', 'twohanded', 'thumbless', 'Unnamed: 0'], axis=1)\n",
    "\n",
    "plt.figure(figsize=(12, 10))\n",
    "sns.heatmap(bowling_m.corr(), cmap='YlGnBu')\n",
    "plt.show()"
   ]
  },
  {
   "cell_type": "markdown",
   "metadata": {},
   "source": [
    "- exp, CON_ST, OVERCOME, SPACE_SUC 등이 TOT_AVG와 상관관계가 있어 보인다!"
   ]
  },
  {
   "cell_type": "code",
   "execution_count": 69,
   "metadata": {},
   "outputs": [],
   "source": [
    "bowling_m = bowling_m[['TOT_AVG', 'CON_ST', 'L_READ', 'OVERCOME', 'SPARE_SUC']]"
   ]
  },
  {
   "cell_type": "code",
   "execution_count": 26,
   "metadata": {},
   "outputs": [
    {
     "data": {
      "text/html": [
       "<div>\n",
       "<style scoped>\n",
       "    .dataframe tbody tr th:only-of-type {\n",
       "        vertical-align: middle;\n",
       "    }\n",
       "\n",
       "    .dataframe tbody tr th {\n",
       "        vertical-align: top;\n",
       "    }\n",
       "\n",
       "    .dataframe thead th {\n",
       "        text-align: right;\n",
       "    }\n",
       "</style>\n",
       "<table border=\"1\" class=\"dataframe\">\n",
       "  <thead>\n",
       "    <tr style=\"text-align: right;\">\n",
       "      <th></th>\n",
       "      <th>TOT_AVG</th>\n",
       "      <th>CON_ST</th>\n",
       "      <th>L_READ</th>\n",
       "      <th>OVERCOME</th>\n",
       "      <th>SPARE_SUC</th>\n",
       "    </tr>\n",
       "  </thead>\n",
       "  <tbody>\n",
       "    <tr>\n",
       "      <th>0</th>\n",
       "      <td>215.800000</td>\n",
       "      <td>4.400000</td>\n",
       "      <td>-9.000000</td>\n",
       "      <td>0.652252</td>\n",
       "      <td>0.811789</td>\n",
       "    </tr>\n",
       "    <tr>\n",
       "      <th>1</th>\n",
       "      <td>246.000000</td>\n",
       "      <td>5.750000</td>\n",
       "      <td>-9.750000</td>\n",
       "      <td>0.687281</td>\n",
       "      <td>0.659609</td>\n",
       "    </tr>\n",
       "    <tr>\n",
       "      <th>2</th>\n",
       "      <td>190.500000</td>\n",
       "      <td>2.750000</td>\n",
       "      <td>-9.250000</td>\n",
       "      <td>0.475010</td>\n",
       "      <td>0.542429</td>\n",
       "    </tr>\n",
       "    <tr>\n",
       "      <th>3</th>\n",
       "      <td>212.500000</td>\n",
       "      <td>4.000000</td>\n",
       "      <td>-8.750000</td>\n",
       "      <td>0.455561</td>\n",
       "      <td>0.768218</td>\n",
       "    </tr>\n",
       "    <tr>\n",
       "      <th>4</th>\n",
       "      <td>198.333333</td>\n",
       "      <td>3.333333</td>\n",
       "      <td>-8.666667</td>\n",
       "      <td>0.783212</td>\n",
       "      <td>0.624562</td>\n",
       "    </tr>\n",
       "  </tbody>\n",
       "</table>\n",
       "</div>"
      ],
      "text/plain": [
       "      TOT_AVG    CON_ST    L_READ  OVERCOME  SPARE_SUC\n",
       "0  215.800000  4.400000 -9.000000  0.652252   0.811789\n",
       "1  246.000000  5.750000 -9.750000  0.687281   0.659609\n",
       "2  190.500000  2.750000 -9.250000  0.475010   0.542429\n",
       "3  212.500000  4.000000 -8.750000  0.455561   0.768218\n",
       "4  198.333333  3.333333 -8.666667  0.783212   0.624562"
      ]
     },
     "execution_count": 26,
     "metadata": {},
     "output_type": "execute_result"
    }
   ],
   "source": [
    "bowling_m.head()"
   ]
  },
  {
   "cell_type": "markdown",
   "metadata": {},
   "source": [
    "#### Train과 Test 분리 - CON_ST, L_READ, OVERCOME, SPARE_SUC 사용"
   ]
  },
  {
   "cell_type": "code",
   "execution_count": 48,
   "metadata": {},
   "outputs": [],
   "source": [
    "from sklearn.model_selection import train_test_split\n",
    "\n",
    "X = bowling_m.drop('TOT_AVG',axis=1)\n",
    "y = bowling_m['TOT_AVG']\n",
    "\n",
    "X_train, X_test, y_train, y_test = train_test_split(X, y, test_size=0.2, random_state=13)"
   ]
  },
  {
   "cell_type": "code",
   "execution_count": 51,
   "metadata": {},
   "outputs": [
    {
     "data": {
      "text/plain": [
       "LinearRegression()"
      ]
     },
     "execution_count": 51,
     "metadata": {},
     "output_type": "execute_result"
    }
   ],
   "source": [
    "from sklearn.linear_model import LinearRegression\n",
    "\n",
    "lr = LinearRegression()\n",
    "lr.fit(X_train, y_train)"
   ]
  },
  {
   "cell_type": "code",
   "execution_count": 52,
   "metadata": {},
   "outputs": [],
   "source": [
    "lr_pred = lr.predict(X_test)"
   ]
  },
  {
   "cell_type": "code",
   "execution_count": 53,
   "metadata": {},
   "outputs": [
    {
     "data": {
      "image/png": "[encoded data removed]",
      "text/plain": [
       "<Figure size 432x288 with 1 Axes>"
      ]
     },
     "metadata": {
      "needs_background": "light"
     },
     "output_type": "display_data"
    }
   ],
   "source": [
    "plt.scatter(y_test, lr_pred, alpha=0.4)\n",
    "plt.xlabel(\"Actual TOT_AVG\")\n",
    "plt.ylabel(\"Predictted TOT_AVG\")\n",
    "plt.title(\"MULTIPLE LINEAR REGRESSION\") \n",
    "plt.show()"
   ]
  },
  {
   "cell_type": "markdown",
   "metadata": {},
   "source": [
    "- 결정계수(R제곱) 조회"
   ]
  },
  {
   "cell_type": "code",
   "execution_count": 80,
   "metadata": {},
   "outputs": [
    {
     "data": {
      "text/plain": [
       "0.8968194047447069"
      ]
     },
     "execution_count": 80,
     "metadata": {},
     "output_type": "execute_result"
    }
   ],
   "source": [
    "r_square = lr.score(X_test, y_test)\n",
    "r_square"
   ]
  },
  {
   "cell_type": "markdown",
   "metadata": {},
   "source": [
    "- 회귀계수 확인"
   ]
  },
  {
   "cell_type": "code",
   "execution_count": 82,
   "metadata": {},
   "outputs": [
    {
     "name": "stdout",
     "output_type": "stream",
     "text": [
      "[11.37094559 -4.68028086 21.29205194 21.96104708] 98.54163170814284\n"
     ]
    }
   ],
   "source": [
    "print(lr.coef_, lr.intercept_)"
   ]
  },
  {
   "cell_type": "markdown",
   "metadata": {},
   "source": [
    "- 예측 데이터와 실데이터 출력"
   ]
  },
  {
   "cell_type": "code",
   "execution_count": 83,
   "metadata": {},
   "outputs": [
    {
     "data": {
      "image/png": "[encoded data removed]",
      "text/plain": [
       "<Figure size 720x360 with 1 Axes>"
      ]
     },
     "metadata": {
      "needs_background": "light"
     },
     "output_type": "display_data"
    }
   ],
   "source": [
    "plt.figure(figsize=(10,5))\n",
    "ax1 = sns.kdeplot(y_test, label=\"y_test\") \n",
    "ax2 = sns.kdeplot(lr_pred, label='lr_pred', ax=ax1)\n",
    "plt.legend()\n",
    "plt.show()"
   ]
  },
  {
   "cell_type": "markdown",
   "metadata": {},
   "source": [
    "- 원 데이터로 예측"
   ]
  },
  {
   "cell_type": "code",
   "execution_count": 84,
   "metadata": {},
   "outputs": [],
   "source": [
    "y_hat = lr.predict(X)"
   ]
  },
  {
   "cell_type": "code",
   "execution_count": 85,
   "metadata": {},
   "outputs": [
    {
     "data": {
      "image/png": "[encoded data removed]",
      "text/plain": [
       "<Figure size 720x360 with 1 Axes>"
      ]
     },
     "metadata": {
      "needs_background": "light"
     },
     "output_type": "display_data"
    }
   ],
   "source": [
    "plt.figure(figsize=(10,5))\n",
    "ax1 = sns.kdeplot(y, label=\"Y\")\n",
    "ax2 = sns.kdeplot(y_hat, label='y_hat', ax=ax1)\n",
    "plt.legend()\n",
    "plt.show()"
   ]
  },
  {
   "cell_type": "code",
   "execution_count": 34,
   "metadata": {},
   "outputs": [
    {
     "data": {
      "image/png": "[encoded data removed]",
      "text/plain": [
       "<Figure size 432x288 with 1 Axes>"
      ]
     },
     "metadata": {
      "needs_background": "light"
     },
     "output_type": "display_data"
    }
   ],
   "source": [
    "plt.scatter(bowling_m[['CON_ST']],bowling_m[['TOT_AVG']], alpha=0.4)\n",
    "plt.show()"
   ]
  },
  {
   "cell_type": "code",
   "execution_count": 35,
   "metadata": {},
   "outputs": [
    {
     "data": {
      "image/png": "[encoded data removed]",
      "text/plain": [
       "<Figure size 432x288 with 1 Axes>"
      ]
     },
     "metadata": {
      "needs_background": "light"
     },
     "output_type": "display_data"
    }
   ],
   "source": [
    "plt.scatter(bowling_m[['L_READ']],bowling_m[['TOT_AVG']], alpha=0.4)\n",
    "plt.show()"
   ]
  },
  {
   "cell_type": "code",
   "execution_count": 36,
   "metadata": {},
   "outputs": [
    {
     "data": {
      "image/png": "[encoded data removed]",
      "text/plain": [
       "<Figure size 432x288 with 1 Axes>"
      ]
     },
     "metadata": {
      "needs_background": "light"
     },
     "output_type": "display_data"
    }
   ],
   "source": [
    "plt.scatter(bowling_m[['OVERCOME']],bowling_m[['TOT_AVG']], alpha=0.4)\n",
    "plt.show()"
   ]
  },
  {
   "cell_type": "code",
   "execution_count": 37,
   "metadata": {},
   "outputs": [
    {
     "data": {
      "image/png": "[encoded data removed]",
      "text/plain": [
       "<Figure size 432x288 with 1 Axes>"
      ]
     },
     "metadata": {
      "needs_background": "light"
     },
     "output_type": "display_data"
    }
   ],
   "source": [
    "plt.scatter(bowling_m[['SPARE_SUC']],bowling_m[['TOT_AVG']], alpha=0.4)\n",
    "plt.show()"
   ]
  },
  {
   "cell_type": "code",
   "execution_count": 38,
   "metadata": {},
   "outputs": [
    {
     "data": {
      "text/plain": [
       "0.7790941532060095"
      ]
     },
     "execution_count": 38,
     "metadata": {},
     "output_type": "execute_result"
    }
   ],
   "source": [
    "lr.score(X_train, y_train)"
   ]
  },
  {
   "cell_type": "markdown",
   "metadata": {},
   "source": [
    "#### 컬럼별 box plot"
   ]
  },
  {
   "cell_type": "code",
   "execution_count": 55,
   "metadata": {},
   "outputs": [
    {
     "data": {
      "image/png": "[encoded data removed]",
      "text/plain": [
       "<Figure size 864x432 with 1 Axes>"
      ]
     },
     "metadata": {
      "needs_background": "light"
     },
     "output_type": "display_data"
    }
   ],
   "source": [
    "plt.figure(figsize=(12, 6))\n",
    "sns.boxplot(data=bowling_m);"
   ]
  },
  {
   "cell_type": "markdown",
   "metadata": {},
   "source": [
    "- label에 대해서만 box plot 그려보기"
   ]
  },
  {
   "cell_type": "code",
   "execution_count": 57,
   "metadata": {},
   "outputs": [
    {
     "data": {
      "image/png": "[encoded data removed]",
      "text/plain": [
       "<Figure size 864x432 with 1 Axes>"
      ]
     },
     "metadata": {
      "needs_background": "light"
     },
     "output_type": "display_data"
    }
   ],
   "source": [
    "plt.figure(figsize=(12, 6))\n",
    "sns.boxplot(data=bowling_m['TOT_AVG']);"
   ]
  },
  {
   "cell_type": "code",
   "execution_count": 58,
   "metadata": {},
   "outputs": [
    {
     "data": {
      "text/plain": [
       "<Figure size 864x432 with 0 Axes>"
      ]
     },
     "metadata": {},
     "output_type": "display_data"
    },
    {
     "data": {
      "image/png": "[encoded data removed]",
      "text/plain": [
       "<Figure size 900x900 with 30 Axes>"
      ]
     },
     "metadata": {
      "needs_background": "light"
     },
     "output_type": "display_data"
    }
   ],
   "source": [
    "plt.figure(figsize=(12, 6))\n",
    "sns.pairplot(data=bowling_m);"
   ]
  },
  {
   "cell_type": "markdown",
   "metadata": {},
   "source": [
    "- 뚜렷하지는 않지만 CON_ST와 TOT_AVG와의 상관관계가 있는 것 같음"
   ]
  },
  {
   "cell_type": "code",
   "execution_count": 59,
   "metadata": {},
   "outputs": [
    {
     "data": {
      "text/plain": [
       "<Figure size 864x432 with 0 Axes>"
      ]
     },
     "metadata": {},
     "output_type": "display_data"
    },
    {
     "data": {
      "image/png": "[encoded data removed]",
      "text/plain": [
       "<Figure size 360x360 with 1 Axes>"
      ]
     },
     "metadata": {
      "needs_background": "light"
     },
     "output_type": "display_data"
    }
   ],
   "source": [
    "plt.figure(figsize=(12, 6))\n",
    "sns.lmplot(x='CON_ST', y='TOT_AVG', data=bowling_m);"
   ]
  },
  {
   "cell_type": "markdown",
   "metadata": {},
   "source": [
    "- 그럼 CON_ST와 TOT_AVG와의 관계만 알아보지"
   ]
  },
  {
   "cell_type": "code",
   "execution_count": 60,
   "metadata": {},
   "outputs": [],
   "source": [
    "import statsmodels.api as sm\n",
    "\n",
    "X = bowling_m['CON_ST']\n",
    "y = bowling_m['TOT_AVG']\n",
    "lm = sm.OLS(y, X).fit()"
   ]
  },
  {
   "cell_type": "code",
   "execution_count": 61,
   "metadata": {},
   "outputs": [
    {
     "name": "stderr",
     "output_type": "stream",
     "text": [
      "C:\\Users\\heaju\\miniconda3\\envs\\ds_study\\lib\\site-packages\\scipy\\stats\\_stats_py.py:1477: UserWarning: kurtosistest only valid for n>=20 ... continuing anyway, n=19\n",
      "  warnings.warn(\"kurtosistest only valid for n>=20 ... continuing \"\n"
     ]
    },
    {
     "data": {
      "text/html": [
       "<table class=\"simpletable\">\n",
       "<caption>OLS Regression Results</caption>\n",
       "<tr>\n",
       "  <th>Dep. Variable:</th>         <td>TOT_AVG</td>     <th>  R-squared (uncentered):</th>      <td>   0.976</td>\n",
       "</tr>\n",
       "<tr>\n",
       "  <th>Model:</th>                   <td>OLS</td>       <th>  Adj. R-squared (uncentered):</th> <td>   0.975</td>\n",
       "</tr>\n",
       "<tr>\n",
       "  <th>Method:</th>             <td>Least Squares</td>  <th>  F-statistic:       </th>          <td>   733.8</td>\n",
       "</tr>\n",
       "<tr>\n",
       "  <th>Date:</th>             <td>Wed, 11 May 2022</td> <th>  Prob (F-statistic):</th>          <td>4.85e-16</td>\n",
       "</tr>\n",
       "<tr>\n",
       "  <th>Time:</th>                 <td>22:10:02</td>     <th>  Log-Likelihood:    </th>          <td> -93.753</td>\n",
       "</tr>\n",
       "<tr>\n",
       "  <th>No. Observations:</th>      <td>    19</td>      <th>  AIC:               </th>          <td>   189.5</td>\n",
       "</tr>\n",
       "<tr>\n",
       "  <th>Df Residuals:</th>          <td>    18</td>      <th>  BIC:               </th>          <td>   190.5</td>\n",
       "</tr>\n",
       "<tr>\n",
       "  <th>Df Model:</th>              <td>     1</td>      <th>                     </th>              <td> </td>   \n",
       "</tr>\n",
       "<tr>\n",
       "  <th>Covariance Type:</th>      <td>nonrobust</td>    <th>                     </th>              <td> </td>   \n",
       "</tr>\n",
       "</table>\n",
       "<table class=\"simpletable\">\n",
       "<tr>\n",
       "     <td></td>       <th>coef</th>     <th>std err</th>      <th>t</th>      <th>P>|t|</th>  <th>[0.025</th>    <th>0.975]</th>  \n",
       "</tr>\n",
       "<tr>\n",
       "  <th>CON_ST</th> <td>   50.1196</td> <td>    1.850</td> <td>   27.089</td> <td> 0.000</td> <td>   46.233</td> <td>   54.007</td>\n",
       "</tr>\n",
       "</table>\n",
       "<table class=\"simpletable\">\n",
       "<tr>\n",
       "  <th>Omnibus:</th>       <td> 3.537</td> <th>  Durbin-Watson:     </th> <td>   2.595</td>\n",
       "</tr>\n",
       "<tr>\n",
       "  <th>Prob(Omnibus):</th> <td> 0.171</td> <th>  Jarque-Bera (JB):  </th> <td>   1.425</td>\n",
       "</tr>\n",
       "<tr>\n",
       "  <th>Skew:</th>          <td>-0.230</td> <th>  Prob(JB):          </th> <td>   0.490</td>\n",
       "</tr>\n",
       "<tr>\n",
       "  <th>Kurtosis:</th>      <td> 1.739</td> <th>  Cond. No.          </th> <td>    1.00</td>\n",
       "</tr>\n",
       "</table><br/><br/>Notes:<br/>[1] R² is computed without centering (uncentered) since the model does not contain a constant.<br/>[2] Standard Errors assume that the covariance matrix of the errors is correctly specified."
      ],
      "text/plain": [
       "<class 'statsmodels.iolib.summary.Summary'>\n",
       "\"\"\"\n",
       "                                 OLS Regression Results                                \n",
       "=======================================================================================\n",
       "Dep. Variable:                TOT_AVG   R-squared (uncentered):                   0.976\n",
       "Model:                            OLS   Adj. R-squared (uncentered):              0.975\n",
       "Method:                 Least Squares   F-statistic:                              733.8\n",
       "Date:                Wed, 11 May 2022   Prob (F-statistic):                    4.85e-16\n",
       "Time:                        22:10:02   Log-Likelihood:                         -93.753\n",
       "No. Observations:                  19   AIC:                                      189.5\n",
       "Df Residuals:                      18   BIC:                                      190.5\n",
       "Df Model:                           1                                                  \n",
       "Covariance Type:            nonrobust                                                  \n",
       "==============================================================================\n",
       "                 coef    std err          t      P>|t|      [0.025      0.975]\n",
       "------------------------------------------------------------------------------\n",
       "CON_ST        50.1196      1.850     27.089      0.000      46.233      54.007\n",
       "==============================================================================\n",
       "Omnibus:                        3.537   Durbin-Watson:                   2.595\n",
       "Prob(Omnibus):                  0.171   Jarque-Bera (JB):                1.425\n",
       "Skew:                          -0.230   Prob(JB):                        0.490\n",
       "Kurtosis:                       1.739   Cond. No.                         1.00\n",
       "==============================================================================\n",
       "\n",
       "Notes:\n",
       "[1] R² is computed without centering (uncentered) since the model does not contain a constant.\n",
       "[2] Standard Errors assume that the covariance matrix of the errors is correctly specified.\n",
       "\"\"\""
      ]
     },
     "execution_count": 61,
     "metadata": {},
     "output_type": "execute_result"
    }
   ],
   "source": [
    "lm.summary()"
   ]
  },
  {
   "cell_type": "markdown",
   "metadata": {},
   "source": [
    "- R-squared가 높은 편, AIC는 189.5"
   ]
  },
  {
   "cell_type": "code",
   "execution_count": 63,
   "metadata": {},
   "outputs": [
    {
     "data": {
      "image/png": "[encoded data removed]",
      "text/plain": [
       "<Figure size 432x288 with 1 Axes>"
      ]
     },
     "metadata": {
      "needs_background": "light"
     },
     "output_type": "display_data"
    }
   ],
   "source": [
    "pred = lm.predict(X)\n",
    "\n",
    "sns.scatterplot(x=X, y=y)\n",
    "plt.plot(X, pred, 'r', ls='dashed', lw=3);"
   ]
  },
  {
   "cell_type": "code",
   "execution_count": 64,
   "metadata": {},
   "outputs": [
    {
     "data": {
      "image/png": "[encoded data removed]",
      "text/plain": [
       "<Figure size 432x288 with 1 Axes>"
      ]
     },
     "metadata": {
      "needs_background": "light"
     },
     "output_type": "display_data"
    }
   ],
   "source": [
    "sns.scatterplot(x=y, y=pred)\n",
    "plt.plot([min(y), max(y)], [min(y), max(y)], 'r', ls='dashed', lw=3);\n",
    "plt.plot([0, max(y)], [0, max(y)], 'b', ls='dashed', lw=3);     # 0,0부터 그리는 선 \n",
    "plt.axis([0, max(y), 0, max(y)]);"
   ]
  },
  {
   "cell_type": "code",
   "execution_count": 66,
   "metadata": {},
   "outputs": [
    {
     "data": {
      "text/plain": [
       "array([[4.4       , 1.        ],\n",
       "       [5.75      , 1.        ],\n",
       "       [2.75      , 1.        ],\n",
       "       [4.        , 1.        ],\n",
       "       [3.33333333, 1.        ]])"
      ]
     },
     "execution_count": 66,
     "metadata": {},
     "output_type": "execute_result"
    }
   ],
   "source": [
    "X = np.c_[X, [1]*len(X)]\n",
    "X[:5]"
   ]
  },
  {
   "cell_type": "code",
   "execution_count": 67,
   "metadata": {},
   "outputs": [
    {
     "name": "stderr",
     "output_type": "stream",
     "text": [
      "C:\\Users\\heaju\\miniconda3\\envs\\ds_study\\lib\\site-packages\\scipy\\stats\\_stats_py.py:1477: UserWarning: kurtosistest only valid for n>=20 ... continuing anyway, n=19\n",
      "  warnings.warn(\"kurtosistest only valid for n>=20 ... continuing \"\n"
     ]
    },
    {
     "data": {
      "text/html": [
       "<table class=\"simpletable\">\n",
       "<caption>OLS Regression Results</caption>\n",
       "<tr>\n",
       "  <th>Dep. Variable:</th>         <td>TOT_AVG</td>     <th>  R-squared:         </th> <td>   0.759</td>\n",
       "</tr>\n",
       "<tr>\n",
       "  <th>Model:</th>                   <td>OLS</td>       <th>  Adj. R-squared:    </th> <td>   0.745</td>\n",
       "</tr>\n",
       "<tr>\n",
       "  <th>Method:</th>             <td>Least Squares</td>  <th>  F-statistic:       </th> <td>   53.62</td>\n",
       "</tr>\n",
       "<tr>\n",
       "  <th>Date:</th>             <td>Wed, 11 May 2022</td> <th>  Prob (F-statistic):</th> <td>1.19e-06</td>\n",
       "</tr>\n",
       "<tr>\n",
       "  <th>Time:</th>                 <td>22:13:07</td>     <th>  Log-Likelihood:    </th> <td> -65.263</td>\n",
       "</tr>\n",
       "<tr>\n",
       "  <th>No. Observations:</th>      <td>    19</td>      <th>  AIC:               </th> <td>   134.5</td>\n",
       "</tr>\n",
       "<tr>\n",
       "  <th>Df Residuals:</th>          <td>    17</td>      <th>  BIC:               </th> <td>   136.4</td>\n",
       "</tr>\n",
       "<tr>\n",
       "  <th>Df Model:</th>              <td>     1</td>      <th>                     </th>     <td> </td>   \n",
       "</tr>\n",
       "<tr>\n",
       "  <th>Covariance Type:</th>      <td>nonrobust</td>    <th>                     </th>     <td> </td>   \n",
       "</tr>\n",
       "</table>\n",
       "<table class=\"simpletable\">\n",
       "<tr>\n",
       "    <td></td>       <th>coef</th>     <th>std err</th>      <th>t</th>      <th>P>|t|</th>  <th>[0.025</th>    <th>0.975]</th>  \n",
       "</tr>\n",
       "<tr>\n",
       "  <th>x1</th>    <td>   14.7280</td> <td>    2.011</td> <td>    7.323</td> <td> 0.000</td> <td>   10.485</td> <td>   18.971</td>\n",
       "</tr>\n",
       "<tr>\n",
       "  <th>const</th> <td>  155.1374</td> <td>    8.617</td> <td>   18.003</td> <td> 0.000</td> <td>  136.957</td> <td>  173.318</td>\n",
       "</tr>\n",
       "</table>\n",
       "<table class=\"simpletable\">\n",
       "<tr>\n",
       "  <th>Omnibus:</th>       <td> 2.516</td> <th>  Durbin-Watson:     </th> <td>   1.527</td>\n",
       "</tr>\n",
       "<tr>\n",
       "  <th>Prob(Omnibus):</th> <td> 0.284</td> <th>  Jarque-Bera (JB):  </th> <td>   0.861</td>\n",
       "</tr>\n",
       "<tr>\n",
       "  <th>Skew:</th>          <td> 0.177</td> <th>  Prob(JB):          </th> <td>   0.650</td>\n",
       "</tr>\n",
       "<tr>\n",
       "  <th>Kurtosis:</th>      <td> 3.981</td> <th>  Cond. No.          </th> <td>    21.3</td>\n",
       "</tr>\n",
       "</table><br/><br/>Notes:<br/>[1] Standard Errors assume that the covariance matrix of the errors is correctly specified."
      ],
      "text/plain": [
       "<class 'statsmodels.iolib.summary.Summary'>\n",
       "\"\"\"\n",
       "                            OLS Regression Results                            \n",
       "==============================================================================\n",
       "Dep. Variable:                TOT_AVG   R-squared:                       0.759\n",
       "Model:                            OLS   Adj. R-squared:                  0.745\n",
       "Method:                 Least Squares   F-statistic:                     53.62\n",
       "Date:                Wed, 11 May 2022   Prob (F-statistic):           1.19e-06\n",
       "Time:                        22:13:07   Log-Likelihood:                -65.263\n",
       "No. Observations:                  19   AIC:                             134.5\n",
       "Df Residuals:                      17   BIC:                             136.4\n",
       "Df Model:                           1                                         \n",
       "Covariance Type:            nonrobust                                         \n",
       "==============================================================================\n",
       "                 coef    std err          t      P>|t|      [0.025      0.975]\n",
       "------------------------------------------------------------------------------\n",
       "x1            14.7280      2.011      7.323      0.000      10.485      18.971\n",
       "const        155.1374      8.617     18.003      0.000     136.957     173.318\n",
       "==============================================================================\n",
       "Omnibus:                        2.516   Durbin-Watson:                   1.527\n",
       "Prob(Omnibus):                  0.284   Jarque-Bera (JB):                0.861\n",
       "Skew:                           0.177   Prob(JB):                        0.650\n",
       "Kurtosis:                       3.981   Cond. No.                         21.3\n",
       "==============================================================================\n",
       "\n",
       "Notes:\n",
       "[1] Standard Errors assume that the covariance matrix of the errors is correctly specified.\n",
       "\"\"\""
      ]
     },
     "execution_count": 67,
     "metadata": {},
     "output_type": "execute_result"
    }
   ],
   "source": [
    "lm = sm.OLS(y, X).fit()\n",
    "lm.summary()"
   ]
  },
  {
   "cell_type": "markdown",
   "metadata": {},
   "source": [
    "- R-squared는 낮아졌지만, AIC도 낮아졌다(모델이 데이터를 얼마나 많이 반영하는지, 즉, 낮을수록 좋음)"
   ]
  },
  {
   "cell_type": "code",
   "execution_count": 68,
   "metadata": {},
   "outputs": [
    {
     "data": {
      "image/png": "[encoded data removed]",
      "text/plain": [
       "<Figure size 432x288 with 1 Axes>"
      ]
     },
     "metadata": {
      "needs_background": "light"
     },
     "output_type": "display_data"
    }
   ],
   "source": [
    "pred = lm.predict(X)\n",
    "\n",
    "sns.scatterplot(x=X[:, 0], y=y)\n",
    "plt.plot(X[:, 0], pred, 'r', ls='dashed', lw=3);"
   ]
  },
  {
   "cell_type": "markdown",
   "metadata": {},
   "source": [
    "#### 다시 데이터 분리 - CON_ST, L_READ, OVERCOME, SPARE_SUC 모두 반영"
   ]
  },
  {
   "cell_type": "code",
   "execution_count": 70,
   "metadata": {},
   "outputs": [],
   "source": [
    "bowling_m = bowling_m[['TOT_AVG', 'CON_ST', 'L_READ', 'OVERCOME', 'SPARE_SUC']]"
   ]
  },
  {
   "cell_type": "code",
   "execution_count": 71,
   "metadata": {},
   "outputs": [],
   "source": [
    "from sklearn.model_selection import train_test_split\n",
    "\n",
    "X = bowling_m.drop('TOT_AVG', axis=1)\n",
    "y = bowling_m['TOT_AVG']\n",
    "\n",
    "X_train, X_test, y_train, y_test = train_test_split(X, y, test_size=0.3, random_state=13)"
   ]
  },
  {
   "cell_type": "code",
   "execution_count": 72,
   "metadata": {},
   "outputs": [
    {
     "name": "stderr",
     "output_type": "stream",
     "text": [
      "C:\\Users\\heaju\\miniconda3\\envs\\ds_study\\lib\\site-packages\\scipy\\stats\\_stats_py.py:1477: UserWarning: kurtosistest only valid for n>=20 ... continuing anyway, n=13\n",
      "  warnings.warn(\"kurtosistest only valid for n>=20 ... continuing \"\n"
     ]
    },
    {
     "data": {
      "text/html": [
       "<table class=\"simpletable\">\n",
       "<caption>OLS Regression Results</caption>\n",
       "<tr>\n",
       "  <th>Dep. Variable:</th>         <td>TOT_AVG</td>     <th>  R-squared (uncentered):</th>      <td>   0.998</td>\n",
       "</tr>\n",
       "<tr>\n",
       "  <th>Model:</th>                   <td>OLS</td>       <th>  Adj. R-squared (uncentered):</th> <td>   0.998</td>\n",
       "</tr>\n",
       "<tr>\n",
       "  <th>Method:</th>             <td>Least Squares</td>  <th>  F-statistic:       </th>          <td>   1321.</td>\n",
       "</tr>\n",
       "<tr>\n",
       "  <th>Date:</th>             <td>Wed, 11 May 2022</td> <th>  Prob (F-statistic):</th>          <td>1.89e-12</td>\n",
       "</tr>\n",
       "<tr>\n",
       "  <th>Time:</th>                 <td>22:17:23</td>     <th>  Log-Likelihood:    </th>          <td> -46.933</td>\n",
       "</tr>\n",
       "<tr>\n",
       "  <th>No. Observations:</th>      <td>    13</td>      <th>  AIC:               </th>          <td>   101.9</td>\n",
       "</tr>\n",
       "<tr>\n",
       "  <th>Df Residuals:</th>          <td>     9</td>      <th>  BIC:               </th>          <td>   104.1</td>\n",
       "</tr>\n",
       "<tr>\n",
       "  <th>Df Model:</th>              <td>     4</td>      <th>                     </th>              <td> </td>   \n",
       "</tr>\n",
       "<tr>\n",
       "  <th>Covariance Type:</th>      <td>nonrobust</td>    <th>                     </th>              <td> </td>   \n",
       "</tr>\n",
       "</table>\n",
       "<table class=\"simpletable\">\n",
       "<tr>\n",
       "      <td></td>         <th>coef</th>     <th>std err</th>      <th>t</th>      <th>P>|t|</th>  <th>[0.025</th>    <th>0.975]</th>  \n",
       "</tr>\n",
       "<tr>\n",
       "  <th>CON_ST</th>    <td>    8.3824</td> <td>    4.035</td> <td>    2.078</td> <td> 0.068</td> <td>   -0.744</td> <td>   17.509</td>\n",
       "</tr>\n",
       "<tr>\n",
       "  <th>L_READ</th>    <td>  -12.1691</td> <td>    2.340</td> <td>   -5.201</td> <td> 0.001</td> <td>  -17.462</td> <td>   -6.877</td>\n",
       "</tr>\n",
       "<tr>\n",
       "  <th>OVERCOME</th>  <td>   34.8533</td> <td>   15.682</td> <td>    2.223</td> <td> 0.053</td> <td>   -0.622</td> <td>   70.328</td>\n",
       "</tr>\n",
       "<tr>\n",
       "  <th>SPARE_SUC</th> <td>   68.8558</td> <td>   29.003</td> <td>    2.374</td> <td> 0.042</td> <td>    3.247</td> <td>  134.465</td>\n",
       "</tr>\n",
       "</table>\n",
       "<table class=\"simpletable\">\n",
       "<tr>\n",
       "  <th>Omnibus:</th>       <td> 1.298</td> <th>  Durbin-Watson:     </th> <td>   2.755</td>\n",
       "</tr>\n",
       "<tr>\n",
       "  <th>Prob(Omnibus):</th> <td> 0.522</td> <th>  Jarque-Bera (JB):  </th> <td>   1.028</td>\n",
       "</tr>\n",
       "<tr>\n",
       "  <th>Skew:</th>          <td> 0.590</td> <th>  Prob(JB):          </th> <td>   0.598</td>\n",
       "</tr>\n",
       "<tr>\n",
       "  <th>Kurtosis:</th>      <td> 2.289</td> <th>  Cond. No.          </th> <td>    98.7</td>\n",
       "</tr>\n",
       "</table><br/><br/>Notes:<br/>[1] R² is computed without centering (uncentered) since the model does not contain a constant.<br/>[2] Standard Errors assume that the covariance matrix of the errors is correctly specified."
      ],
      "text/plain": [
       "<class 'statsmodels.iolib.summary.Summary'>\n",
       "\"\"\"\n",
       "                                 OLS Regression Results                                \n",
       "=======================================================================================\n",
       "Dep. Variable:                TOT_AVG   R-squared (uncentered):                   0.998\n",
       "Model:                            OLS   Adj. R-squared (uncentered):              0.998\n",
       "Method:                 Least Squares   F-statistic:                              1321.\n",
       "Date:                Wed, 11 May 2022   Prob (F-statistic):                    1.89e-12\n",
       "Time:                        22:17:23   Log-Likelihood:                         -46.933\n",
       "No. Observations:                  13   AIC:                                      101.9\n",
       "Df Residuals:                       9   BIC:                                      104.1\n",
       "Df Model:                           4                                                  \n",
       "Covariance Type:            nonrobust                                                  \n",
       "==============================================================================\n",
       "                 coef    std err          t      P>|t|      [0.025      0.975]\n",
       "------------------------------------------------------------------------------\n",
       "CON_ST         8.3824      4.035      2.078      0.068      -0.744      17.509\n",
       "L_READ       -12.1691      2.340     -5.201      0.001     -17.462      -6.877\n",
       "OVERCOME      34.8533     15.682      2.223      0.053      -0.622      70.328\n",
       "SPARE_SUC     68.8558     29.003      2.374      0.042       3.247     134.465\n",
       "==============================================================================\n",
       "Omnibus:                        1.298   Durbin-Watson:                   2.755\n",
       "Prob(Omnibus):                  0.522   Jarque-Bera (JB):                1.028\n",
       "Skew:                           0.590   Prob(JB):                        0.598\n",
       "Kurtosis:                       2.289   Cond. No.                         98.7\n",
       "==============================================================================\n",
       "\n",
       "Notes:\n",
       "[1] R² is computed without centering (uncentered) since the model does not contain a constant.\n",
       "[2] Standard Errors assume that the covariance matrix of the errors is correctly specified.\n",
       "\"\"\""
      ]
     },
     "execution_count": 72,
     "metadata": {},
     "output_type": "execute_result"
    }
   ],
   "source": [
    "import statsmodels.api as sm\n",
    "\n",
    "lm = sm.OLS(y_train, X_train).fit()\n",
    "lm.summary()"
   ]
  },
  {
   "cell_type": "markdown",
   "metadata": {},
   "source": [
    "- R-squared 가 더 높아지고 AIC는 더 낮아짐"
   ]
  },
  {
   "cell_type": "code",
   "execution_count": 86,
   "metadata": {},
   "outputs": [
    {
     "data": {
      "text/plain": [
       "LinearRegression()"
      ]
     },
     "execution_count": 86,
     "metadata": {},
     "output_type": "execute_result"
    }
   ],
   "source": [
    "from sklearn.linear_model import LinearRegression\n",
    "\n",
    "reg = LinearRegression()\n",
    "reg.fit(X_train, y_train)"
   ]
  },
  {
   "cell_type": "code",
   "execution_count": 87,
   "metadata": {},
   "outputs": [
    {
     "name": "stdout",
     "output_type": "stream",
     "text": [
      "RMSE of Train Data :  6.183920283861188\n",
      "RMSE of Test Data :  6.5443942999374105\n"
     ]
    }
   ],
   "source": [
    "from sklearn.metrics import mean_squared_error\n",
    "\n",
    "pred_tr = reg.predict(X_train)\n",
    "pred_test = reg.predict(X_test)\n",
    "\n",
    "rmse_tr = (np.sqrt(mean_squared_error(y_train, pred_tr)))\n",
    "rmse_test = (np.sqrt(mean_squared_error(y_test, pred_test)))\n",
    "\n",
    "print('RMSE of Train Data : ', rmse_tr)\n",
    "print('RMSE of Test Data : ', rmse_test)"
   ]
  },
  {
   "cell_type": "code",
   "execution_count": 90,
   "metadata": {},
   "outputs": [
    {
     "data": {
      "image/png": "[encoded data removed]",
      "text/plain": [
       "<Figure size 432x288 with 1 Axes>"
      ]
     },
     "metadata": {
      "needs_background": "light"
     },
     "output_type": "display_data"
    }
   ],
   "source": [
    "plt.scatter(y_test, pred_test)\n",
    "plt.xlabel(\"Real\")\n",
    "plt.ylabel('Predicted')\n",
    "plt.title('Real vs Predicted')\n",
    "plt.plot([120, 300], [120, 300], 'r')\n",
    "plt.show()"
   ]
  },
  {
   "cell_type": "markdown",
   "metadata": {},
   "source": [
    "- L_READ를 뺀 나머지 CON_ST, OVERCOME, SPARE_SUC만 반영"
   ]
  },
  {
   "cell_type": "code",
   "execution_count": 101,
   "metadata": {},
   "outputs": [
    {
     "data": {
      "text/plain": [
       "LinearRegression()"
      ]
     },
     "execution_count": 101,
     "metadata": {},
     "output_type": "execute_result"
    }
   ],
   "source": [
    "X = bowling_m.drop(['TOT_AVG', 'L_READ'], axis=1)\n",
    "y = bowling_m['TOT_AVG']\n",
    "\n",
    "X_train, X_test, y_train, y_test = train_test_split(X, y, test_size=0.2, random_state=13)\n",
    "\n",
    "reg = LinearRegression()\n",
    "reg.fit(X_train, y_train)"
   ]
  },
  {
   "cell_type": "code",
   "execution_count": 102,
   "metadata": {},
   "outputs": [
    {
     "name": "stdout",
     "output_type": "stream",
     "text": [
      "RMSE of Train Data :  7.26022494774671\n",
      "RMSE of Test Data :  4.897967325738156\n"
     ]
    }
   ],
   "source": [
    "pred_tr = reg.predict(X_train)\n",
    "pred_test = reg.predict(X_test)\n",
    "\n",
    "rmse_tr = (np.sqrt(mean_squared_error(y_train, pred_tr)))\n",
    "rmse_test = (np.sqrt(mean_squared_error(y_test, pred_test)))\n",
    "\n",
    "print('RMSE of Train Data : ', rmse_tr)\n",
    "print('RMSE of Test Data : ', rmse_test)"
   ]
  },
  {
   "cell_type": "code",
   "execution_count": 103,
   "metadata": {},
   "outputs": [
    {
     "data": {
      "image/png": "[encoded data removed]",
      "text/plain": [
       "<Figure size 432x288 with 1 Axes>"
      ]
     },
     "metadata": {
      "needs_background": "light"
     },
     "output_type": "display_data"
    }
   ],
   "source": [
    "plt.scatter(y_test, pred_test)\n",
    "plt.xlabel(\"Real\")\n",
    "plt.ylabel('Predicted')\n",
    "plt.title('Real vs Predicted')\n",
    "plt.plot([120, 300], [120, 300], 'r')\n",
    "plt.show()"
   ]
  },
  {
   "cell_type": "markdown",
   "metadata": {},
   "source": [
    "- CON_ST, L_READ, SPARE_SUC만 반영"
   ]
  },
  {
   "cell_type": "code",
   "execution_count": 104,
   "metadata": {},
   "outputs": [
    {
     "data": {
      "text/plain": [
       "LinearRegression()"
      ]
     },
     "execution_count": 104,
     "metadata": {},
     "output_type": "execute_result"
    }
   ],
   "source": [
    "X = bowling_m.drop(['TOT_AVG', 'OVERCOME'], axis=1)\n",
    "y = bowling_m['TOT_AVG']\n",
    "\n",
    "X_train, X_test, y_train, y_test = train_test_split(X, y, test_size=0.2, random_state=13)\n",
    "\n",
    "reg = LinearRegression()\n",
    "reg.fit(X_train, y_train)"
   ]
  },
  {
   "cell_type": "code",
   "execution_count": 105,
   "metadata": {},
   "outputs": [
    {
     "name": "stdout",
     "output_type": "stream",
     "text": [
      "RMSE of Train Data :  7.432177921917889\n",
      "RMSE of Test Data :  4.208940804788774\n"
     ]
    }
   ],
   "source": [
    "pred_tr = reg.predict(X_train)\n",
    "pred_test = reg.predict(X_test)\n",
    "\n",
    "rmse_tr = (np.sqrt(mean_squared_error(y_train, pred_tr)))\n",
    "rmse_test = (np.sqrt(mean_squared_error(y_test, pred_test)))\n",
    "\n",
    "print('RMSE of Train Data : ', rmse_tr)\n",
    "print('RMSE of Test Data : ', rmse_test)"
   ]
  },
  {
   "cell_type": "code",
   "execution_count": 106,
   "metadata": {},
   "outputs": [
    {
     "data": {
      "image/png": "[encoded data removed]",
      "text/plain": [
       "<Figure size 432x288 with 1 Axes>"
      ]
     },
     "metadata": {
      "needs_background": "light"
     },
     "output_type": "display_data"
    }
   ],
   "source": [
    "plt.scatter(y_test, pred_test)\n",
    "plt.xlabel(\"Real\")\n",
    "plt.ylabel('Predicted')\n",
    "plt.title('Real vs Predicted')\n",
    "plt.plot([120, 300], [120, 300], 'r')\n",
    "plt.show()"
   ]
  },
  {
   "cell_type": "markdown",
   "metadata": {},
   "source": [
    "- CON_ST, L_READ, OVERCOME만 반영"
   ]
  },
  {
   "cell_type": "code",
   "execution_count": 107,
   "metadata": {},
   "outputs": [
    {
     "data": {
      "text/plain": [
       "LinearRegression()"
      ]
     },
     "execution_count": 107,
     "metadata": {},
     "output_type": "execute_result"
    }
   ],
   "source": [
    "X = bowling_m.drop(['TOT_AVG', 'SPARE_SUC'], axis=1)\n",
    "y = bowling_m['TOT_AVG']\n",
    "\n",
    "X_train, X_test, y_train, y_test = train_test_split(X, y, test_size=0.2, random_state=13)\n",
    "\n",
    "reg = LinearRegression()\n",
    "reg.fit(X_train, y_train)"
   ]
  },
  {
   "cell_type": "code",
   "execution_count": 108,
   "metadata": {},
   "outputs": [
    {
     "name": "stdout",
     "output_type": "stream",
     "text": [
      "RMSE of Train Data :  7.031171992079442\n",
      "RMSE of Test Data :  3.626333409299124\n"
     ]
    }
   ],
   "source": [
    "pred_tr = reg.predict(X_train)\n",
    "pred_test = reg.predict(X_test)\n",
    "\n",
    "rmse_tr = (np.sqrt(mean_squared_error(y_train, pred_tr)))\n",
    "rmse_test = (np.sqrt(mean_squared_error(y_test, pred_test)))\n",
    "\n",
    "print('RMSE of Train Data : ', rmse_tr)\n",
    "print('RMSE of Test Data : ', rmse_test)"
   ]
  },
  {
   "cell_type": "code",
   "execution_count": 109,
   "metadata": {},
   "outputs": [
    {
     "data": {
      "image/png": "[encoded data removed]",
      "text/plain": [
       "<Figure size 432x288 with 1 Axes>"
      ]
     },
     "metadata": {
      "needs_background": "light"
     },
     "output_type": "display_data"
    }
   ],
   "source": [
    "plt.scatter(y_test, pred_test)\n",
    "plt.xlabel(\"Real\")\n",
    "plt.ylabel('Predicted')\n",
    "plt.title('Real vs Predicted')\n",
    "plt.plot([120, 300], [120, 300], 'r')\n",
    "plt.show()"
   ]
  },
  {
   "cell_type": "markdown",
   "metadata": {},
   "source": [
    "- L_READ, OVERCOME, SPARE_SUC만 반영"
   ]
  },
  {
   "cell_type": "code",
   "execution_count": 110,
   "metadata": {},
   "outputs": [
    {
     "data": {
      "text/plain": [
       "LinearRegression()"
      ]
     },
     "execution_count": 110,
     "metadata": {},
     "output_type": "execute_result"
    }
   ],
   "source": [
    "X = bowling_m.drop(['TOT_AVG', 'CON_ST'], axis=1)\n",
    "y = bowling_m['TOT_AVG']\n",
    "\n",
    "X_train, X_test, y_train, y_test = train_test_split(X, y, test_size=0.2, random_state=13)\n",
    "\n",
    "reg = LinearRegression()\n",
    "reg.fit(X_train, y_train)"
   ]
  },
  {
   "cell_type": "code",
   "execution_count": 111,
   "metadata": {},
   "outputs": [
    {
     "name": "stdout",
     "output_type": "stream",
     "text": [
      "RMSE of Train Data :  10.861605243885911\n",
      "RMSE of Test Data :  15.612200415436421\n"
     ]
    }
   ],
   "source": [
    "pred_tr = reg.predict(X_train)\n",
    "pred_test = reg.predict(X_test)\n",
    "\n",
    "rmse_tr = (np.sqrt(mean_squared_error(y_train, pred_tr)))\n",
    "rmse_test = (np.sqrt(mean_squared_error(y_test, pred_test)))\n",
    "\n",
    "print('RMSE of Train Data : ', rmse_tr)\n",
    "print('RMSE of Test Data : ', rmse_test)"
   ]
  },
  {
   "cell_type": "code",
   "execution_count": 112,
   "metadata": {},
   "outputs": [
    {
     "data": {
      "image/png": "[encoded data removed]",
      "text/plain": [
       "<Figure size 432x288 with 1 Axes>"
      ]
     },
     "metadata": {
      "needs_background": "light"
     },
     "output_type": "display_data"
    }
   ],
   "source": [
    "plt.scatter(y_test, pred_test)\n",
    "plt.xlabel(\"Real\")\n",
    "plt.ylabel('Predicted')\n",
    "plt.title('Real vs Predicted')\n",
    "plt.plot([120, 300], [120, 300], 'r')\n",
    "plt.show()"
   ]
  },
  {
   "cell_type": "markdown",
   "metadata": {},
   "source": [
    "- min-max scaling"
   ]
  },
  {
   "cell_type": "code",
   "execution_count": 114,
   "metadata": {},
   "outputs": [
    {
     "data": {
      "text/html": [
       "<div>\n",
       "<style scoped>\n",
       "    .dataframe tbody tr th:only-of-type {\n",
       "        vertical-align: middle;\n",
       "    }\n",
       "\n",
       "    .dataframe tbody tr th {\n",
       "        vertical-align: top;\n",
       "    }\n",
       "\n",
       "    .dataframe thead th {\n",
       "        text-align: right;\n",
       "    }\n",
       "</style>\n",
       "<table border=\"1\" class=\"dataframe\">\n",
       "  <thead>\n",
       "    <tr style=\"text-align: right;\">\n",
       "      <th></th>\n",
       "      <th>TOT_AVG</th>\n",
       "      <th>CON_ST</th>\n",
       "      <th>L_READ</th>\n",
       "      <th>OVERCOME</th>\n",
       "      <th>SPARE_SUC</th>\n",
       "    </tr>\n",
       "  </thead>\n",
       "  <tbody>\n",
       "    <tr>\n",
       "      <th>0</th>\n",
       "      <td>215.800000</td>\n",
       "      <td>4.400000</td>\n",
       "      <td>-9.000000</td>\n",
       "      <td>0.652252</td>\n",
       "      <td>0.811789</td>\n",
       "    </tr>\n",
       "    <tr>\n",
       "      <th>1</th>\n",
       "      <td>246.000000</td>\n",
       "      <td>5.750000</td>\n",
       "      <td>-9.750000</td>\n",
       "      <td>0.687281</td>\n",
       "      <td>0.659609</td>\n",
       "    </tr>\n",
       "    <tr>\n",
       "      <th>2</th>\n",
       "      <td>190.500000</td>\n",
       "      <td>2.750000</td>\n",
       "      <td>-9.250000</td>\n",
       "      <td>0.475010</td>\n",
       "      <td>0.542429</td>\n",
       "    </tr>\n",
       "    <tr>\n",
       "      <th>3</th>\n",
       "      <td>212.500000</td>\n",
       "      <td>4.000000</td>\n",
       "      <td>-8.750000</td>\n",
       "      <td>0.455561</td>\n",
       "      <td>0.768218</td>\n",
       "    </tr>\n",
       "    <tr>\n",
       "      <th>4</th>\n",
       "      <td>198.333333</td>\n",
       "      <td>3.333333</td>\n",
       "      <td>-8.666667</td>\n",
       "      <td>0.783212</td>\n",
       "      <td>0.624562</td>\n",
       "    </tr>\n",
       "  </tbody>\n",
       "</table>\n",
       "</div>"
      ],
      "text/plain": [
       "      TOT_AVG    CON_ST    L_READ  OVERCOME  SPARE_SUC\n",
       "0  215.800000  4.400000 -9.000000  0.652252   0.811789\n",
       "1  246.000000  5.750000 -9.750000  0.687281   0.659609\n",
       "2  190.500000  2.750000 -9.250000  0.475010   0.542429\n",
       "3  212.500000  4.000000 -8.750000  0.455561   0.768218\n",
       "4  198.333333  3.333333 -8.666667  0.783212   0.624562"
      ]
     },
     "execution_count": 114,
     "metadata": {},
     "output_type": "execute_result"
    }
   ],
   "source": [
    "bowling_m.head()"
   ]
  },
  {
   "cell_type": "code",
   "execution_count": 122,
   "metadata": {},
   "outputs": [
    {
     "data": {
      "text/html": [
       "<div>\n",
       "<style scoped>\n",
       "    .dataframe tbody tr th:only-of-type {\n",
       "        vertical-align: middle;\n",
       "    }\n",
       "\n",
       "    .dataframe tbody tr th {\n",
       "        vertical-align: top;\n",
       "    }\n",
       "\n",
       "    .dataframe thead th {\n",
       "        text-align: right;\n",
       "    }\n",
       "</style>\n",
       "<table border=\"1\" class=\"dataframe\">\n",
       "  <thead>\n",
       "    <tr style=\"text-align: right;\">\n",
       "      <th></th>\n",
       "      <th>TOT_AVG</th>\n",
       "      <th>CON_ST</th>\n",
       "      <th>L_READ</th>\n",
       "      <th>OVERCOME</th>\n",
       "      <th>SPARE_SUC</th>\n",
       "    </tr>\n",
       "  </thead>\n",
       "  <tbody>\n",
       "    <tr>\n",
       "      <th>0</th>\n",
       "      <td>0.430028</td>\n",
       "      <td>0.507692</td>\n",
       "      <td>0.571429</td>\n",
       "      <td>0.548268</td>\n",
       "      <td>0.973629</td>\n",
       "    </tr>\n",
       "    <tr>\n",
       "      <th>1</th>\n",
       "      <td>0.943343</td>\n",
       "      <td>0.923077</td>\n",
       "      <td>0.250000</td>\n",
       "      <td>0.604706</td>\n",
       "      <td>0.568044</td>\n",
       "    </tr>\n",
       "    <tr>\n",
       "      <th>2</th>\n",
       "      <td>0.000000</td>\n",
       "      <td>0.000000</td>\n",
       "      <td>0.464286</td>\n",
       "      <td>0.262702</td>\n",
       "      <td>0.255741</td>\n",
       "    </tr>\n",
       "    <tr>\n",
       "      <th>3</th>\n",
       "      <td>0.373938</td>\n",
       "      <td>0.384615</td>\n",
       "      <td>0.678571</td>\n",
       "      <td>0.231366</td>\n",
       "      <td>0.857506</td>\n",
       "    </tr>\n",
       "    <tr>\n",
       "      <th>4</th>\n",
       "      <td>0.133144</td>\n",
       "      <td>0.179487</td>\n",
       "      <td>0.714286</td>\n",
       "      <td>0.759266</td>\n",
       "      <td>0.474638</td>\n",
       "    </tr>\n",
       "  </tbody>\n",
       "</table>\n",
       "</div>"
      ],
      "text/plain": [
       "    TOT_AVG    CON_ST    L_READ  OVERCOME  SPARE_SUC\n",
       "0  0.430028  0.507692  0.571429  0.548268   0.973629\n",
       "1  0.943343  0.923077  0.250000  0.604706   0.568044\n",
       "2  0.000000  0.000000  0.464286  0.262702   0.255741\n",
       "3  0.373938  0.384615  0.678571  0.231366   0.857506\n",
       "4  0.133144  0.179487  0.714286  0.759266   0.474638"
      ]
     },
     "execution_count": 122,
     "metadata": {},
     "output_type": "execute_result"
    }
   ],
   "source": [
    "from sklearn.preprocessing import MinMaxScaler\n",
    "\n",
    "mms=MinMaxScaler()\n",
    "bowling_mms = mms.fit_transform(bowling_m)\n",
    "bowling_mms_pd = pd.DataFrame(bowling_mms, columns=bowling_m.columns)\n",
    "bowling_mms_pd.head()"
   ]
  },
  {
   "cell_type": "code",
   "execution_count": 130,
   "metadata": {},
   "outputs": [],
   "source": [
    "from sklearn.model_selection import train_test_split\n",
    "\n",
    "X = bowling_mms_pd.drop('TOT_AVG', axis=1)\n",
    "y = bowling_mms_pd['TOT_AVG']\n",
    "\n",
    "X_train, X_test, y_train, y_test = train_test_split(X, y, test_size=0.3, random_state=13)"
   ]
  },
  {
   "cell_type": "code",
   "execution_count": 131,
   "metadata": {},
   "outputs": [
    {
     "data": {
      "text/plain": [
       "LinearRegression()"
      ]
     },
     "execution_count": 131,
     "metadata": {},
     "output_type": "execute_result"
    }
   ],
   "source": [
    "from sklearn.linear_model import LinearRegression\n",
    "\n",
    "lr = LinearRegression()\n",
    "lr.fit(X_train, y_train)"
   ]
  },
  {
   "cell_type": "code",
   "execution_count": 132,
   "metadata": {},
   "outputs": [
    {
     "name": "stdout",
     "output_type": "stream",
     "text": [
      "RMSE of Train Data :  0.10510912663786733\n",
      "RMSE of Test Data :  0.11123616373831319\n"
     ]
    }
   ],
   "source": [
    "pred_tr = lr.predict(X_train)\n",
    "pred_test = lr.predict(X_test)\n",
    "\n",
    "rmse_tr = (np.sqrt(mean_squared_error(y_train, pred_tr)))\n",
    "rmse_test = (np.sqrt(mean_squared_error(y_test, pred_test)))\n",
    "\n",
    "print('RMSE of Train Data : ', rmse_tr)\n",
    "print('RMSE of Test Data : ', rmse_test)"
   ]
  },
  {
   "cell_type": "code",
   "execution_count": 133,
   "metadata": {},
   "outputs": [
    {
     "name": "stderr",
     "output_type": "stream",
     "text": [
      "C:\\Users\\heaju\\miniconda3\\envs\\ds_study\\lib\\site-packages\\scipy\\stats\\_stats_py.py:1477: UserWarning: kurtosistest only valid for n>=20 ... continuing anyway, n=13\n",
      "  warnings.warn(\"kurtosistest only valid for n>=20 ... continuing \"\n"
     ]
    },
    {
     "data": {
      "text/html": [
       "<table class=\"simpletable\">\n",
       "<caption>OLS Regression Results</caption>\n",
       "<tr>\n",
       "  <th>Dep. Variable:</th>         <td>TOT_AVG</td>     <th>  R-squared (uncentered):</th>      <td>   0.955</td>\n",
       "</tr>\n",
       "<tr>\n",
       "  <th>Model:</th>                   <td>OLS</td>       <th>  Adj. R-squared (uncentered):</th> <td>   0.934</td>\n",
       "</tr>\n",
       "<tr>\n",
       "  <th>Method:</th>             <td>Least Squares</td>  <th>  F-statistic:       </th>          <td>   47.36</td>\n",
       "</tr>\n",
       "<tr>\n",
       "  <th>Date:</th>             <td>Thu, 12 May 2022</td> <th>  Prob (F-statistic):</th>          <td>4.77e-06</td>\n",
       "</tr>\n",
       "<tr>\n",
       "  <th>Time:</th>                 <td>14:04:26</td>     <th>  Log-Likelihood:    </th>          <td>  10.649</td>\n",
       "</tr>\n",
       "<tr>\n",
       "  <th>No. Observations:</th>      <td>    13</td>      <th>  AIC:               </th>          <td>  -13.30</td>\n",
       "</tr>\n",
       "<tr>\n",
       "  <th>Df Residuals:</th>          <td>     9</td>      <th>  BIC:               </th>          <td>  -11.04</td>\n",
       "</tr>\n",
       "<tr>\n",
       "  <th>Df Model:</th>              <td>     4</td>      <th>                     </th>              <td> </td>   \n",
       "</tr>\n",
       "<tr>\n",
       "  <th>Covariance Type:</th>      <td>nonrobust</td>    <th>                     </th>              <td> </td>   \n",
       "</tr>\n",
       "</table>\n",
       "<table class=\"simpletable\">\n",
       "<tr>\n",
       "      <td></td>         <th>coef</th>     <th>std err</th>      <th>t</th>      <th>P>|t|</th>  <th>[0.025</th>    <th>0.975]</th>  \n",
       "</tr>\n",
       "<tr>\n",
       "  <th>CON_ST</th>    <td>    0.6626</td> <td>    0.167</td> <td>    3.971</td> <td> 0.003</td> <td>    0.285</td> <td>    1.040</td>\n",
       "</tr>\n",
       "<tr>\n",
       "  <th>L_READ</th>    <td>   -0.0828</td> <td>    0.132</td> <td>   -0.627</td> <td> 0.546</td> <td>   -0.381</td> <td>    0.216</td>\n",
       "</tr>\n",
       "<tr>\n",
       "  <th>OVERCOME</th>  <td>    0.2205</td> <td>    0.116</td> <td>    1.904</td> <td> 0.089</td> <td>   -0.042</td> <td>    0.483</td>\n",
       "</tr>\n",
       "<tr>\n",
       "  <th>SPARE_SUC</th> <td>    0.1495</td> <td>    0.138</td> <td>    1.084</td> <td> 0.307</td> <td>   -0.163</td> <td>    0.462</td>\n",
       "</tr>\n",
       "</table>\n",
       "<table class=\"simpletable\">\n",
       "<tr>\n",
       "  <th>Omnibus:</th>       <td> 1.302</td> <th>  Durbin-Watson:     </th> <td>   1.646</td>\n",
       "</tr>\n",
       "<tr>\n",
       "  <th>Prob(Omnibus):</th> <td> 0.522</td> <th>  Jarque-Bera (JB):  </th> <td>   0.757</td>\n",
       "</tr>\n",
       "<tr>\n",
       "  <th>Skew:</th>          <td>-0.008</td> <th>  Prob(JB):          </th> <td>   0.685</td>\n",
       "</tr>\n",
       "<tr>\n",
       "  <th>Kurtosis:</th>      <td> 1.818</td> <th>  Cond. No.          </th> <td>    7.04</td>\n",
       "</tr>\n",
       "</table><br/><br/>Notes:<br/>[1] R² is computed without centering (uncentered) since the model does not contain a constant.<br/>[2] Standard Errors assume that the covariance matrix of the errors is correctly specified."
      ],
      "text/plain": [
       "<class 'statsmodels.iolib.summary.Summary'>\n",
       "\"\"\"\n",
       "                                 OLS Regression Results                                \n",
       "=======================================================================================\n",
       "Dep. Variable:                TOT_AVG   R-squared (uncentered):                   0.955\n",
       "Model:                            OLS   Adj. R-squared (uncentered):              0.934\n",
       "Method:                 Least Squares   F-statistic:                              47.36\n",
       "Date:                Thu, 12 May 2022   Prob (F-statistic):                    4.77e-06\n",
       "Time:                        14:04:26   Log-Likelihood:                          10.649\n",
       "No. Observations:                  13   AIC:                                     -13.30\n",
       "Df Residuals:                       9   BIC:                                     -11.04\n",
       "Df Model:                           4                                                  \n",
       "Covariance Type:            nonrobust                                                  \n",
       "==============================================================================\n",
       "                 coef    std err          t      P>|t|      [0.025      0.975]\n",
       "------------------------------------------------------------------------------\n",
       "CON_ST         0.6626      0.167      3.971      0.003       0.285       1.040\n",
       "L_READ        -0.0828      0.132     -0.627      0.546      -0.381       0.216\n",
       "OVERCOME       0.2205      0.116      1.904      0.089      -0.042       0.483\n",
       "SPARE_SUC      0.1495      0.138      1.084      0.307      -0.163       0.462\n",
       "==============================================================================\n",
       "Omnibus:                        1.302   Durbin-Watson:                   1.646\n",
       "Prob(Omnibus):                  0.522   Jarque-Bera (JB):                0.757\n",
       "Skew:                          -0.008   Prob(JB):                        0.685\n",
       "Kurtosis:                       1.818   Cond. No.                         7.04\n",
       "==============================================================================\n",
       "\n",
       "Notes:\n",
       "[1] R² is computed without centering (uncentered) since the model does not contain a constant.\n",
       "[2] Standard Errors assume that the covariance matrix of the errors is correctly specified.\n",
       "\"\"\""
      ]
     },
     "execution_count": 133,
     "metadata": {},
     "output_type": "execute_result"
    }
   ],
   "source": [
    "lm = sm.OLS(y_train, X_train).fit()\n",
    "lm.summary()"
   ]
  },
  {
   "cell_type": "markdown",
   "metadata": {},
   "source": [
    "- standard scaling"
   ]
  },
  {
   "cell_type": "code",
   "execution_count": 127,
   "metadata": {},
   "outputs": [
    {
     "data": {
      "text/html": [
       "<div>\n",
       "<style scoped>\n",
       "    .dataframe tbody tr th:only-of-type {\n",
       "        vertical-align: middle;\n",
       "    }\n",
       "\n",
       "    .dataframe tbody tr th {\n",
       "        vertical-align: top;\n",
       "    }\n",
       "\n",
       "    .dataframe thead th {\n",
       "        text-align: right;\n",
       "    }\n",
       "</style>\n",
       "<table border=\"1\" class=\"dataframe\">\n",
       "  <thead>\n",
       "    <tr style=\"text-align: right;\">\n",
       "      <th></th>\n",
       "      <th>TOT_AVG</th>\n",
       "      <th>CON_ST</th>\n",
       "      <th>L_READ</th>\n",
       "      <th>OVERCOME</th>\n",
       "      <th>SPARE_SUC</th>\n",
       "    </tr>\n",
       "  </thead>\n",
       "  <tbody>\n",
       "    <tr>\n",
       "      <th>0</th>\n",
       "      <td>-0.066266</td>\n",
       "      <td>0.234471</td>\n",
       "      <td>0.082023</td>\n",
       "      <td>0.376106</td>\n",
       "      <td>1.175288</td>\n",
       "    </tr>\n",
       "    <tr>\n",
       "      <th>1</th>\n",
       "      <td>1.907269</td>\n",
       "      <td>1.725594</td>\n",
       "      <td>-0.996890</td>\n",
       "      <td>0.585194</td>\n",
       "      <td>-0.172963</td>\n",
       "    </tr>\n",
       "    <tr>\n",
       "      <th>2</th>\n",
       "      <td>-1.719592</td>\n",
       "      <td>-1.588011</td>\n",
       "      <td>-0.277615</td>\n",
       "      <td>-0.681827</td>\n",
       "      <td>-1.211123</td>\n",
       "    </tr>\n",
       "    <tr>\n",
       "      <th>3</th>\n",
       "      <td>-0.281917</td>\n",
       "      <td>-0.207343</td>\n",
       "      <td>0.441660</td>\n",
       "      <td>-0.797915</td>\n",
       "      <td>0.789270</td>\n",
       "    </tr>\n",
       "    <tr>\n",
       "      <th>4</th>\n",
       "      <td>-1.207692</td>\n",
       "      <td>-0.943699</td>\n",
       "      <td>0.561539</td>\n",
       "      <td>1.157788</td>\n",
       "      <td>-0.483462</td>\n",
       "    </tr>\n",
       "  </tbody>\n",
       "</table>\n",
       "</div>"
      ],
      "text/plain": [
       "    TOT_AVG    CON_ST    L_READ  OVERCOME  SPARE_SUC\n",
       "0 -0.066266  0.234471  0.082023  0.376106   1.175288\n",
       "1  1.907269  1.725594 -0.996890  0.585194  -0.172963\n",
       "2 -1.719592 -1.588011 -0.277615 -0.681827  -1.211123\n",
       "3 -0.281917 -0.207343  0.441660 -0.797915   0.789270\n",
       "4 -1.207692 -0.943699  0.561539  1.157788  -0.483462"
      ]
     },
     "execution_count": 127,
     "metadata": {},
     "output_type": "execute_result"
    }
   ],
   "source": [
    "from sklearn.preprocessing import StandardScaler\n",
    "\n",
    "ss=StandardScaler()\n",
    "bowling_ss = ss.fit_transform(bowling_m)\n",
    "bowling_ss_pd = pd.DataFrame(bowling_ss, columns=bowling_m.columns)\n",
    "bowling_ss_pd.head()"
   ]
  },
  {
   "cell_type": "code",
   "execution_count": 134,
   "metadata": {},
   "outputs": [],
   "source": [
    "X = bowling_ss_pd.drop('TOT_AVG', axis=1)\n",
    "y = bowling_ss_pd['TOT_AVG']\n",
    "\n",
    "X_train, X_test, y_train, y_test = train_test_split(X, y, test_size=0.3, random_state=13)"
   ]
  },
  {
   "cell_type": "code",
   "execution_count": 135,
   "metadata": {},
   "outputs": [
    {
     "data": {
      "text/plain": [
       "LinearRegression()"
      ]
     },
     "execution_count": 135,
     "metadata": {},
     "output_type": "execute_result"
    }
   ],
   "source": [
    "from sklearn.linear_model import LinearRegression\n",
    "\n",
    "lr = LinearRegression()\n",
    "lr.fit(X_train, y_train)"
   ]
  },
  {
   "cell_type": "code",
   "execution_count": 136,
   "metadata": {},
   "outputs": [
    {
     "name": "stdout",
     "output_type": "stream",
     "text": [
      "RMSE of Train Data :  0.40411202362133847\n",
      "RMSE of Test Data :  0.42766858279621206\n"
     ]
    }
   ],
   "source": [
    "pred_tr = lr.predict(X_train)\n",
    "pred_test = lr.predict(X_test)\n",
    "\n",
    "rmse_tr = (np.sqrt(mean_squared_error(y_train, pred_tr)))\n",
    "rmse_test = (np.sqrt(mean_squared_error(y_test, pred_test)))\n",
    "\n",
    "print('RMSE of Train Data : ', rmse_tr)\n",
    "print('RMSE of Test Data : ', rmse_test)"
   ]
  },
  {
   "cell_type": "code",
   "execution_count": 137,
   "metadata": {},
   "outputs": [
    {
     "name": "stderr",
     "output_type": "stream",
     "text": [
      "C:\\Users\\heaju\\miniconda3\\envs\\ds_study\\lib\\site-packages\\scipy\\stats\\_stats_py.py:1477: UserWarning: kurtosistest only valid for n>=20 ... continuing anyway, n=13\n",
      "  warnings.warn(\"kurtosistest only valid for n>=20 ... continuing \"\n"
     ]
    },
    {
     "data": {
      "text/html": [
       "<table class=\"simpletable\">\n",
       "<caption>OLS Regression Results</caption>\n",
       "<tr>\n",
       "  <th>Dep. Variable:</th>         <td>TOT_AVG</td>     <th>  R-squared (uncentered):</th>      <td>   0.797</td>\n",
       "</tr>\n",
       "<tr>\n",
       "  <th>Model:</th>                   <td>OLS</td>       <th>  Adj. R-squared (uncentered):</th> <td>   0.707</td>\n",
       "</tr>\n",
       "<tr>\n",
       "  <th>Method:</th>             <td>Least Squares</td>  <th>  F-statistic:       </th>          <td>   8.859</td>\n",
       "</tr>\n",
       "<tr>\n",
       "  <th>Date:</th>             <td>Thu, 12 May 2022</td> <th>  Prob (F-statistic):</th>           <td>0.00348</td>\n",
       "</tr>\n",
       "<tr>\n",
       "  <th>Time:</th>                 <td>14:08:02</td>     <th>  Log-Likelihood:    </th>          <td> -6.6677</td>\n",
       "</tr>\n",
       "<tr>\n",
       "  <th>No. Observations:</th>      <td>    13</td>      <th>  AIC:               </th>          <td>   21.34</td>\n",
       "</tr>\n",
       "<tr>\n",
       "  <th>Df Residuals:</th>          <td>     9</td>      <th>  BIC:               </th>          <td>   23.60</td>\n",
       "</tr>\n",
       "<tr>\n",
       "  <th>Df Model:</th>              <td>     4</td>      <th>                     </th>              <td> </td>   \n",
       "</tr>\n",
       "<tr>\n",
       "  <th>Covariance Type:</th>      <td>nonrobust</td>    <th>                     </th>              <td> </td>   \n",
       "</tr>\n",
       "</table>\n",
       "<table class=\"simpletable\">\n",
       "<tr>\n",
       "      <td></td>         <th>coef</th>     <th>std err</th>      <th>t</th>      <th>P>|t|</th>  <th>[0.025</th>    <th>0.975]</th>  \n",
       "</tr>\n",
       "<tr>\n",
       "  <th>CON_ST</th>    <td>    0.6976</td> <td>    0.158</td> <td>    4.410</td> <td> 0.002</td> <td>    0.340</td> <td>    1.055</td>\n",
       "</tr>\n",
       "<tr>\n",
       "  <th>L_READ</th>    <td>   -0.1208</td> <td>    0.145</td> <td>   -0.835</td> <td> 0.425</td> <td>   -0.448</td> <td>    0.206</td>\n",
       "</tr>\n",
       "<tr>\n",
       "  <th>OVERCOME</th>  <td>    0.1992</td> <td>    0.128</td> <td>    1.558</td> <td> 0.154</td> <td>   -0.090</td> <td>    0.488</td>\n",
       "</tr>\n",
       "<tr>\n",
       "  <th>SPARE_SUC</th> <td>    0.1165</td> <td>    0.162</td> <td>    0.719</td> <td> 0.490</td> <td>   -0.250</td> <td>    0.483</td>\n",
       "</tr>\n",
       "</table>\n",
       "<table class=\"simpletable\">\n",
       "<tr>\n",
       "  <th>Omnibus:</th>       <td> 0.615</td> <th>  Durbin-Watson:     </th> <td>   1.596</td>\n",
       "</tr>\n",
       "<tr>\n",
       "  <th>Prob(Omnibus):</th> <td> 0.735</td> <th>  Jarque-Bera (JB):  </th> <td>   0.592</td>\n",
       "</tr>\n",
       "<tr>\n",
       "  <th>Skew:</th>          <td> 0.179</td> <th>  Prob(JB):          </th> <td>   0.744</td>\n",
       "</tr>\n",
       "<tr>\n",
       "  <th>Kurtosis:</th>      <td> 2.018</td> <th>  Cond. No.          </th> <td>    1.75</td>\n",
       "</tr>\n",
       "</table><br/><br/>Notes:<br/>[1] R² is computed without centering (uncentered) since the model does not contain a constant.<br/>[2] Standard Errors assume that the covariance matrix of the errors is correctly specified."
      ],
      "text/plain": [
       "<class 'statsmodels.iolib.summary.Summary'>\n",
       "\"\"\"\n",
       "                                 OLS Regression Results                                \n",
       "=======================================================================================\n",
       "Dep. Variable:                TOT_AVG   R-squared (uncentered):                   0.797\n",
       "Model:                            OLS   Adj. R-squared (uncentered):              0.707\n",
       "Method:                 Least Squares   F-statistic:                              8.859\n",
       "Date:                Thu, 12 May 2022   Prob (F-statistic):                     0.00348\n",
       "Time:                        14:08:02   Log-Likelihood:                         -6.6677\n",
       "No. Observations:                  13   AIC:                                      21.34\n",
       "Df Residuals:                       9   BIC:                                      23.60\n",
       "Df Model:                           4                                                  \n",
       "Covariance Type:            nonrobust                                                  \n",
       "==============================================================================\n",
       "                 coef    std err          t      P>|t|      [0.025      0.975]\n",
       "------------------------------------------------------------------------------\n",
       "CON_ST         0.6976      0.158      4.410      0.002       0.340       1.055\n",
       "L_READ        -0.1208      0.145     -0.835      0.425      -0.448       0.206\n",
       "OVERCOME       0.1992      0.128      1.558      0.154      -0.090       0.488\n",
       "SPARE_SUC      0.1165      0.162      0.719      0.490      -0.250       0.483\n",
       "==============================================================================\n",
       "Omnibus:                        0.615   Durbin-Watson:                   1.596\n",
       "Prob(Omnibus):                  0.735   Jarque-Bera (JB):                0.592\n",
       "Skew:                           0.179   Prob(JB):                        0.744\n",
       "Kurtosis:                       2.018   Cond. No.                         1.75\n",
       "==============================================================================\n",
       "\n",
       "Notes:\n",
       "[1] R² is computed without centering (uncentered) since the model does not contain a constant.\n",
       "[2] Standard Errors assume that the covariance matrix of the errors is correctly specified.\n",
       "\"\"\""
      ]
     },
     "execution_count": 137,
     "metadata": {},
     "output_type": "execute_result"
    }
   ],
   "source": [
    "lm = sm.OLS(y_train, X_train).fit()\n",
    "lm.summary()"
   ]
  },
  {
   "cell_type": "code",
   "execution_count": null,
   "metadata": {},
   "outputs": [],
   "source": []
  }
 ],
 "metadata": {
  "interpreter": {
   "hash": "1a18fea5ebbb4efe14c5d436aed141bd788cb344c3b9b44e3ee472dcedc61bab"
  },
  "kernelspec": {
   "display_name": "Python 3.8.12 ('ds_study')",
   "language": "python",
   "name": "python3"
  },
  "language_info": {
   "codemirror_mode": {
    "name": "ipython",
    "version": 3
   },
   "file_extension": ".py",
   "mimetype": "text/x-python",
   "name": "python",
   "nbconvert_exporter": "python",
   "pygments_lexer": "ipython3",
   "version": "3.8.12"
  },
  "orig_nbformat": 4
 },
 "nbformat": 4,
 "nbformat_minor": 2
}
